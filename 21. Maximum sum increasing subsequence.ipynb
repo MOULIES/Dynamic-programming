{
 "cells": [
  {
   "cell_type": "markdown",
   "id": "1c1c78a2",
   "metadata": {},
   "source": [
    "https://www.techiedelight.com/increasing-subsequence-with-maximum-sum/"
   ]
  },
  {
   "cell_type": "markdown",
   "id": "efaf9d6d",
   "metadata": {},
   "source": [
    "https://www.youtube.com/watch?v=R7DrJsTkK8w&list=PLEJXowNB4kPxBwaXtRO1qFLpCzF75DYrS&index=27\n",
    "\n",
    "https://www.pepcoding.com/resources/data-structures-and-algorithms-in-java-levelup/dynamic-programming/msis-official/ojquestion\n",
    "\n"
   ]
  },
  {
   "cell_type": "code",
   "execution_count": 1,
   "id": "6e9e5a80",
   "metadata": {},
   "outputs": [
    {
     "name": "stdout",
     "output_type": "stream",
     "text": [
      "The maximum sum of the increasing subsequence is 34\n"
     ]
    }
   ],
   "source": [
    "import math\n",
    "\n",
    "def MSIS( nums , i= 0, prev = -math.inf , s = 0 ):\n",
    "    \n",
    "    if i == len( nums ):\n",
    "        return s \n",
    "    \n",
    "    excl = MSIS( nums, i+1 ,prev , s )\n",
    "    \n",
    "    incl = s\n",
    "    if nums[i] > prev:\n",
    "        incl = MSIS( nums , i+1 , nums[i], s+nums[i])\n",
    "    \n",
    "    return max( incl, excl)\n",
    "\n",
    "\n",
    "nums = [8, 4, 12, 2, 10, 6, 14, 1, 9, 5, 13, 3, 11]\n",
    "print('The maximum sum of the increasing subsequence is', MSIS(nums))"
   ]
  },
  {
   "cell_type": "code",
   "execution_count": 2,
   "id": "80d791a4",
   "metadata": {},
   "outputs": [],
   "source": [
    "#dp"
   ]
  },
  {
   "cell_type": "code",
   "execution_count": 11,
   "id": "0d352da3",
   "metadata": {},
   "outputs": [
    {
     "name": "stdout",
     "output_type": "stream",
     "text": [
      "The maximum sum of the increasing subsequence is 34\n"
     ]
    }
   ],
   "source": [
    "def MSIS_dp( nums ):\n",
    "    n =len(nums)\n",
    "    if n == 0: return 0\n",
    "    \n",
    "    msis = [nums[i] for i in range(n) ]\n",
    "    \n",
    "    for i in range( 1, n ):\n",
    "        for j in range(i):\n",
    "            if  nums[j] < nums[i] and  msis[i] < msis[j]+nums[i]:\n",
    "                msis[i] = msis[j]+nums[i]\n",
    "                \n",
    "    return max( msis )\n",
    "\n",
    "nums = [8, 4, 12, 2, 10, 6, 14, 1, 9, 5, 13, 3, 11]\n",
    "print('The maximum sum of the increasing subsequence is', MSIS_dp(nums) )"
   ]
  },
  {
   "cell_type": "code",
   "execution_count": null,
   "id": "71f02234",
   "metadata": {},
   "outputs": [],
   "source": []
  },
  {
   "cell_type": "code",
   "execution_count": null,
   "id": "651aa500",
   "metadata": {},
   "outputs": [],
   "source": [
    "##print MSIS"
   ]
  },
  {
   "cell_type": "code",
   "execution_count": 23,
   "id": "4ae7b2e6",
   "metadata": {},
   "outputs": [
    {
     "name": "stdout",
     "output_type": "stream",
     "text": [
      "The maximum sum of the increasing subsequence is ([8, 12, 14], 34)\n"
     ]
    }
   ],
   "source": [
    "def MSIS_dp( nums ):\n",
    "    n =len(nums)\n",
    "    if n == 0: return 0\n",
    "    \n",
    "    msis = [ nums[i] for i in range(n) ]\n",
    "    \n",
    "    msis_arr = [ [nums[i]] for i in range(n) ]\n",
    "    \n",
    "    for i in range( 1, n ):\n",
    "        for j in range(i):\n",
    "            if  nums[j] < nums[i] and  msis[i]  < msis[j]+ nums[i]:\n",
    "                msis[i] = msis[j]+ nums[i] \n",
    "                msis_arr[i] = msis_arr[j] + [ nums[i] ]\n",
    "                \n",
    "    i = 0\n",
    "    for j in range(1, n):\n",
    "        if msis[i] < msis[j]:\n",
    "            i = j\n",
    "    return msis_arr[i], msis[i]\n",
    "\n",
    "nums = [8, 4, 12, 2, 10, 6, 14, 1, 9, 5, 13, 3, 11]\n",
    "print('The maximum sum of the increasing subsequence is', MSIS_dp(nums) )"
   ]
  },
  {
   "cell_type": "code",
   "execution_count": null,
   "id": "50708746",
   "metadata": {},
   "outputs": [],
   "source": []
  }
 ],
 "metadata": {
  "kernelspec": {
   "display_name": "Python 3",
   "language": "python",
   "name": "python3"
  },
  "language_info": {
   "codemirror_mode": {
    "name": "ipython",
    "version": 3
   },
   "file_extension": ".py",
   "mimetype": "text/x-python",
   "name": "python",
   "nbconvert_exporter": "python",
   "pygments_lexer": "ipython3",
   "version": "3.8.8"
  }
 },
 "nbformat": 4,
 "nbformat_minor": 5
}
