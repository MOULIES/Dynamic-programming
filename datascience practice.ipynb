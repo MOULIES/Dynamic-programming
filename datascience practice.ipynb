{
 "cells": [
  {
   "cell_type": "code",
   "execution_count": 1,
   "id": "afc56bdb",
   "metadata": {},
   "outputs": [
    {
     "name": "stdout",
     "output_type": "stream",
     "text": [
      "       Team          Pos  Age\n",
      "0   Red Sox      Pitcher   24\n",
      "1   Red Sox      Pitcher   28\n",
      "2   Red Sox      Pitcher   40\n",
      "3   Red Sox  Not Pitcher   22\n",
      "4   Red Sox  Not Pitcher   29\n",
      "5   Red Sox  Not Pitcher   33\n",
      "6   Yankees      Pitcher   31\n",
      "7   Yankees      Pitcher   26\n",
      "8   Yankees      Pitcher   21\n",
      "9   Yankees  Not Pitcher   36\n",
      "10  Yankees  Not Pitcher   25\n",
      "11  Yankees  Not Pitcher   31\n"
     ]
    }
   ],
   "source": [
    "import numpy as np\n",
    "import pandas as pd\n",
    "data = {\"Team\": [\"Red Sox\", \"Red Sox\", \"Red Sox\", \"Red Sox\", \"Red Sox\", \"Red Sox\", \"Yankees\", \"Yankees\", \"Yankees\", \"Yankees\", \"Yankees\", \"Yankees\"],\n",
    "        \"Pos\": [\"Pitcher\", \"Pitcher\", \"Pitcher\", \"Not Pitcher\", \"Not Pitcher\", \"Not Pitcher\", \"Pitcher\", \"Pitcher\", \"Pitcher\", \"Not Pitcher\", \"Not Pitcher\", \"Not Pitcher\"],\n",
    "        \"Age\": [24, 28, 40, 22, 29, 33, 31, 26, 21, 36, 25, 31]}\n",
    "df = pd.DataFrame(data)\n",
    "print(df)"
   ]
  },
  {
   "cell_type": "code",
   "execution_count": 29,
   "id": "9bd3d43a",
   "metadata": {},
   "outputs": [
    {
     "data": {
      "text/html": [
       "<div>\n",
       "<style scoped>\n",
       "    .dataframe tbody tr th:only-of-type {\n",
       "        vertical-align: middle;\n",
       "    }\n",
       "\n",
       "    .dataframe tbody tr th {\n",
       "        vertical-align: top;\n",
       "    }\n",
       "\n",
       "    .dataframe thead th {\n",
       "        text-align: right;\n",
       "    }\n",
       "</style>\n",
       "<table border=\"1\" class=\"dataframe\">\n",
       "  <thead>\n",
       "    <tr style=\"text-align: right;\">\n",
       "      <th></th>\n",
       "      <th></th>\n",
       "      <th>Age</th>\n",
       "    </tr>\n",
       "    <tr>\n",
       "      <th>Team</th>\n",
       "      <th>Pos</th>\n",
       "      <th></th>\n",
       "    </tr>\n",
       "  </thead>\n",
       "  <tbody>\n",
       "    <tr>\n",
       "      <th rowspan=\"2\" valign=\"top\">Red Sox</th>\n",
       "      <th>Not Pitcher</th>\n",
       "      <td>28.000000</td>\n",
       "    </tr>\n",
       "    <tr>\n",
       "      <th>Pitcher</th>\n",
       "      <td>30.666667</td>\n",
       "    </tr>\n",
       "    <tr>\n",
       "      <th rowspan=\"2\" valign=\"top\">Yankees</th>\n",
       "      <th>Not Pitcher</th>\n",
       "      <td>30.666667</td>\n",
       "    </tr>\n",
       "    <tr>\n",
       "      <th>Pitcher</th>\n",
       "      <td>26.000000</td>\n",
       "    </tr>\n",
       "  </tbody>\n",
       "</table>\n",
       "</div>"
      ],
      "text/plain": [
       "                           Age\n",
       "Team    Pos                   \n",
       "Red Sox Not Pitcher  28.000000\n",
       "        Pitcher      30.666667\n",
       "Yankees Not Pitcher  30.666667\n",
       "        Pitcher      26.000000"
      ]
     },
     "execution_count": 29,
     "metadata": {},
     "output_type": "execute_result"
    }
   ],
   "source": [
    "df.groupby(['Team','Pos']).mean()"
   ]
  },
  {
   "cell_type": "code",
   "execution_count": 30,
   "id": "b60bde06",
   "metadata": {},
   "outputs": [
    {
     "data": {
      "text/plain": [
       "Team     Pos        \n",
       "Red Sox  Not Pitcher    28.000000\n",
       "         Pitcher        30.666667\n",
       "Yankees  Not Pitcher    30.666667\n",
       "         Pitcher        26.000000\n",
       "Name: Age, dtype: float64"
      ]
     },
     "execution_count": 30,
     "metadata": {},
     "output_type": "execute_result"
    }
   ],
   "source": [
    "df.groupby(['Team','Pos']).mean()['Age']"
   ]
  },
  {
   "cell_type": "code",
   "execution_count": 31,
   "id": "1c2b8f53",
   "metadata": {},
   "outputs": [
    {
     "data": {
      "text/plain": [
       "MultiIndex([('Red Sox', 'Not Pitcher'),\n",
       "            ('Red Sox',     'Pitcher'),\n",
       "            ('Yankees', 'Not Pitcher'),\n",
       "            ('Yankees',     'Pitcher')],\n",
       "           names=['Team', 'Pos'])"
      ]
     },
     "execution_count": 31,
     "metadata": {},
     "output_type": "execute_result"
    }
   ],
   "source": [
    "df.groupby(['Team','Pos']).mean()['Age'].index"
   ]
  },
  {
   "cell_type": "code",
   "execution_count": 32,
   "id": "0c84c406",
   "metadata": {},
   "outputs": [
    {
     "data": {
      "text/plain": [
       "array([28.        , 30.66666667, 30.66666667, 26.        ])"
      ]
     },
     "execution_count": 32,
     "metadata": {},
     "output_type": "execute_result"
    }
   ],
   "source": [
    "df.groupby(['Team','Pos']).mean()['Age'].values"
   ]
  },
  {
   "cell_type": "code",
   "execution_count": 33,
   "id": "460a642d",
   "metadata": {},
   "outputs": [
    {
     "data": {
      "text/plain": [
       "{('Red Sox', 'Not Pitcher'): [3, 4, 5], ('Red Sox', 'Pitcher'): [0, 1, 2], ('Yankees', 'Not Pitcher'): [9, 10, 11], ('Yankees', 'Pitcher'): [6, 7, 8]}"
      ]
     },
     "execution_count": 33,
     "metadata": {},
     "output_type": "execute_result"
    }
   ],
   "source": [
    "df.groupby(['Team','Pos']).groups"
   ]
  },
  {
   "cell_type": "code",
   "execution_count": 27,
   "id": "c82ccbec",
   "metadata": {},
   "outputs": [
    {
     "data": {
      "text/plain": [
       "{('Red Sox', 'Not Pitcher'): [3, 4, 5], ('Red Sox', 'Pitcher'): [0, 1, 2], ('Yankees', 'Not Pitcher'): [9, 10, 11], ('Yankees', 'Pitcher'): [6, 7, 8]}"
      ]
     },
     "execution_count": 27,
     "metadata": {},
     "output_type": "execute_result"
    }
   ],
   "source": [
    "df.groupby(['Team','Pos'])['Age'].groups"
   ]
  },
  {
   "cell_type": "code",
   "execution_count": 35,
   "id": "d6cd638b",
   "metadata": {},
   "outputs": [
    {
     "data": {
      "text/html": [
       "<div>\n",
       "<style scoped>\n",
       "    .dataframe tbody tr th:only-of-type {\n",
       "        vertical-align: middle;\n",
       "    }\n",
       "\n",
       "    .dataframe tbody tr th {\n",
       "        vertical-align: top;\n",
       "    }\n",
       "\n",
       "    .dataframe thead tr th {\n",
       "        text-align: left;\n",
       "    }\n",
       "\n",
       "    .dataframe thead tr:last-of-type th {\n",
       "        text-align: right;\n",
       "    }\n",
       "</style>\n",
       "<table border=\"1\" class=\"dataframe\">\n",
       "  <thead>\n",
       "    <tr>\n",
       "      <th></th>\n",
       "      <th colspan=\"3\" halign=\"left\">Age</th>\n",
       "    </tr>\n",
       "    <tr>\n",
       "      <th></th>\n",
       "      <th>mean</th>\n",
       "      <th>min</th>\n",
       "      <th>max</th>\n",
       "    </tr>\n",
       "    <tr>\n",
       "      <th>Team</th>\n",
       "      <th></th>\n",
       "      <th></th>\n",
       "      <th></th>\n",
       "    </tr>\n",
       "  </thead>\n",
       "  <tbody>\n",
       "    <tr>\n",
       "      <th>Red Sox</th>\n",
       "      <td>29.333333</td>\n",
       "      <td>22</td>\n",
       "      <td>40</td>\n",
       "    </tr>\n",
       "    <tr>\n",
       "      <th>Yankees</th>\n",
       "      <td>28.333333</td>\n",
       "      <td>21</td>\n",
       "      <td>36</td>\n",
       "    </tr>\n",
       "  </tbody>\n",
       "</table>\n",
       "</div>"
      ],
      "text/plain": [
       "               Age        \n",
       "              mean min max\n",
       "Team                      \n",
       "Red Sox  29.333333  22  40\n",
       "Yankees  28.333333  21  36"
      ]
     },
     "execution_count": 35,
     "metadata": {},
     "output_type": "execute_result"
    }
   ],
   "source": [
    "grouped_single = df.groupby('Team').agg({'Age': ['mean', 'min', 'max']})\n",
    "grouped_single"
   ]
  },
  {
   "cell_type": "code",
   "execution_count": 3,
   "id": "ff2e7e55",
   "metadata": {},
   "outputs": [
    {
     "name": "stdout",
     "output_type": "stream",
     "text": [
      "31 67 2\n"
     ]
    }
   ],
   "source": [
    "def isPrime(n):\n",
    "    \n",
    "    if n <=1 : return False\n",
    "    import math\n",
    "    end = int(math.sqrt(n))\n",
    "    \n",
    "    for i in range(2 , end + 1):\n",
    "        if n% i == 0:\n",
    "            return False\n",
    "    return True\n",
    "\n",
    "for i in range( 3,91,2):\n",
    "    if isPrime(i) and isPrime(i+36) and isPrime(64 -(2*i)):\n",
    "        print( i , i+36, 64-(2*i))\n",
    "    "
   ]
  },
  {
   "cell_type": "code",
   "execution_count": null,
   "id": "4da8f362",
   "metadata": {},
   "outputs": [],
   "source": [
    "11 47"
   ]
  }
 ],
 "metadata": {
  "kernelspec": {
   "display_name": "Python 3",
   "language": "python",
   "name": "python3"
  },
  "language_info": {
   "codemirror_mode": {
    "name": "ipython",
    "version": 3
   },
   "file_extension": ".py",
   "mimetype": "text/x-python",
   "name": "python",
   "nbconvert_exporter": "python",
   "pygments_lexer": "ipython3",
   "version": "3.8.8"
  }
 },
 "nbformat": 4,
 "nbformat_minor": 5
}
