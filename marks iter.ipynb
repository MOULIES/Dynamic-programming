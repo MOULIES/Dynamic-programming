{
 "cells": [
  {
   "cell_type": "code",
   "execution_count": 1,
   "id": "185162db",
   "metadata": {},
   "outputs": [],
   "source": [
    "def main( lines ):\n",
    "    m, lk = list( map( int, lines[0].split() ) )\n",
    "    n    =  int(lines[1] ) \n",
    "    arr = []\n",
    "    for i in range(2,2+n):\n",
    "        arr.append(  lines[i].split() )\n",
    "    \n",
    "    a = []\n",
    "    for k in arr:\n",
    "        if int(k[2]) <= lk and int(k[1]) <= m :\n",
    "            a.append( ( k[0] , k[1] ) )\n",
    "\n",
    "    for i in a :\n",
    "        print( *i )"
   ]
  },
  {
   "cell_type": "code",
   "execution_count": 2,
   "id": "f60bcaa7",
   "metadata": {},
   "outputs": [
    {
     "name": "stdout",
     "output_type": "stream",
     "text": [
      "potion 50\n",
      "stick 70\n"
     ]
    }
   ],
   "source": [
    "lines= [  '300 20',\n",
    "          '4',\n",
    "       'sword 400 10',\n",
    "       'potion 50 1',\n",
    "       'spear 250 25',\n",
    "       'stick 70 1']\n",
    "\n",
    "main(lines)"
   ]
  },
  {
   "cell_type": "code",
   "execution_count": 3,
   "id": "9d1c3ef5",
   "metadata": {},
   "outputs": [
    {
     "name": "stdout",
     "output_type": "stream",
     "text": [
      "sword 400\n",
      "potion 50\n",
      "spear 250\n",
      "stick 70\n"
     ]
    }
   ],
   "source": [
    "lines= [  '900000 70' ,\n",
    "          '7',\n",
    "       'sword 400 10' ,\n",
    "       'potion 50 1' ,\n",
    "       'spear 250 25' ,\n",
    "       'stick 70 1' ,\n",
    "       'vocalibur 700000 100' ,\n",
    "       'svalion 500000 80' ,\n",
    "       'spacership 1000000 70' ]\n",
    "\n",
    "main(lines)"
   ]
  },
  {
   "cell_type": "code",
   "execution_count": null,
   "id": "eabaa602",
   "metadata": {},
   "outputs": [],
   "source": []
  }
 ],
 "metadata": {
  "kernelspec": {
   "display_name": "Python 3",
   "language": "python",
   "name": "python3"
  },
  "language_info": {
   "codemirror_mode": {
    "name": "ipython",
    "version": 3
   },
   "file_extension": ".py",
   "mimetype": "text/x-python",
   "name": "python",
   "nbconvert_exporter": "python",
   "pygments_lexer": "ipython3",
   "version": "3.8.8"
  }
 },
 "nbformat": 4,
 "nbformat_minor": 5
}
