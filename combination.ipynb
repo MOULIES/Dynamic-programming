{
 "cells": [
  {
   "cell_type": "code",
   "execution_count": 1,
   "id": "906f5d6c",
   "metadata": {},
   "outputs": [],
   "source": [
    "#combination recursive"
   ]
  },
  {
   "cell_type": "code",
   "execution_count": null,
   "id": "420066f2",
   "metadata": {},
   "outputs": [],
   "source": [
    "def custom_combinations(lst, n):\n",
    "    if n == 0:\n",
    "        return [[]]\n",
    "      \n",
    "    l =\"\"\n",
    "    for i in range(0, len(lst)):    \n",
    "        m = lst[i]\n",
    "        remLst = lst[i + 1:]\n",
    "        z = custom_combinations(remLst, n-1) \n",
    "        for p in z :\n",
    "            l.append([m]+p)   \n",
    "    return l"
   ]
  }
 ],
 "metadata": {
  "kernelspec": {
   "display_name": "Python 3",
   "language": "python",
   "name": "python3"
  },
  "language_info": {
   "codemirror_mode": {
    "name": "ipython",
    "version": 3
   },
   "file_extension": ".py",
   "mimetype": "text/x-python",
   "name": "python",
   "nbconvert_exporter": "python",
   "pygments_lexer": "ipython3",
   "version": "3.8.8"
  }
 },
 "nbformat": 4,
 "nbformat_minor": 5
}
