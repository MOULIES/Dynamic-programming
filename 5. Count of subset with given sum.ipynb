{
 "cells": [
  {
   "cell_type": "markdown",
   "id": "dba495c0",
   "metadata": {},
   "source": [
    "variation of :\n",
    "\n",
    "**0/1 knapsack**\n",
    "\n",
    "**subset sum**\n",
    "\n",
    "**dp**\n",
    "\n",
    "**minimum difference subset**\n",
    "\n",
    "https://www.youtube.com/watch?v=MqYLmIzl8sQ&list=PLEJXowNB4kPxBwaXtRO1qFLpCzF75DYrS&index=10"
   ]
  },
  {
   "cell_type": "code",
   "execution_count": 1,
   "id": "c559bc60",
   "metadata": {},
   "outputs": [],
   "source": [
    "def  countSubsetSum( arr ,  n,  total):\n",
    "#     base cases\n",
    "    if total == 0 : return 1\n",
    "    \n",
    "    if n==0 and total != 0 : return 0\n",
    "    \n",
    "    if total < arr[n-1]:\n",
    "        return countSubsetSum( arr ,  n-1 ,  total )\n",
    "    else:\n",
    "        return countSubsetSum( arr ,  n-1 ,  total ) +  countSubsetSum( arr ,  n-1 ,  total - arr[n-1] )"
   ]
  },
  {
   "cell_type": "code",
   "execution_count": 6,
   "id": "2db15708",
   "metadata": {},
   "outputs": [
    {
     "data": {
      "text/plain": [
       "3"
      ]
     },
     "execution_count": 6,
     "metadata": {},
     "output_type": "execute_result"
    }
   ],
   "source": [
    "arr= [3,1,2,3]\n",
    "n = len(arr)\n",
    "s = 6\n",
    "countSubsetSum(arr , n, s)"
   ]
  },
  {
   "cell_type": "code",
   "execution_count": 3,
   "id": "411d94d0",
   "metadata": {},
   "outputs": [],
   "source": [
    "def countSubsetSum_dp(arr , n, summ):\n",
    "     \n",
    "    dp =[ [0]*(summ + 1) for i in range(n + 1) ]\n",
    "     \n",
    "    # If sum is 0, then answer is true\n",
    "    for i in range(n + 1):\n",
    "        dp[i][0] = 1\n",
    "             \n",
    "    # Fill the subset table in bottom up manner\n",
    "    for i in range(1, n + 1):\n",
    "        for j in range(1, summ + 1):\n",
    "            if j< arr[i-1]:\n",
    "                dp[i][j] = dp[i-1][j]\n",
    "            else:\n",
    "                dp[i][j] = ( dp[i-1][j] +  dp[i - 1][j-arr[i-1]] )\n",
    "                \n",
    "#     for i in dp:\n",
    "#         print(i)\n",
    "    return dp[-1][-1]"
   ]
  },
  {
   "cell_type": "code",
   "execution_count": 4,
   "id": "18f27dc5",
   "metadata": {},
   "outputs": [
    {
     "data": {
      "text/plain": [
       "3"
      ]
     },
     "execution_count": 4,
     "metadata": {},
     "output_type": "execute_result"
    }
   ],
   "source": [
    "arr= [3,1,2,3]\n",
    "n = len(arr)\n",
    "s = 6\n",
    "countSubsetSum_dp(arr , n, s)"
   ]
  },
  {
   "cell_type": "code",
   "execution_count": null,
   "id": "29fef9a0",
   "metadata": {},
   "outputs": [],
   "source": []
  }
 ],
 "metadata": {
  "kernelspec": {
   "display_name": "Python 3",
   "language": "python",
   "name": "python3"
  },
  "language_info": {
   "codemirror_mode": {
    "name": "ipython",
    "version": 3
   },
   "file_extension": ".py",
   "mimetype": "text/x-python",
   "name": "python",
   "nbconvert_exporter": "python",
   "pygments_lexer": "ipython3",
   "version": "3.8.8"
  }
 },
 "nbformat": 4,
 "nbformat_minor": 5
}
