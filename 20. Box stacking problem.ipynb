{
 "cells": [
  {
   "cell_type": "markdown",
   "id": "2bdc97e4",
   "metadata": {},
   "source": [
    "LIS#\n",
    "\n",
    "https://www.youtube.com/watch?v=kLucR6-Q0GA\n",
    "\n"
   ]
  },
  {
   "cell_type": "code",
   "execution_count": 1,
   "id": "fbc1d378",
   "metadata": {},
   "outputs": [],
   "source": [
    "def maxHeight( cuboids):\n",
    "    \n",
    "    n = len( cuboids )\n",
    "    \n",
    "    for c in cuboids:\n",
    "        c.sort()\n",
    "#         print( c )  \n",
    "    cuboids.sort()\n",
    "#     print( cuboids )  \n",
    "    dp = [0]*n\n",
    "    \n",
    "    for i in range( n ):\n",
    "        dp[i] = cuboids[i][2]\n",
    "        for j in range(i):\n",
    "            if cuboids[j][1] <= cuboids[i][1] and cuboids[j][2] <= cuboids[i][2] :\n",
    "                dp[i] = max( dp[i], dp[j]+ cuboids[i][2])\n",
    "    return max(dp)"
   ]
  },
  {
   "cell_type": "code",
   "execution_count": 2,
   "id": "7afa4634",
   "metadata": {},
   "outputs": [
    {
     "name": "stdout",
     "output_type": "stream",
     "text": [
      "190\n",
      "76\n",
      "102\n"
     ]
    }
   ],
   "source": [
    "# cuboids[i] = [widthi, lengthi, heighti]\n",
    "cuboids = [ [50,45,20],[95,37,53],[45,23,12]]\n",
    "print( maxHeight( cuboids))\n",
    "\n",
    "cuboids = [[38,25,45],[76,35,3]]\n",
    "print( maxHeight( cuboids))\n",
    "\n",
    "cuboids = [[7,11,17],[7,17,11],[11,7,17],[11,17,7],[17,7,11],[17,11,7]]\n",
    "print( maxHeight( cuboids ))"
   ]
  },
  {
   "cell_type": "code",
   "execution_count": 3,
   "id": "94c827b3",
   "metadata": {},
   "outputs": [
    {
     "data": {
      "text/plain": [
       "17"
      ]
     },
     "execution_count": 3,
     "metadata": {},
     "output_type": "execute_result"
    }
   ],
   "source": [
    "boxes = [[ 2, 4, 5], [ 1,3, 6], [ 2,3, 1], [ 3, 6, 8] ]\n",
    "maxHeight( boxes)"
   ]
  },
  {
   "cell_type": "markdown",
   "id": "14adf9a8",
   "metadata": {},
   "source": [
    "## dp"
   ]
  },
  {
   "cell_type": "markdown",
   "id": "59194836",
   "metadata": {},
   "source": [
    "https://www.techiedelight.com/box-stacking-problem/"
   ]
  },
  {
   "cell_type": "code",
   "execution_count": 4,
   "id": "330705a1",
   "metadata": {},
   "outputs": [],
   "source": [
    "class Box:\n",
    "    def __init__(self, h, w , l):\n",
    "        self.h = h\n",
    "        self.w = w\n",
    "        self.l = l\n",
    "\n",
    "        \n",
    "def createAllBoxes( boxes ):\n",
    "    \n",
    "    r = []\n",
    "    \n",
    "    for box in boxes:\n",
    "        # push the original box: L × W × H\n",
    "        r.append( Box(  box.h,  max(box.l, box.w)  ,  min(box.l, box.w)    ) )\n",
    "        \n",
    "#         r.append(box)\n",
    "        # push the first rotation: max(L, H) × min(L, H) × W\n",
    "        r.append( Box( box.w , max(box.l, box.h)  ,  min(box.l, box.h)     ) )\n",
    "        \n",
    "        # push the first rotation: max(L, H) × min(L, H) × W\n",
    "        r.append( Box( box.l, max(box.w, box.h)   , min(box.w , box.h)      ) )\n",
    "        \n",
    "    return r\n",
    "\n",
    "\n",
    "def findMaxHeight2(boxes):\n",
    "    #box(h,w,l)\n",
    "    boxes = [ Box(i[0],i[1],i[2]) for i in boxes]\n",
    "    \n",
    "    arr = createAllBoxes( boxes )\n",
    "    \n",
    "    arr.sort( key = lambda x: x.l * x.w  , reverse = True )\n",
    "    \n",
    "    n = len(arr)\n",
    "    lis = [ arr[i].h  for i in range(n) ] \n",
    "    \n",
    "    for i in range(1,n):\n",
    "        for j in range(i):\n",
    "            if arr[i].l < arr[j].l and arr[i].w < arr[j].w  and lis[i] < ( lis[j]+ arr[i].h) :\n",
    "                lis[i] = lis[j] + arr[i].h\n",
    "    return max( lis )"
   ]
  },
  {
   "cell_type": "code",
   "execution_count": 5,
   "id": "56c55b2f",
   "metadata": {},
   "outputs": [
    {
     "name": "stdout",
     "output_type": "stream",
     "text": [
      "60\n"
     ]
    }
   ],
   "source": [
    "#box [h,w,l]\n",
    "boxes  = [[ 4,6,7],\n",
    "         [1,2,3],\n",
    "         [4,5,6],\n",
    "         [10,12,32]]\n",
    "print( findMaxHeight2( boxes) )"
   ]
  },
  {
   "cell_type": "code",
   "execution_count": 6,
   "id": "e08bf9c6",
   "metadata": {},
   "outputs": [
    {
     "name": "stdout",
     "output_type": "stream",
     "text": [
      "15\n"
     ]
    }
   ],
   "source": [
    "# height[] = {1,4,3}\n",
    "# width[] = {2,5,4}\n",
    "# length[] = {3,6,1}\n",
    "\n",
    "boxes = [[1,2,3],\n",
    "        [4,5,6],\n",
    "        [3,4,1]] \n",
    "print( findMaxHeight2( boxes) )"
   ]
  },
  {
   "cell_type": "code",
   "execution_count": null,
   "id": "a52480cd",
   "metadata": {},
   "outputs": [],
   "source": []
  },
  {
   "cell_type": "code",
   "execution_count": null,
   "id": "bc125878",
   "metadata": {},
   "outputs": [],
   "source": []
  }
 ],
 "metadata": {
  "kernelspec": {
   "display_name": "Python 3",
   "language": "python",
   "name": "python3"
  },
  "language_info": {
   "codemirror_mode": {
    "name": "ipython",
    "version": 3
   },
   "file_extension": ".py",
   "mimetype": "text/x-python",
   "name": "python",
   "nbconvert_exporter": "python",
   "pygments_lexer": "ipython3",
   "version": "3.8.8"
  }
 },
 "nbformat": 4,
 "nbformat_minor": 5
}
