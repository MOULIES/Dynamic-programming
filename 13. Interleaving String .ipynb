{
 "cells": [
  {
   "cell_type": "markdown",
   "id": "39d4acbc",
   "metadata": {},
   "source": [
    "https://www.youtube.com/watch?v=EzQ_YEmR598&list=PLEJXowNB4kPxBwaXtRO1qFLpCzF75DYrS&index=18"
   ]
  },
  {
   "cell_type": "code",
   "execution_count": null,
   "id": "5259eb4c",
   "metadata": {},
   "outputs": [],
   "source": [
    "#method -1 "
   ]
  },
  {
   "cell_type": "code",
   "execution_count": 15,
   "id": "0eb13fcb",
   "metadata": {},
   "outputs": [],
   "source": [
    "def isInterleaveString( s1, s2 ,s3 ):\n",
    "    len1 = len(s1)\n",
    "    len2 = len(s2)\n",
    "    len3 = len( s3 )\n",
    "    if len3 != len1 +len2:\n",
    "        return False\n",
    "    \n",
    "    mem = {}\n",
    "    def check( p1 , p2, p3):\n",
    "        if p3 == len3 :\n",
    "            return  True if p1 == len1 and p2 == len2 else False\n",
    "        \n",
    "        key = ( p1,p2,p3 )\n",
    "        \n",
    "        if key in mem: return mem[key]\n",
    "        \n",
    "        if p1 == len1 :\n",
    "            mem[key] =  check(  p1 ,p2+1 , p3+1 ) if s2[p2] == s3[p3] else False\n",
    "            return  mem[key]\n",
    "        \n",
    "        if p2 == len2 :\n",
    "            mem[key] =  check(  p1+1 ,p2 , p3+1 ) if s1[p1] == s3[p3] else False\n",
    "            return mem[key]\n",
    "        \n",
    "        \n",
    "        one , two = False, False\n",
    "        if s1[p1] == s3[p3]:\n",
    "            one =  check(  p1+1 ,p2 , p3+1 )\n",
    "        if s2[p2] == s3[p3]:\n",
    "            two = check(  p1 ,p2+1 , p3+1 )\n",
    "        \n",
    "        mem[key] = one or two\n",
    "        return mem[key]\n",
    "    \n",
    "    return check(  0 ,0 ,0 )"
   ]
  },
  {
   "cell_type": "code",
   "execution_count": 20,
   "id": "a12a1eb4",
   "metadata": {},
   "outputs": [],
   "source": [
    "def isInterleaveString( s1, s2 ,s3 ):\n",
    "    len1 = len(s1)\n",
    "    len2 = len(s2)\n",
    "    len3 = len( s3 )\n",
    "    if len3 != len1 +len2:\n",
    "        return False\n",
    "    \n",
    "    dp = {}\n",
    "    def dfs(i , j):\n",
    "        if i == len(s1) and j == len(s2):\n",
    "            return True\n",
    "        \n",
    "        key = (i,j)\n",
    "        if key in dp:\n",
    "            return dp[key]\n",
    "        \n",
    "        if  i < len1  and s1[i] == s3[i+j] and dfs(i+1 , j ):\n",
    "            return True \n",
    "        if j < len2 and s2[j] == s3[i+j] and dfs( i , j+1 ):\n",
    "            return True\n",
    "        \n",
    "        dp[key] = False\n",
    "        \n",
    "        return dp[key]\n",
    "    \n",
    "    return dfs(  0 ,0  )"
   ]
  },
  {
   "cell_type": "code",
   "execution_count": 21,
   "id": "4a7f517b",
   "metadata": {},
   "outputs": [
    {
     "data": {
      "text/plain": [
       "True"
      ]
     },
     "execution_count": 21,
     "metadata": {},
     "output_type": "execute_result"
    }
   ],
   "source": [
    "s1 = \"aa\"\n",
    "s2 = \"bb\"\n",
    "s3 = \"abab\"\n",
    "\n",
    "isInterleaveString( s1, s2 ,s3 )"
   ]
  },
  {
   "cell_type": "code",
   "execution_count": 22,
   "id": "23d5901a",
   "metadata": {},
   "outputs": [
    {
     "data": {
      "text/plain": [
       "True"
      ]
     },
     "execution_count": 22,
     "metadata": {},
     "output_type": "execute_result"
    }
   ],
   "source": [
    "s1 = \"aabcc\"\n",
    "s2 = \"dbbca\"\n",
    "s3 = \"aadbbcbcac\"\n",
    "\n",
    "isInterleaveString( s1, s2 ,s3 )"
   ]
  },
  {
   "cell_type": "code",
   "execution_count": 23,
   "id": "26495dd9",
   "metadata": {},
   "outputs": [
    {
     "data": {
      "text/plain": [
       "False"
      ]
     },
     "execution_count": 23,
     "metadata": {},
     "output_type": "execute_result"
    }
   ],
   "source": [
    "s1 = \"aabcc\"\n",
    "s2 = \"dbbca\"\n",
    "s3 = \"aadbbbaccc\"\n",
    "\n",
    "isInterleaveString( s1, s2 ,s3 )"
   ]
  },
  {
   "cell_type": "markdown",
   "id": "1c43a4ec",
   "metadata": {},
   "source": [
    "## dp"
   ]
  },
  {
   "cell_type": "code",
   "execution_count": 26,
   "id": "fb9067c4",
   "metadata": {},
   "outputs": [],
   "source": [
    "def isInterleave_dp( s1, s2 ,s3 ):\n",
    "    len1 = len(s1)\n",
    "    len2 = len(s2)\n",
    "    len3 = len( s3 )\n",
    "    if len3 != len1 +len2:\n",
    "        return False\n",
    "    \n",
    "    dp = [  [False]*( len2+1) for _ in range( len1 +1 )]\n",
    "    \n",
    "    dp[len1][len2] = True\n",
    "    \n",
    "    for i in range( len1 , -1, -1 ):\n",
    "        for j in range( len2 , -1 , -1):\n",
    "            if i <  len1 and s1[i] == s3[i+j] and dp[i+1][j]:\n",
    "                dp[i][j] = True\n",
    "            if j < len2 and s2[j] == s3[i+j] and dp[i][j+1]:\n",
    "                dp[i][j] = True\n",
    "    return dp[0][0]"
   ]
  },
  {
   "cell_type": "code",
   "execution_count": 27,
   "id": "7616ee59",
   "metadata": {},
   "outputs": [
    {
     "data": {
      "text/plain": [
       "True"
      ]
     },
     "execution_count": 27,
     "metadata": {},
     "output_type": "execute_result"
    }
   ],
   "source": [
    "s1 = \"aabcc\"\n",
    "s2 = \"dbbca\"\n",
    "s3 = \"aadbbcbcac\"\n",
    "\n",
    "isInterleave_dp( s1, s2 ,s3 )"
   ]
  },
  {
   "cell_type": "code",
   "execution_count": 28,
   "id": "8096e141",
   "metadata": {},
   "outputs": [
    {
     "data": {
      "text/plain": [
       "False"
      ]
     },
     "execution_count": 28,
     "metadata": {},
     "output_type": "execute_result"
    }
   ],
   "source": [
    "s1 = \"aabcc\"\n",
    "s2 = \"dbbca\"\n",
    "s3 = \"aadbbbaccc\"\n",
    "\n",
    "isInterleaveString( s1, s2 ,s3 )"
   ]
  },
  {
   "cell_type": "code",
   "execution_count": null,
   "id": "7e0ae5d0",
   "metadata": {},
   "outputs": [],
   "source": []
  }
 ],
 "metadata": {
  "kernelspec": {
   "display_name": "Python 3",
   "language": "python",
   "name": "python3"
  },
  "language_info": {
   "codemirror_mode": {
    "name": "ipython",
    "version": 3
   },
   "file_extension": ".py",
   "mimetype": "text/x-python",
   "name": "python",
   "nbconvert_exporter": "python",
   "pygments_lexer": "ipython3",
   "version": "3.8.8"
  }
 },
 "nbformat": 4,
 "nbformat_minor": 5
}
