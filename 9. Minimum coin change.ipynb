{
 "cells": [
  {
   "cell_type": "markdown",
   "id": "a65b4292",
   "metadata": {},
   "source": [
    "## Greedy Algorithm"
   ]
  },
  {
   "cell_type": "code",
   "execution_count": 158,
   "id": "e6d14dc7",
   "metadata": {},
   "outputs": [],
   "source": [
    "def num_coins(cents, coins ):\n",
    "    coins.sort( reverse= True)\n",
    "    count = 0\n",
    "    for coin in coins:\n",
    "        while cents >= coin:\n",
    "            cents = cents - coin\n",
    "            count = count + 1\n",
    "    return count"
   ]
  },
  {
   "cell_type": "code",
   "execution_count": 159,
   "id": "fb8ce154",
   "metadata": {},
   "outputs": [
    {
     "name": "stdout",
     "output_type": "stream",
     "text": [
      "4\n"
     ]
    }
   ],
   "source": [
    "w = 32\n",
    "coins = [25, 10, 5,1]\n",
    "print(num_coins(w, coins))"
   ]
  },
  {
   "cell_type": "code",
   "execution_count": 160,
   "id": "0f107bad",
   "metadata": {},
   "outputs": [
    {
     "name": "stdout",
     "output_type": "stream",
     "text": [
      "3\n"
     ]
    }
   ],
   "source": [
    "w = 11\n",
    "coins = [ 1,5,6,9]\n",
    "print(num_coins(w, coins) )   # 9,1,1 - in greedy but this is wrong/ not optimal bcz 5,6 is the right denominations"
   ]
  },
  {
   "cell_type": "markdown",
   "id": "7533c4d4",
   "metadata": {},
   "source": [
    "## Dynamic programming - I\n",
    "\n",
    "https://runestone.academy/runestone/books/published/pythonds/Recursion/DynamicProgramming.html"
   ]
  },
  {
   "cell_type": "markdown",
   "id": "c9a8be66",
   "metadata": {},
   "source": [
    "space : O(n * c)\n",
    "\n",
    "time : O( n*c) where c-  length of coins array"
   ]
  },
  {
   "cell_type": "code",
   "execution_count": 165,
   "id": "3d7c67e8",
   "metadata": {},
   "outputs": [],
   "source": [
    "def coin_denomination_count( dp , coins ):\n",
    "    mem = { i : 0 for i in coins}\n",
    "    \n",
    "    i = len(dp) -1\n",
    "    j = len( dp[0]) -1\n",
    "    while j != 0 :\n",
    "        if dp[i][j] != dp[i-1][j] :\n",
    "            mem[ coins[i-1] ] +=1\n",
    "            j = j - coins[i-1]\n",
    "        else: \n",
    "            i = i-1\n",
    "    return mem\n",
    "\n",
    "def minCoinChange( coins, amount ):\n",
    "    n = len( coins)\n",
    "    import math\n",
    "    inf = math.inf\n",
    "    dp= [ [0]*(amount+1) for _ in range( n+1)]\n",
    "    \n",
    "    for i in range( 1, amount+1):\n",
    "        dp[0][i] = inf\n",
    "\n",
    "    for i in range(1, n + 1 ):\n",
    "        for j in range(1, amount + 1 ):\n",
    "            if  j < coins[i-1] :\n",
    "                dp[i][j] = dp[i-1][j]\n",
    "            else:\n",
    "                dp[i][j] = min( dp[i-1][j] , 1 + dp[i][j - coins[i-1]] )          \n",
    "    \n",
    "    res = coin_denomination_count( dp , coins)\n",
    "    print( res)\n",
    "    return dp[-1][-1] if dp[-1][-1] != inf else -1  "
   ]
  },
  {
   "cell_type": "code",
   "execution_count": 166,
   "id": "8035432e",
   "metadata": {},
   "outputs": [
    {
     "name": "stdout",
     "output_type": "stream",
     "text": [
      "{1: 0, 5: 0, 6: 0, 9: 9}\n"
     ]
    },
    {
     "data": {
      "text/plain": [
       "9"
      ]
     },
     "execution_count": 166,
     "metadata": {},
     "output_type": "execute_result"
    }
   ],
   "source": [
    "coins = [1,5,6,9]\n",
    "w = 81\n",
    "minCoinChange( coins, w )"
   ]
  },
  {
   "cell_type": "code",
   "execution_count": 146,
   "id": "a755f9d9",
   "metadata": {},
   "outputs": [],
   "source": [
    "\n",
    "    "
   ]
  },
  {
   "cell_type": "code",
   "execution_count": null,
   "id": "c5bf8669",
   "metadata": {},
   "outputs": [],
   "source": []
  },
  {
   "cell_type": "code",
   "execution_count": 106,
   "id": "6a228d89",
   "metadata": {},
   "outputs": [],
   "source": [
    "\n",
    "def minCoinChange1( coins, amount ):\n",
    "    n = len( coins)\n",
    "    import math\n",
    "    inf = math.inf\n",
    "    dp= [ [0]*(amount+1) for _ in range( n)]\n",
    "    \n",
    "    for i in range( n ):\n",
    "        for j in range( 1 , amount+1  ):\n",
    "            if i == 0:\n",
    "                if  j % coins[i] == 0:\n",
    "                    dp[i][j] =  1 + dp[i] [j- coins[i]]\n",
    "                else:\n",
    "                    dp[i][j] = inf\n",
    "                continue          \n",
    "            if  j < coins[i] :\n",
    "                dp[i][j] = dp[i-1][j]\n",
    "            else:\n",
    "                dp[i][j] = min( dp[i-1][j] , 1 + dp[i][j - coins[i]] )\n",
    "\n",
    "    return dp[-1][-1]\n"
   ]
  },
  {
   "cell_type": "code",
   "execution_count": 107,
   "id": "8a7a089d",
   "metadata": {},
   "outputs": [
    {
     "data": {
      "text/plain": [
       "2"
      ]
     },
     "execution_count": 107,
     "metadata": {},
     "output_type": "execute_result"
    }
   ],
   "source": [
    "coins = [5,6,9]\n",
    "w = 10\n",
    "minCoinChange1( coins, w )"
   ]
  },
  {
   "cell_type": "code",
   "execution_count": 122,
   "id": "8451d610",
   "metadata": {},
   "outputs": [
    {
     "name": "stdout",
     "output_type": "stream",
     "text": [
      "[0, 1, 2, 3, 4, 1, 2, 3, 4, 5, 2]\n",
      "[0, 1, 2, 3, 4, 1, 1, 2, 3, 4, 2]\n",
      "[0, 1, 2, 3, 4, 1, 1, 2, 3, 1, 2]\n"
     ]
    },
    {
     "data": {
      "text/plain": [
       "2"
      ]
     },
     "execution_count": 122,
     "metadata": {},
     "output_type": "execute_result"
    }
   ],
   "source": [
    "'''\n",
    "Tutorial Video:\n",
    "https://youtu.be/m2Elp9ubY3w\n",
    "\n",
    "Description:\n",
    "Return most effective change with user decided coin values\n",
    "'''\n",
    "\n",
    "\n",
    "def _change_matrix(coin_set, change_amount):\n",
    "    matrix = [[0 for m in range(change_amount + 1)] for m in range(len(coin_set) + 1)]\n",
    "    for i in range(change_amount + 1):\n",
    "        matrix[0][i] = i\n",
    "    return matrix\n",
    "\n",
    "# Function we'll use to optimize the default above matrix\n",
    "def change_making(coins, change):\n",
    "    matrix = _change_matrix(coins, change)\n",
    "    for c in range(1, len(coins) + 1):\n",
    "        for r in range(1, change + 1):\n",
    "#             print(  c-1 , r)\n",
    "            if coins[c-1] == r:\n",
    "                matrix[c][r] = 1\n",
    "\n",
    "            elif coins[c-1] > r:\n",
    "                matrix[c][r] = matrix[c-1][r]\n",
    "\n",
    "            else:\n",
    "                matrix[c][r] = min(matrix[c - 1][r], 1 + matrix[c][r - coins[c - 1]])\n",
    "        print( matrix[c] )\n",
    "    return matrix[-1][-1]\n",
    "\n",
    "\n",
    "# print(change_making([1,10,25], 86))\n",
    "coins = [5,6,9]\n",
    "w = 10\n",
    "change_making( coins, w )"
   ]
  },
  {
   "cell_type": "code",
   "execution_count": null,
   "id": "f6b89cc0",
   "metadata": {},
   "outputs": [],
   "source": []
  },
  {
   "cell_type": "markdown",
   "id": "55b92212",
   "metadata": {},
   "source": [
    "## Dynamic Programmin - II"
   ]
  },
  {
   "cell_type": "markdown",
   "id": "754facac",
   "metadata": {},
   "source": [
    "https://www.youtube.com/watch?v=H9bfqozjoqs&t=8s - code\n",
    "\n",
    "space : O(n)\n",
    "\n",
    "time : O( n*c) where c- denomination length"
   ]
  },
  {
   "cell_type": "code",
   "execution_count": 13,
   "id": "657746eb",
   "metadata": {},
   "outputs": [],
   "source": [
    "def coinChange( coins, amount):\n",
    "    dp = [amount+1] *( amount+1)\n",
    "    dp[0] = 0\n",
    "    \n",
    "    for c in coins:\n",
    "        for a in range(1, amount +1 ):\n",
    "            if a >= c :\n",
    "                dp[a] = min( dp[a],  1+dp[a-c] )\n",
    "#     print( dp )\n",
    "    return dp[-1] if dp[-1] != amount +1 else -1\n",
    "                "
   ]
  },
  {
   "cell_type": "code",
   "execution_count": 14,
   "id": "85a47f00",
   "metadata": {},
   "outputs": [
    {
     "name": "stdout",
     "output_type": "stream",
     "text": [
      "2\n",
      "2\n",
      "1\n"
     ]
    }
   ],
   "source": [
    "coins = [1,5,6,9]\n",
    "w = 11\n",
    "print( coinChange( coins, w ) )\n",
    "\n",
    "coins = [1,5,9]\n",
    "w = 10\n",
    "print( coinChange( coins, w ) )\n",
    "\n",
    "coins = [2,4]\n",
    "w = 4\n",
    "print( coinChange( coins, w ) )"
   ]
  },
  {
   "cell_type": "code",
   "execution_count": null,
   "id": "84047b5f",
   "metadata": {},
   "outputs": [],
   "source": []
  },
  {
   "cell_type": "code",
   "execution_count": null,
   "id": "60822b96",
   "metadata": {},
   "outputs": [],
   "source": []
  },
  {
   "cell_type": "markdown",
   "id": "1ce6cb44",
   "metadata": {},
   "source": [
    "### Recursion"
   ]
  },
  {
   "cell_type": "code",
   "execution_count": 7,
   "id": "e18878e9",
   "metadata": {},
   "outputs": [],
   "source": [
    "# recursioN\n",
    "import math\n",
    "def countCoins( coins , amt , n):\n",
    "    if amt == 0 : return 0\n",
    "    \n",
    "    if n==0 and amt != 0 : return math.inf\n",
    "    \n",
    "    if amt < coins[n-1]:\n",
    "        return countCoins( coins , amt, n-1 )\n",
    "    else:\n",
    "        return min( 1 + countCoins( coins, amt - coins[n-1] , n ) , countCoins( coins, amt , n-1)  )"
   ]
  },
  {
   "cell_type": "code",
   "execution_count": 23,
   "id": "5a7007cc",
   "metadata": {},
   "outputs": [
    {
     "name": "stdout",
     "output_type": "stream",
     "text": [
      "3\n",
      "2\n",
      "3\n",
      "inf\n",
      "2\n",
      "1\n"
     ]
    }
   ],
   "source": [
    "coins = [1,5,9]\n",
    "w = 15\n",
    "print( countCoins( coins, w , len(coins)) ) \n",
    "\n",
    "coins = [5,25,10]\n",
    "w = 20\n",
    "print(countCoins( coins, w , len(coins)) )\n",
    "\n",
    "coins = [9,5,6,1]\n",
    "w = 13\n",
    "print(countCoins( coins, w , len(coins)))\n",
    "\n",
    "coins = [7,6,8]\n",
    "w = 9\n",
    "print(countCoins( coins, w , len(coins)) )\n",
    "\n",
    "coins = [2,3,5,6]\n",
    "w = 10\n",
    "print( countCoins( coins, w , len(coins)) ) \n",
    "\n",
    "coins = [1,2,3]\n",
    "w = 3\n",
    "print(countCoins( coins, w , len(coins)) )"
   ]
  },
  {
   "cell_type": "code",
   "execution_count": 20,
   "id": "d960e320",
   "metadata": {},
   "outputs": [],
   "source": [
    "#recursion1\n",
    "\n",
    "import math\n",
    "def minCountCoins1( coins , amt , n):\n",
    "    if amt == 0 : return 0\n",
    "    \n",
    "    minimum = math.inf\n",
    "    \n",
    "    for i in range(n):\n",
    "        if coins[i] <= amt:\n",
    "            curr_min= minCountCoins1( coins , amt-coins[i], n)\n",
    "            if curr_min != math.inf and curr_min+1 < minimum :\n",
    "                minimum = curr_min + 1\n",
    "    return minimum"
   ]
  },
  {
   "cell_type": "code",
   "execution_count": 24,
   "id": "be6857a5",
   "metadata": {},
   "outputs": [
    {
     "name": "stdout",
     "output_type": "stream",
     "text": [
      "3\n",
      "2\n",
      "3\n",
      "inf\n",
      "2\n",
      "1\n"
     ]
    }
   ],
   "source": [
    "coins = [1,5,9]\n",
    "w = 15\n",
    "print( minCountCoins1( coins, w , len(coins)) ) \n",
    "\n",
    "coins = [5,25,10]\n",
    "w = 20\n",
    "print(minCountCoins1( coins, w , len(coins)) )\n",
    "\n",
    "coins = [9,5,6,1]\n",
    "w = 13\n",
    "print(minCountCoins1( coins, w , len(coins)))\n",
    "\n",
    "coins = [7,6,8]\n",
    "w = 9\n",
    "print(minCountCoins1( coins, w , len(coins)) )\n",
    "\n",
    "coins = [2,3,5,6]\n",
    "w = 10\n",
    "print( minCountCoins1( coins, w , len(coins)) ) \n",
    "\n",
    "coins = [1,2,3]\n",
    "w = 3\n",
    "print(minCountCoins1( coins, w , len(coins)) )"
   ]
  },
  {
   "cell_type": "code",
   "execution_count": null,
   "id": "5dfdaa3f",
   "metadata": {},
   "outputs": [],
   "source": []
  }
 ],
 "metadata": {
  "kernelspec": {
   "display_name": "Python 3",
   "language": "python",
   "name": "python3"
  },
  "language_info": {
   "codemirror_mode": {
    "name": "ipython",
    "version": 3
   },
   "file_extension": ".py",
   "mimetype": "text/x-python",
   "name": "python",
   "nbconvert_exporter": "python",
   "pygments_lexer": "ipython3",
   "version": "3.8.8"
  }
 },
 "nbformat": 4,
 "nbformat_minor": 5
}
