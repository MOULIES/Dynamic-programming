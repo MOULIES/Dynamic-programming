{
 "cells": [
  {
   "cell_type": "markdown",
   "id": "91431273",
   "metadata": {},
   "source": [
    "####  https://www.enjoyalgorithms.com/blog/check-for-pair-in-an-array-with-a-given-sum"
   ]
  },
  {
   "cell_type": "code",
   "execution_count": 1,
   "id": "56e5d271",
   "metadata": {},
   "outputs": [
    {
     "name": "stdout",
     "output_type": "stream",
     "text": [
      "4 [12, (1, 11), (2, 8), (3, 6)]\n"
     ]
    }
   ],
   "source": [
    "n = 7\n",
    "k = 12\n",
    "arr = [ 12 ,2,3,11,6,8,1]\n",
    "\n",
    "# n = 5\n",
    "# k = 11\n",
    "# arr = [2,3,6,7,8]\n",
    "\n",
    "# n = 5\n",
    "# k = 11\n",
    "# arr = [10,9,12,14,15]\n",
    "\n",
    "# n = 1\n",
    "# k = 12\n",
    "# arr = [13]\n",
    "\n",
    "res = []\n",
    "arr.sort()\n",
    "left = 0\n",
    "right = n -1\n",
    "pair_count = n\n",
    "count = 0\n",
    "while left < right :\n",
    "    if arr[right] <= k:\n",
    "        if arr[right] == k  or   arr[left]+arr[right] > k:\n",
    "            res.append( arr[right] )\n",
    "            pair_count -= 1\n",
    "        elif arr[left]+arr[right] <= k   :\n",
    "            res.append( (arr[left], arr[right] ) ) \n",
    "            left += 1\n",
    "            pair_count -= 2\n",
    "        count += 1\n",
    "    right -= 1  \n",
    "else:\n",
    "    if pair_count > 0  and arr[right] <= k :\n",
    "        res.append( arr[ left ] )\n",
    "        count += 1\n",
    "print( count,  res )"
   ]
  },
  {
   "cell_type": "code",
   "execution_count": null,
   "id": "b610a4a4",
   "metadata": {},
   "outputs": [],
   "source": []
  },
  {
   "cell_type": "code",
   "execution_count": null,
   "id": "96d135a3",
   "metadata": {},
   "outputs": [],
   "source": []
  }
 ],
 "metadata": {
  "kernelspec": {
   "display_name": "Python 3",
   "language": "python",
   "name": "python3"
  },
  "language_info": {
   "codemirror_mode": {
    "name": "ipython",
    "version": 3
   },
   "file_extension": ".py",
   "mimetype": "text/x-python",
   "name": "python",
   "nbconvert_exporter": "python",
   "pygments_lexer": "ipython3",
   "version": "3.8.8"
  }
 },
 "nbformat": 4,
 "nbformat_minor": 5
}
