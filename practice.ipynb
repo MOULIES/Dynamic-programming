{
 "cells": [
  {
   "cell_type": "code",
   "execution_count": null,
   "id": "904fde2d",
   "metadata": {},
   "outputs": [],
   "source": [
    "T = int(input())\n",
    "for i in range(T):\n",
    "    D = int( input())\n",
    "    M = int( input())\n",
    "    n= int( input() )\n",
    "    \n",
    "    marks = [ int( input() ) for i in range(n)]\n",
    "    time = [ int( input() ) for i in range(n)]\n",
    "\n",
    "    def knapsack_dp( wt, profit , capacity , n):\n",
    "        if n == 0 or capacity == 0:\n",
    "            return 0\n",
    "        dp = [ [  0 for _ in range( capacity +1 )] for _ in range( n + 1) ]\n",
    "\n",
    "        for i in range( 1, n+1 ):\n",
    "            for w in range(  1, capacity+1 ):\n",
    "                if wt[i-1] > w :\n",
    "                    dp[i][w] = dp[i-1][w]\n",
    "                else:\n",
    "                    dp[i][w] = max( dp[i-1][w]  , profit[i-1] +  dp[i-1][w - wt[i-1] ]  )\n",
    "        print( dp )\n",
    "        return dp[-1][-1]\n",
    "\n",
    "\n",
    "    res = knapsack_dp( time, marks , D , n)\n",
    "    \n",
    "    if res >= M:\n",
    "        print(\"YES\")\n",
    "    else:\n",
    "        print(\"NO\")\n",
    "    "
   ]
  },
  {
   "cell_type": "code",
   "execution_count": 2,
   "id": "de056491",
   "metadata": {},
   "outputs": [
    {
     "name": "stdout",
     "output_type": "stream",
     "text": [
      "3 1\n",
      "3 2\n",
      "3 3\n",
      "3 4\n",
      "3 5\n",
      "3 1\n",
      "3 2\n",
      "3 3\n",
      "3 4\n",
      "3 5\n",
      "[0, 0, 0, 0, 0, 0]\n",
      "[0, 0, 0, 9, 9, 9]\n",
      "[0, 0, 0, 9, 9, 9]\n"
     ]
    },
    {
     "data": {
      "text/plain": [
       "9"
      ]
     },
     "execution_count": 2,
     "metadata": {},
     "output_type": "execute_result"
    }
   ],
   "source": [
    "def knapsack_dp( wt, profit , capacity , n):\n",
    "        if n == 0 or capacity == 0:\n",
    "            return 0\n",
    "        dp = [ [  0 for _ in range( capacity +1 )] for _ in range( n + 1) ]\n",
    "\n",
    "        for i in range( 1, n+1 ):\n",
    "            for w in range(  1, capacity+1 ):\n",
    "                print( wt[i-1], w)\n",
    "                if wt[i-1] > w :\n",
    "                    dp[i][w] = dp[i-1][w]\n",
    "                else:\n",
    "                    dp[i][w] = max( dp[i-1][w]  , profit[i-1] +  dp[i-1][w - wt[i-1] ]  )\n",
    "        for i in dp:\n",
    "            print( i )\n",
    "        return dp[-1][-1]\n",
    "\n",
    "time= [ 3,3]\n",
    "marks = [9,9]\n",
    "D= 5\n",
    "n=2\n",
    "knapsack_dp( time, marks , D , n)\n",
    "    "
   ]
  },
  {
   "cell_type": "code",
   "execution_count": 4,
   "id": "4396deaf",
   "metadata": {},
   "outputs": [
    {
     "data": {
      "text/plain": [
       "1"
      ]
     },
     "execution_count": 4,
     "metadata": {},
     "output_type": "execute_result"
    }
   ],
   "source": [
    "0 or 1"
   ]
  },
  {
   "cell_type": "code",
   "execution_count": 5,
   "id": "5271d208",
   "metadata": {},
   "outputs": [
    {
     "data": {
      "text/plain": [
       "11"
      ]
     },
     "execution_count": 5,
     "metadata": {},
     "output_type": "execute_result"
    }
   ],
   "source": [
    "1 and 11"
   ]
  },
  {
   "cell_type": "code",
   "execution_count": 6,
   "id": "636a9c28",
   "metadata": {},
   "outputs": [
    {
     "data": {
      "text/plain": [
       "1"
      ]
     },
     "execution_count": 6,
     "metadata": {},
     "output_type": "execute_result"
    }
   ],
   "source": [
    "1 & 11"
   ]
  },
  {
   "cell_type": "code",
   "execution_count": 7,
   "id": "d903733a",
   "metadata": {},
   "outputs": [
    {
     "data": {
      "text/plain": [
       "0"
      ]
     },
     "execution_count": 7,
     "metadata": {},
     "output_type": "execute_result"
    }
   ],
   "source": [
    "1 & 0"
   ]
  },
  {
   "cell_type": "code",
   "execution_count": 9,
   "id": "17fd2719",
   "metadata": {},
   "outputs": [
    {
     "data": {
      "text/plain": [
       "0"
      ]
     },
     "execution_count": 9,
     "metadata": {},
     "output_type": "execute_result"
    }
   ],
   "source": [
    "1 & 0"
   ]
  },
  {
   "cell_type": "code",
   "execution_count": 10,
   "id": "d775f860",
   "metadata": {},
   "outputs": [
    {
     "data": {
      "text/plain": [
       "1"
      ]
     },
     "execution_count": 10,
     "metadata": {},
     "output_type": "execute_result"
    }
   ],
   "source": [
    "11 & 1"
   ]
  },
  {
   "cell_type": "code",
   "execution_count": 11,
   "id": "807d64e6",
   "metadata": {},
   "outputs": [
    {
     "data": {
      "text/plain": [
       "8"
      ]
     },
     "execution_count": 11,
     "metadata": {},
     "output_type": "execute_result"
    }
   ],
   "source": [
    "11 & 12"
   ]
  },
  {
   "cell_type": "code",
   "execution_count": 12,
   "id": "74391cad",
   "metadata": {},
   "outputs": [
    {
     "data": {
      "text/plain": [
       "1"
      ]
     },
     "execution_count": 12,
     "metadata": {},
     "output_type": "execute_result"
    }
   ],
   "source": [
    "11 & 1"
   ]
  },
  {
   "cell_type": "code",
   "execution_count": 13,
   "id": "ab3364d5",
   "metadata": {},
   "outputs": [
    {
     "data": {
      "text/plain": [
       "0"
      ]
     },
     "execution_count": 13,
     "metadata": {},
     "output_type": "execute_result"
    }
   ],
   "source": [
    "12 & 1"
   ]
  },
  {
   "cell_type": "code",
   "execution_count": 1,
   "id": "d2574e56",
   "metadata": {},
   "outputs": [],
   "source": [
    "num = 6\n",
    "skills = [12,4,6,13,5,10]\n",
    "minAssociates = 3\n",
    "minLevel = 4\n",
    "maxLevel = 10\n",
    "\n",
    "\n",
    "def countTeams( num , skills, minAssociates, minLevel , maxLevel ):\n",
    "    \n",
    "    arr = [ i for i in skills if i >= minLevel and i <= maxLevel ]\n",
    "    \n",
    "    def binomialCoefficient(n, k):\n",
    "    \n",
    "        #since C(n,k) = C(n,n-k)\n",
    "        if k > n-k :\n",
    "            k = n-k\n",
    "\n",
    "        res = 1\n",
    "\n",
    "        for i in range(k):\n",
    "            res = res * (n-i)\n",
    "            res = res//(i+1)\n",
    "        return res\n",
    "    \n",
    "    n = len(arr)\n",
    "    if n >= minAssociates :\n",
    "        count = 0\n",
    "        for k in range( minAssociates , n+1 ):\n",
    "            count += binomialCoefficient(n, k)    \n",
    "        return count\n",
    "    \n",
    "    return 0"
   ]
  },
  {
   "cell_type": "code",
   "execution_count": 2,
   "id": "bff4946e",
   "metadata": {},
   "outputs": [
    {
     "data": {
      "text/plain": [
       "5"
      ]
     },
     "execution_count": 2,
     "metadata": {},
     "output_type": "execute_result"
    }
   ],
   "source": [
    "num = 6\n",
    "skills = [12,4,6,13,5,10]\n",
    "minAssociates = 3\n",
    "minLevel = 4\n",
    "maxLevel = 10\n",
    "countTeams( num , skills, minAssociates, minLevel , maxLevel )"
   ]
  },
  {
   "cell_type": "code",
   "execution_count": 4,
   "id": "b6cc2ba3",
   "metadata": {},
   "outputs": [
    {
     "data": {
      "text/plain": [
       "3"
      ]
     },
     "execution_count": 4,
     "metadata": {},
     "output_type": "execute_result"
    }
   ],
   "source": [
    "num = 4\n",
    "skills = [ 4,8,5,6]\n",
    "minAssociates = 1\n",
    "minLevel = 5\n",
    "maxLevel = 7\n",
    "countTeams( num , skills, minAssociates, minLevel , maxLevel )"
   ]
  },
  {
   "cell_type": "code",
   "execution_count": 5,
   "id": "5209fa4e",
   "metadata": {},
   "outputs": [
    {
     "data": {
      "text/plain": [
       "11"
      ]
     },
     "execution_count": 5,
     "metadata": {},
     "output_type": "execute_result"
    }
   ],
   "source": [
    "num = 5\n",
    "skills = [ 248, 779 ,392, 727, 561]\n",
    "minAssociates = 2\n",
    "minLevel = 360\n",
    "maxLevel = 1000\n",
    "countTeams( num , skills, minAssociates, minLevel , maxLevel )"
   ]
  },
  {
   "cell_type": "code",
   "execution_count": 11,
   "id": "5d2b3279",
   "metadata": {},
   "outputs": [
    {
     "name": "stdout",
     "output_type": "stream",
     "text": [
      "1 3\n",
      "3 4\n",
      "4 5\n",
      "5 7\n",
      "7 8\n"
     ]
    },
    {
     "data": {
      "text/plain": [
       "5"
      ]
     },
     "execution_count": 11,
     "metadata": {},
     "output_type": "execute_result"
    }
   ],
   "source": [
    "k= 2\n",
    "\n",
    "a = [1,3,2,5,3,4]\n",
    "\n",
    "count =0\n",
    "for i in range( len(arr)- 1):\n",
    "    while a[i] >= a[i+1] :\n",
    "        a[i+1] += k\n",
    "        count +=1\n",
    "\n",
    "print( count )    "
   ]
  },
  {
   "cell_type": "code",
   "execution_count": 8,
   "id": "f959b8ac",
   "metadata": {},
   "outputs": [
    {
     "data": {
      "text/plain": [
       "3"
      ]
     },
     "execution_count": 8,
     "metadata": {},
     "output_type": "execute_result"
    }
   ],
   "source": []
  },
  {
   "cell_type": "code",
   "execution_count": 6,
   "id": "68b34afd",
   "metadata": {},
   "outputs": [
    {
     "data": {
      "text/plain": [
       "5"
      ]
     },
     "execution_count": 6,
     "metadata": {},
     "output_type": "execute_result"
    }
   ],
   "source": [
    "word = \"how many eggs are in a half-dozen, 13?\"\n",
    "word = \"how many words are here?\"\n",
    "s = \", . ? !\".split()\n",
    "\n",
    "c = 0\n",
    "for i in word.split():\n",
    "    \n",
    "    ch = ''\n",
    "    for j in i:\n",
    "        if j not in s:\n",
    "            ch+= j\n",
    "    \n",
    "    if not ch.isdigit():\n",
    "        c  += 1\n",
    "c"
   ]
  },
  {
   "cell_type": "code",
   "execution_count": 12,
   "id": "8dba6dc8",
   "metadata": {},
   "outputs": [
    {
     "data": {
      "text/plain": [
       "5"
      ]
     },
     "execution_count": 12,
     "metadata": {},
     "output_type": "execute_result"
    }
   ],
   "source": [
    "# word = \"how many eggs are in a half-dozen, 13??\"\n",
    "\n",
    "\n",
    "c = 0\n",
    "for i in word.split():\n",
    "    if i[-1] not in s:\n",
    "        c += 1\n",
    "    else:\n",
    "        ch = '' \n",
    "        for j in i :\n",
    "            if j not in s:\n",
    "                ch+= j\n",
    "        \n",
    "        if not ch.isdigit():\n",
    "            c+=1\n",
    "c"
   ]
  },
  {
   "cell_type": "code",
   "execution_count": null,
   "id": "26676673",
   "metadata": {},
   "outputs": [],
   "source": [
    "word = \"how many  words are here?\"\n",
    "s = \", . ? !\".split()\n",
    "\n",
    "ch =''\n",
    "for i in range( len(word)):\n",
    "    \n",
    "    \n",
    "    \n",
    "    if ch not in s:\n",
    "        ch += i        \n",
    "    else:\n",
    "        if ch\n",
    "        ch = ''"
   ]
  },
  {
   "cell_type": "code",
   "execution_count": 23,
   "id": "40d1262c",
   "metadata": {},
   "outputs": [
    {
     "name": "stdout",
     "output_type": "stream",
     "text": [
      "5\n"
     ]
    }
   ],
   "source": [
    "word = \"how many  wor3ds are word-do-zen her?e? 13??\"\n",
    "\n",
    "\n",
    "count = 0\n",
    "for i in word.split():\n",
    "    ch = \"\"\n",
    "    \n",
    "    for j in i :\n",
    "        if j.isdigit():\n",
    "            ch = ''\n",
    "            break    \n",
    "        if j not in s :\n",
    "            ch += j\n",
    "            \n",
    "    if ch:\n",
    "        count += 1\n",
    "print( count )"
   ]
  },
  {
   "cell_type": "code",
   "execution_count": 56,
   "id": "e071254e",
   "metadata": {},
   "outputs": [
    {
     "name": "stdout",
     "output_type": "stream",
     "text": [
      "how\n",
      "many\n",
      "word-do-zen\n",
      "here\n"
     ]
    },
    {
     "data": {
      "text/plain": [
       "4"
      ]
     },
     "execution_count": 56,
     "metadata": {},
     "output_type": "execute_result"
    }
   ],
   "source": [
    "word = \"how many      words3 ar1eg word-do-zen her?e? 1a3??\"\n",
    "s = \", . ? !\".split()\n",
    "count = 0\n",
    "end = len(word)-1\n",
    "i = 0\n",
    "ch = ''\n",
    "num = False\n",
    "while i  < len(word) :\n",
    "    if word[i] != ' ' and not num:\n",
    "        if word[i].isdigit():\n",
    "            num = True\n",
    "            ch = ''\n",
    "            i = i+1\n",
    "            continue\n",
    "            \n",
    "        if ( word[i] not in s ):\n",
    "            ch += word[i]\n",
    "            \n",
    "    elif word[i] == ' ' :\n",
    "        if ch:\n",
    "            print( ch)\n",
    "            count += 1\n",
    "        num = False\n",
    "        ch = ''\n",
    "    i = i+1\n",
    "    \n",
    "count"
   ]
  },
  {
   "cell_type": "code",
   "execution_count": 46,
   "id": "a3cbfa8a",
   "metadata": {},
   "outputs": [
    {
     "data": {
      "text/plain": [
       "4"
      ]
     },
     "execution_count": 46,
     "metadata": {},
     "output_type": "execute_result"
    }
   ],
   "source": [
    "count"
   ]
  },
  {
   "cell_type": "code",
   "execution_count": 47,
   "id": "85a6f005",
   "metadata": {},
   "outputs": [
    {
     "data": {
      "text/plain": [
       "False"
      ]
     },
     "execution_count": 47,
     "metadata": {},
     "output_type": "execute_result"
    }
   ],
   "source": [
    "\"wd3\".isnumeric()"
   ]
  },
  {
   "cell_type": "code",
   "execution_count": 51,
   "id": "27e78c94",
   "metadata": {},
   "outputs": [],
   "source": [
    "if \"\":\n",
    "    print(1)"
   ]
  },
  {
   "cell_type": "code",
   "execution_count": null,
   "id": "fdac8f38",
   "metadata": {},
   "outputs": [],
   "source": [
    "\n",
    "with \n",
    "select * from t1;\n",
    "\n",
    "\n"
   ]
  },
  {
   "cell_type": "code",
   "execution_count": null,
   "id": "d9ed7d98",
   "metadata": {},
   "outputs": [],
   "source": [
    "WITH recursive t1 AS  (\n",
    "                            SELECT visit_date, \n",
    "                                COALESCE(num_visits,0) as num_visits,\n",
    "                                COALESCE(num_trans,0) as num_trans \n",
    "                            FROM (\n",
    "                             AS a\n",
    "                            LEFT JOIN (\n",
    "                            SELECT transaction_date, user_id, count(*) as num_trans\n",
    "                            FROM transactions GROUP BY 1, 2\n",
    "                            ) AS b\n",
    "                            USING (user_id)\n",
    "                            ),\n",
    "\n",
    "             t2(trans) AS (SELECT MAX(num_trans) as trans\n",
    "                                            FROM t1\n",
    "                                          UNION ALL\n",
    "                                          SELECT trans-1 \n",
    "                                            FROM t2\n",
    "                                          WHERE trans >= 1),\n",
    "SELECT * FROM t2;"
   ]
  },
  {
   "cell_type": "code",
   "execution_count": null,
   "id": "7e44fc49",
   "metadata": {},
   "outputs": [],
   "source": [
    "with  t1 as (SELECT visit_date, user_id, COUNT(*) as num_visits\n",
    "                            FROM visits\n",
    "                            GROUP BY 1, 2\n",
    "                            ),\n",
    "    t2 aas\n",
    "        \n",
    "selft * from t1,t1,t1,t1;\n",
    "\n",
    "\n",
    "selc"
   ]
  },
  {
   "cell_type": "code",
   "execution_count": null,
   "id": "34074026",
   "metadata": {},
   "outputs": [],
   "source": [
    "def fact(n):\n",
    "    return n"
   ]
  },
  {
   "cell_type": "code",
   "execution_count": null,
   "id": "2865ee73",
   "metadata": {},
   "outputs": [],
   "source": [
    "def recursive fact(n):\n",
    "    return fact(n)"
   ]
  },
  {
   "cell_type": "code",
   "execution_count": 109,
   "id": "2412aee3",
   "metadata": {
    "scrolled": true
   },
   "outputs": [
    {
     "name": "stdout",
     "output_type": "stream",
     "text": [
      "11 12 16 21 17 13 14 18 22 26 31 27 23 19 15 20 24 28 32 33 29 25 30 34 35\n"
     ]
    }
   ],
   "source": [
    "n= 5\n",
    "a=[[ i+j  for j in range( 0 ,n ) ]   for i in [ 11, 16, 21,26,31]]\n",
    "n= len(a)\n",
    "arr = []\n",
    "for i in range( n ) :\n",
    "    for j in range( i + 1 ):\n",
    "        if i % 2 != 0 :\n",
    "            arr.append( a[j][ i-j ] )\n",
    "        else:\n",
    "            arr.append( a[i-j][ j ] )\n",
    "\n",
    "for i in range(  n ):\n",
    "    for j in range( n-1 , i ,-1):\n",
    "        if i % 2 == 0 :\n",
    "            arr.append( a[n+i-j][ j])\n",
    "        else:\n",
    "            arr.append( a[j][n+i-j])\n",
    "print( *arr )"
   ]
  },
  {
   "cell_type": "code",
   "execution_count": null,
   "id": "a0020480",
   "metadata": {},
   "outputs": [],
   "source": [
    "0 0  - 0\n",
    "\n",
    "j find i  n= 3\n",
    "\n",
    "j i-j\n",
    "0 1  - 1\n",
    "1 0  -  1\n",
    "\n",
    "0 2  - 2\n",
    "1 1    2\n",
    "2 0    2\n",
    "\n",
    "\n",
    "0 3\n",
    "1 2\n",
    "2 1\n",
    "3 0\n",
    "\n",
    "for i in range(n):\n",
    "    for j in range( i +1 ):\n",
    "        "
   ]
  },
  {
   "cell_type": "code",
   "execution_count": 126,
   "id": "7e98d216",
   "metadata": {},
   "outputs": [],
   "source": [
    "# f   j    i  n\n",
    "# 1 4 - 4   - 5\n",
    "# 2 3  - 4  5\n",
    "# 3 2 - 4  5\n",
    "# 4 1 - 4 -5\n",
    "\n",
    "1 4 1\n",
    "1 3 2\n",
    "1 2 3\n",
    "1 1 4\n",
    "\n",
    "#      j\n",
    "# 2 4 - 3 -  5\n",
    "# 3 3  - 3 -5\n",
    "# 4 2 - 3 - 5\n",
    "i j n= 5\n",
    "2 4 1\n",
    "2 3 2\n",
    "2 2 3\n",
    "\n",
    "# 3 4 -2  -5 1\n",
    "# 4 3 - 2 - 52\n",
    "\n",
    "# 4 4 - 1  - 5\n",
    "\n",
    "\n",
    "# for i in range( n-1 , 0 , -1):\n",
    "#     for j in range( n-1 , n-i -1 , - 1):\n",
    "#         print( i ,j )\n",
    "#     print()"
   ]
  },
  {
   "cell_type": "code",
   "execution_count": 128,
   "id": "921b5bb5",
   "metadata": {},
   "outputs": [
    {
     "name": "stdout",
     "output_type": "stream",
     "text": [
      "1 4 1\n",
      "1 3 2\n",
      "1 2 3\n",
      "1 1 4\n",
      "1\n",
      "2 4 2\n",
      "2 3 3\n",
      "2 2 4\n",
      "2\n",
      "3 4 3\n",
      "3 3 4\n",
      "3\n",
      "4 4 4\n",
      "4\n",
      "4\n"
     ]
    }
   ],
   "source": [
    "start  = 0\n",
    "for i in range( 1, n+1):\n",
    "    for j in range( n-1 , i-1, -1):\n",
    "        print(i, j , n-j + start)\n",
    "    start += 1\n",
    "    print(j)\n",
    "    "
   ]
  },
  {
   "cell_type": "code",
   "execution_count": 124,
   "id": "2409e0c5",
   "metadata": {},
   "outputs": [
    {
     "name": "stdout",
     "output_type": "stream",
     "text": [
      "0 4\n",
      "0 3\n",
      "0 2\n",
      "0 1\n",
      "\n",
      "1 4\n",
      "1 3\n",
      "1 2\n",
      "\n",
      "2 4\n",
      "2 3\n",
      "\n",
      "3 4\n",
      "\n",
      "\n"
     ]
    }
   ],
   "source": [
    "n= 5\n",
    "for i in range(  n ):\n",
    "    for j in range( n-1 , i ,-1):\n",
    "        print(i,j)\n",
    "    print()"
   ]
  },
  {
   "cell_type": "code",
   "execution_count": null,
   "id": "4c105d0f",
   "metadata": {},
   "outputs": [],
   "source": [
    "\n",
    "# d - 4  d - 3 2  1\n",
    "\n",
    "n = 5  i = 4  j = 0\n",
    "\n",
    "\n",
    "\n",
    "\n",
    "n = 4\n",
    "for i in range( 1, n+1 ):\n",
    "    for j in range( , n+1):\n",
    "\n",
    "for i in range( 0, n ):    for j in range( n-1 , i ,-1):"
   ]
  },
  {
   "cell_type": "code",
   "execution_count": 138,
   "id": "0bfc395a",
   "metadata": {},
   "outputs": [
    {
     "name": "stdout",
     "output_type": "stream",
     "text": [
      "1\n",
      "2\n",
      "2\n"
     ]
    },
    {
     "data": {
      "text/plain": [
       "([1, 3, 4, 5, 7, 8], 5)"
      ]
     },
     "execution_count": 138,
     "metadata": {},
     "output_type": "execute_result"
    }
   ],
   "source": [
    "\n",
    "# 7 4\n",
    "def mystical_array( arr, k ):\n",
    "    if arr is None:\n",
    "        return -1\n",
    "    count = 0\n",
    "    for i in range( 1, len(arr)):\n",
    "        if arr[i] <= arr[i-1]:\n",
    "            incr = ( ( arr[i-1] - arr[i] ) // k) +1\n",
    "            arr[i]  = arr[i] + ( k * incr)\n",
    "            print(incr)\n",
    "            count += incr\n",
    "    return count\n",
    "arr= [1,3,2,5,3,4]\n",
    "k = 2\n",
    "\n",
    "arr, mystical_array( arr, k)"
   ]
  },
  {
   "cell_type": "code",
   "execution_count": null,
   "id": "b8f4f171",
   "metadata": {},
   "outputs": [],
   "source": []
  },
  {
   "cell_type": "code",
   "execution_count": null,
   "id": "4332f1b4",
   "metadata": {},
   "outputs": [],
   "source": []
  },
  {
   "cell_type": "code",
   "execution_count": null,
   "id": "dd39d33b",
   "metadata": {},
   "outputs": [],
   "source": [
    "s = input()\n",
    "n = len(s )\n",
    "\n",
    "y_index = []\n",
    "temp = []\n",
    "for i in range( n +1 ) :\n",
    "    if s[i] == 'x':\n",
    "         temp.append( a[i] )\n",
    "    else:\n",
    "         y_pos.append( i )\n",
    "\n",
    "a = temp\n",
    "\n",
    "while True:\n",
    "    for i in y_pos :\n",
    "         if a.pop()"
   ]
  },
  {
   "cell_type": "code",
   "execution_count": null,
   "id": "6c4ec40d",
   "metadata": {},
   "outputs": [],
   "source": []
  },
  {
   "cell_type": "code",
   "execution_count": 3,
   "id": "8a94285b",
   "metadata": {},
   "outputs": [],
   "source": [
    "def maxPairs( input1 , input2 , input3, input4):\n",
    "    k = input1\n",
    "    subject = input2\n",
    "    n = input3\n",
    "    credit = input4\n",
    "    \n",
    "    count = 0\n",
    "    subject.sort()\n",
    "    sub_len = len( subject )\n",
    "    for i in range(n):\n",
    "        if subject[-1] <= credit[i]:\n",
    "            count += sub_len\n",
    "        elif subject[0] > credit[i]:\n",
    "            continue\n",
    "        else:\n",
    "            k = 0\n",
    "            while k <= sub_len-1 and subject[k] <= credit[i]:\n",
    "                count += 1\n",
    "                k += 1\n",
    "    return count"
   ]
  },
  {
   "cell_type": "code",
   "execution_count": 4,
   "id": "dc8ff8fb",
   "metadata": {},
   "outputs": [
    {
     "data": {
      "text/plain": [
       "1"
      ]
     },
     "execution_count": 4,
     "metadata": {},
     "output_type": "execute_result"
    }
   ],
   "source": [
    "input1 = 1\n",
    "input2 = [48]\n",
    "input3 = 3\n",
    "input4 = [28,32,63]\n",
    "maxPairs( input1 , input2 , input3, input4)"
   ]
  },
  {
   "cell_type": "code",
   "execution_count": 9,
   "id": "4aacf2a3",
   "metadata": {},
   "outputs": [
    {
     "data": {
      "text/plain": [
       "12"
      ]
     },
     "execution_count": 9,
     "metadata": {},
     "output_type": "execute_result"
    }
   ],
   "source": [
    "input1 = 8\n",
    "input2 = [48,45,56,39,2,6,17,75]\n",
    "input3 = 3\n",
    "input4 = [54, 6, 40]\n",
    "maxPairs( input1 , input2 , input3, input4)"
   ]
  },
  {
   "cell_type": "code",
   "execution_count": 30,
   "id": "763894ad",
   "metadata": {},
   "outputs": [
    {
     "name": "stdout",
     "output_type": "stream",
     "text": [
      "[1, 2, 3, 4, 5, 6]\n",
      "0 0 6 x pos 0\n",
      "1 1 6 y pos 1\n",
      "2 2 6 x pos 2\n",
      "3 3 6 y pos 3\n",
      "4 4 6 x pos 4\n",
      "5 5 6 y pos 5\n",
      "[1, 3, 5] 3\n",
      "0 0 3 x pos 0\n",
      "1 1 3 y pos 1\n",
      "2 2 3 x pos 2\n",
      "[1, 5] 2\n",
      "0 3 2 y pos 3\n",
      "1 4 2 x pos 4\n",
      "[5] 1\n",
      "5\n"
     ]
    }
   ],
   "source": [
    "\n",
    "s = input()\n",
    "music_len = len(s)\n",
    "a = list( range(1, music_len+1) )\n",
    "n = len(a )\n",
    "i , k , size_change = 0,0,0\n",
    "temp = []\n",
    "reduce = 0\n",
    "while n > 1 :\n",
    "    if s[k] == 'x' :\n",
    "        temp.append( a[i])    \n",
    "    else:\n",
    "        size_change += 1\n",
    "    k += 1\n",
    "    i +=1\n",
    "    \n",
    "    if i == n: \n",
    "        i = 0\n",
    "        if  size_change:\n",
    "            a = temp[:]\n",
    "            n -= size_change\n",
    "        temp = []\n",
    "        size_change = 0\n",
    "        \n",
    "    if k == music_len:\n",
    "        k = 0\n",
    "        \n",
    "print( a[0] )"
   ]
  },
  {
   "cell_type": "code",
   "execution_count": 6,
   "id": "6766de6f",
   "metadata": {},
   "outputs": [
    {
     "name": "stdout",
     "output_type": "stream",
     "text": [
      "4\n",
      "3 5 6 6\n",
      "2\n"
     ]
    }
   ],
   "source": [
    "n = int( input() )\n",
    "arr = list( map( int, input().split() ) )\n",
    "equal = sum( arr ) // n\n",
    "maximum = max( arr )\n",
    "max_count \n",
    "count = 0\n",
    "skip_once = 1\n",
    "for i in range( n ):\n",
    "    if arr[i] != maximum :\n",
    "        count += abs( arr[i] - equal )\n",
    "    elif arr[i] == maximum:\n",
    "        if skip_once :\n",
    "            use_once = 0\n",
    "        else:\n",
    "            count += abs( arr[i] - equal )\n",
    "print( count )     "
   ]
  },
  {
   "cell_type": "code",
   "execution_count": 12,
   "id": "85e1f627",
   "metadata": {},
   "outputs": [
    {
     "ename": "IndexError",
     "evalue": "list index out of range",
     "output_type": "error",
     "traceback": [
      "\u001b[1;31m---------------------------------------------------------------------------\u001b[0m",
      "\u001b[1;31mIndexError\u001b[0m                                Traceback (most recent call last)",
      "\u001b[1;32m<ipython-input-12-f59fb2370696>\u001b[0m in \u001b[0;36m<module>\u001b[1;34m\u001b[0m\n\u001b[0;32m     16\u001b[0m \u001b[0mequal\u001b[0m \u001b[1;33m=\u001b[0m \u001b[0mtotal\u001b[0m \u001b[1;33m//\u001b[0m \u001b[0mn\u001b[0m\u001b[1;33m\u001b[0m\u001b[1;33m\u001b[0m\u001b[0m\n\u001b[0;32m     17\u001b[0m \u001b[1;32mfor\u001b[0m \u001b[0mi\u001b[0m \u001b[1;32min\u001b[0m \u001b[0mrange\u001b[0m\u001b[1;33m(\u001b[0m \u001b[0mn\u001b[0m \u001b[1;33m)\u001b[0m\u001b[1;33m:\u001b[0m\u001b[1;33m\u001b[0m\u001b[1;33m\u001b[0m\u001b[0m\n\u001b[1;32m---> 18\u001b[1;33m     \u001b[1;32mif\u001b[0m \u001b[0marr\u001b[0m\u001b[1;33m[\u001b[0m\u001b[0mi\u001b[0m\u001b[1;33m]\u001b[0m \u001b[1;33m!=\u001b[0m \u001b[0mmaximum\u001b[0m \u001b[1;33m:\u001b[0m\u001b[1;33m\u001b[0m\u001b[1;33m\u001b[0m\u001b[0m\n\u001b[0m\u001b[0;32m     19\u001b[0m         \u001b[0mcount\u001b[0m \u001b[1;33m+=\u001b[0m \u001b[0mabs\u001b[0m\u001b[1;33m(\u001b[0m \u001b[0marr\u001b[0m\u001b[1;33m[\u001b[0m\u001b[0mi\u001b[0m\u001b[1;33m]\u001b[0m \u001b[1;33m-\u001b[0m \u001b[0mequal\u001b[0m \u001b[1;33m)\u001b[0m\u001b[1;33m\u001b[0m\u001b[1;33m\u001b[0m\u001b[0m\n\u001b[0;32m     20\u001b[0m     \u001b[1;32melif\u001b[0m \u001b[0mdp\u001b[0m\u001b[1;33m[\u001b[0m\u001b[0mmaximum\u001b[0m\u001b[1;33m]\u001b[0m \u001b[1;33m>\u001b[0m \u001b[1;36m1\u001b[0m \u001b[1;33m:\u001b[0m\u001b[1;33m\u001b[0m\u001b[1;33m\u001b[0m\u001b[0m\n",
      "\u001b[1;31mIndexError\u001b[0m: list index out of range"
     ]
    }
   ],
   "source": [
    "n = 5\n",
    "a = [ 3,2,5,4,6]\n",
    "maximum = 0\n",
    "total = 0\n",
    "dp = {}\n",
    "count = 0\n",
    "for i in range( len(a)-1 ):\n",
    "    if a[i ] > a[i-1]:\n",
    "        maximum = a[i]\n",
    "    total += a[i]\n",
    "    if a[i] not in dp :\n",
    "        dp[a[i]] = 1\n",
    "    else:\n",
    "         dp[a[i]] += 1\n",
    "\n",
    "equal = total // n\n",
    "for i in range( n ):\n",
    "    if arr[i] != maximum :\n",
    "        count += abs( arr[i] - equal )\n",
    "    elif dp[maximum] > 1 :\n",
    "        count += abs( arr[i] - equal )\n",
    "        dp[maximum] -= 1\n",
    "print( count )"
   ]
  },
  {
   "cell_type": "code",
   "execution_count": null,
   "id": "33138aa7",
   "metadata": {},
   "outputs": [],
   "source": [
    "n = int( input() )\n",
    "arr = list( map( int, input().split() ) )\n",
    "equal = sum( arr ) // n\n",
    "maximum = max( arr )\n",
    "max_count \n",
    "count = 0\n",
    "skip_once = 1\n",
    "for i in range( n ):\n",
    "    if arr[i] != maximum :\n",
    "        count += abs( arr[i] - equal )\n",
    "    elif arr[i] == maximum:\n",
    "        if skip_once :\n",
    "            use_once = 0\n",
    "        else:\n",
    "            count += abs( arr[i] - equal )\n",
    "print( count ) "
   ]
  },
  {
   "cell_type": "code",
   "execution_count": 16,
   "id": "74e8fbec",
   "metadata": {},
   "outputs": [
    {
     "name": "stdout",
     "output_type": "stream",
     "text": [
      "5\n",
      "3 2 5 4 6\n",
      "[3, 2, 5, 4, 6]\n",
      "4\n"
     ]
    }
   ],
   "source": [
    "n = 5\n",
    "a = [ 3,2,5,4,6]\n",
    "\n",
    "n= int( input())\n",
    "a= list( map( int , input().split() ))\n",
    "s = sum( a )\n",
    "# print( a )\n",
    "m = max( a )\n",
    "equal = s//n\n",
    "count = 0\n",
    "for i in range( n):\n",
    "    if m != a[i] :\n",
    "        count += abs( equal - a[i])\n",
    "print( count )"
   ]
  },
  {
   "cell_type": "code",
   "execution_count": 31,
   "id": "a214424e",
   "metadata": {},
   "outputs": [
    {
     "name": "stdout",
     "output_type": "stream",
     "text": [
      "[-6, -4, -2, 0]\n",
      "2 m\n",
      "4 0\n",
      "2 1\n",
      "0 2\n",
      "2 3\n",
      "8\n"
     ]
    }
   ],
   "source": [
    "n = 4\n",
    "a= [1,3,9,7]\n",
    "b = [0]* n\n",
    "# b = [0,0,0,0]\n",
    "m = 0\n",
    "avg = sum(a)//n\n",
    "for i in range(0,n-1):\n",
    "\n",
    "    b[i+1] = a[i] + b[i] - avg\n",
    "\n",
    "# print( b )\n",
    "b = sorted(b)\n",
    "print( b )\n",
    "m =-b[n//2]\n",
    "# print( m , \"m\")\n",
    "val = 0\n",
    "for i in range(n):\n",
    "    print( abs( b[i] + m )  , i)\n",
    "    val = val + abs(b[i] + m)\n",
    "    \n",
    "print(val)"
   ]
  },
  {
   "cell_type": "code",
   "execution_count": 30,
   "id": "bd4819fd",
   "metadata": {},
   "outputs": [
    {
     "data": {
      "text/plain": [
       "-4"
      ]
     },
     "execution_count": 30,
     "metadata": {},
     "output_type": "execute_result"
    }
   ],
   "source": []
  },
  {
   "cell_type": "code",
   "execution_count": 26,
   "id": "16c13925",
   "metadata": {},
   "outputs": [
    {
     "data": {
      "text/plain": [
       "[1, 1]"
      ]
     },
     "execution_count": 26,
     "metadata": {},
     "output_type": "execute_result"
    }
   ],
   "source": [
    "[1]*2"
   ]
  },
  {
   "cell_type": "code",
   "execution_count": 27,
   "id": "14f8ae4a",
   "metadata": {},
   "outputs": [
    {
     "data": {
      "text/plain": [
       "[1, 1, 1, 1]"
      ]
     },
     "execution_count": 27,
     "metadata": {},
     "output_type": "execute_result"
    }
   ],
   "source": [
    "[1]*4"
   ]
  },
  {
   "cell_type": "code",
   "execution_count": 28,
   "id": "af7491c0",
   "metadata": {},
   "outputs": [
    {
     "data": {
      "text/plain": [
       "[1, 1, 1, 1]"
      ]
     },
     "execution_count": 28,
     "metadata": {},
     "output_type": "execute_result"
    }
   ],
   "source": [
    "[1]+[1]+[1]+[1]"
   ]
  },
  {
   "cell_type": "code",
   "execution_count": null,
   "id": "e72eba4f",
   "metadata": {},
   "outputs": [],
   "source": [
    "9"
   ]
  },
  {
   "cell_type": "code",
   "execution_count": null,
   "id": "471cb17e",
   "metadata": {},
   "outputs": [],
   "source": []
  },
  {
   "cell_type": "code",
   "execution_count": 7,
   "id": "62f00dd0",
   "metadata": {},
   "outputs": [
    {
     "data": {
      "text/plain": [
       "15"
      ]
     },
     "execution_count": 7,
     "metadata": {},
     "output_type": "execute_result"
    }
   ],
   "source": [
    "a =[-2,15,-2, 2,4,3,-1,11]\n",
    "\n",
    "t = 0\n",
    "m = 0\n",
    "i = 0\n",
    "while i < len(a):\n",
    "    if a[i] < 0:\n",
    "        t= 0\n",
    "        i+=1\n",
    "        continue\n",
    "    \n",
    "    if i != len(a) -1 and a[i+1] > 0 :\n",
    "        t +=a[i]\n",
    "    else:\n",
    "        m = max( m ,t+a[i])\n",
    "        t = 0\n",
    "    i+=1 \n",
    "m"
   ]
  },
  {
   "cell_type": "code",
   "execution_count": 10,
   "id": "bfcf0980",
   "metadata": {},
   "outputs": [
    {
     "name": "stdout",
     "output_type": "stream",
     "text": [
      "7\n"
     ]
    }
   ],
   "source": [
    "a =[-2,15,-2, 2,4,3,-1,11]\n",
    "a = [1,2,4,-2 ,3]\n",
    "\n",
    "t = 0\n",
    "m = 0\n",
    "i = 0\n",
    "while i < len(a):\n",
    "    if a[i] < 0:\n",
    "        m = max( m ,t)\n",
    "        t = 0\n",
    "    else:\n",
    "        t += a[i]\n",
    "    i+=1\n",
    "print( m )"
   ]
  },
  {
   "cell_type": "code",
   "execution_count": 45,
   "id": "59aaf818",
   "metadata": {},
   "outputs": [
    {
     "name": "stdout",
     "output_type": "stream",
     "text": [
      "28\n"
     ]
    }
   ],
   "source": [
    "\n",
    "# n = 4\n",
    "# a = [4,3,2,1]\n",
    "t = 0\n",
    "\n",
    "# n = 3\n",
    "# a =[ 9,5,8]\n",
    "\n",
    "n= 2\n",
    "a = [5,9]\n",
    "\n",
    "for i in range(1, n+1 ):\n",
    "    s = 0\n",
    "    new_arr = sorted(a[:i])\n",
    "    for j in range( i):\n",
    "        s += (j+1)*new_arr[j]\n",
    "        \n",
    "    t += s\n",
    "        \n",
    "print( t % ((10**9)+7))   \n",
    "    "
   ]
  },
  {
   "cell_type": "code",
   "execution_count": null,
   "id": "bfaea51c",
   "metadata": {},
   "outputs": [],
   "source": [
    "\n",
    "a = [4,3,2,1]\n",
    "\n",
    "b = sorted( a )\n"
   ]
  },
  {
   "cell_type": "code",
   "execution_count": 2,
   "id": "96614219",
   "metadata": {},
   "outputs": [
    {
     "name": "stdout",
     "output_type": "stream",
     "text": [
      "1\n",
      "5\n",
      "5 4 3 6 2\n",
      "96\n"
     ]
    }
   ],
   "source": [
    "def solution( arr ):\n",
    "    m = max( arr )\n",
    "    \n",
    "    l = 0 \n",
    "    r = len(arr)-1\n",
    "    total = 0\n",
    "    i = 1\n",
    "    while l < r :\n",
    "        \n",
    "        if arr[l] < arr[r]:\n",
    "            total += ( arr[l]* i)+ m\n",
    "            l += 1\n",
    "        else:\n",
    "            total += ( arr[r]* i)+ m\n",
    "            r -= 1\n",
    "        i+=1\n",
    "    else:\n",
    "        total += (arr[l]*i)+m\n",
    "            \n",
    "    return total\n",
    "\n",
    "for i in range( int( input() ) ):\n",
    "    n =int( input() )\n",
    "    \n",
    "    arr = list( map( int , input().split() ) )\n",
    "    print( solution( arr ) )"
   ]
  },
  {
   "cell_type": "code",
   "execution_count": 8,
   "id": "e9bf0390",
   "metadata": {},
   "outputs": [
    {
     "data": {
      "text/plain": [
       "100"
      ]
     },
     "execution_count": 8,
     "metadata": {},
     "output_type": "execute_result"
    }
   ],
   "source": [
    "from itertools import permutations\n",
    "arr = [5,4,3,6,2]\n",
    "m = max(arr)\n",
    "a = permutations( arr , len(arr))\n",
    "res = []\n",
    "\n",
    "for new in  a :\n",
    "    total = 0\n",
    "    for i,v in enumerate( new,start= 1):\n",
    "        total += (v*i)+ m\n",
    "    res.append( total )\n",
    "    \n",
    "max(res)"
   ]
  },
  {
   "cell_type": "code",
   "execution_count": 6,
   "id": "4b5aef4b",
   "metadata": {},
   "outputs": [
    {
     "name": "stdout",
     "output_type": "stream",
     "text": [
      "20300\n",
      "302\n"
     ]
    }
   ],
   "source": [
    "\n",
    "t = input()\n",
    "s = ''\n",
    "for i in range( len(t)-1, -1 ,-1):\n",
    "    if not s and t[i] == '0':\n",
    "        continue\n",
    "    s +=t[i]\n",
    "print(s)"
   ]
  },
  {
   "cell_type": "code",
   "execution_count": 9,
   "id": "7f8d4985",
   "metadata": {},
   "outputs": [
    {
     "name": "stdout",
     "output_type": "stream",
     "text": [
      "30211\n",
      "11203\n"
     ]
    }
   ],
   "source": [
    "t = input()\n",
    "s = int(t[::-1])\n",
    "print( s )"
   ]
  },
  {
   "cell_type": "code",
   "execution_count": null,
   "id": "a2df2419",
   "metadata": {},
   "outputs": [],
   "source": [
    "select a.country_name,b.city_name,t2.num from country a, city b ,\n",
    "(select c.city_id,count(*) as num from customer c group by c.city_id\n",
    "having num >=\n",
    "(select avg(t1.num) from (select city_id,count(*) as num from customer group by city_id) t1)) t2\n",
    "\n",
    "where a.id = b.country_id and t2.city_id = b.id;"
   ]
  },
  {
   "cell_type": "code",
   "execution_count": null,
   "id": "9bcd26dc",
   "metadata": {},
   "outputs": [],
   "source": [
    "\n",
    "def bisect_left(a, x ):\n",
    "    if hi is None:\n",
    "        hi = len(a)\n",
    "    while lo < hi:\n",
    "        mid = (lo+hi)//2\n",
    "        # Use __lt__ to match the logic in list.sort() and in heapq\n",
    "        if a[mid] < x: lo = mid+1\n",
    "        else: hi = mid\n",
    "    return lo\n",
    "\n",
    "def getmaxToys( N, P , k , x , toys ):\n",
    "    \n",
    "    idx = bisect_left(x, P )\n",
    "    \n",
    "    if idx > N or x[idx] != P:\n",
    "        x.insert( idx, P)\n",
    "        toys.insert( idx, 0)\n",
    "        N +=1\n",
    "\n",
    "    if \n",
    "    \n",
    "    \n",
    "    def dfs( P , k ,  x, toys):\n",
    "        \n",
    "        if k == 0 : return 0\n",
    "        \n",
    "        if \n",
    "    "
   ]
  },
  {
   "cell_type": "code",
   "execution_count": 6,
   "id": "e7aa835e",
   "metadata": {},
   "outputs": [
    {
     "ename": "AttributeError",
     "evalue": "module 'numpy' has no attribute 'ndarray'",
     "output_type": "error",
     "traceback": [
      "\u001b[1;31m---------------------------------------------------------------------------\u001b[0m",
      "\u001b[1;31mAttributeError\u001b[0m                            Traceback (most recent call last)",
      "\u001b[1;32m<ipython-input-6-04c554160450>\u001b[0m in \u001b[0;36m<module>\u001b[1;34m\u001b[0m\n\u001b[1;32m----> 1\u001b[1;33m \u001b[1;32mimport\u001b[0m \u001b[0mpandas\u001b[0m \u001b[1;32mas\u001b[0m \u001b[0mpd\u001b[0m\u001b[1;33m\u001b[0m\u001b[1;33m\u001b[0m\u001b[0m\n\u001b[0m\u001b[0;32m      2\u001b[0m \u001b[1;32mimport\u001b[0m \u001b[0mnumpy\u001b[0m \u001b[1;32mas\u001b[0m \u001b[0mnp\u001b[0m\u001b[1;33m\u001b[0m\u001b[1;33m\u001b[0m\u001b[0m\n\u001b[0;32m      3\u001b[0m data = {\"Team\": [\"Red Sox\", \"Red Sox\", \"Red Sox\", \"Red Sox\", \"Red Sox\", \"Red Sox\", \"Yankees\", \"Yankees\", \"Yankees\", \"Yankees\", \"Yankees\", \"Yankees\"],\n\u001b[0;32m      4\u001b[0m                 \u001b[1;34m\"Pos\"\u001b[0m\u001b[1;33m:\u001b[0m \u001b[1;33m[\u001b[0m\u001b[1;34m\"Pitcher\"\u001b[0m\u001b[1;33m,\u001b[0m \u001b[1;34m\"Pitcher\"\u001b[0m\u001b[1;33m,\u001b[0m \u001b[1;34m\"Pitcher\"\u001b[0m\u001b[1;33m,\u001b[0m \u001b[1;34m\"Not Pitcher\"\u001b[0m\u001b[1;33m,\u001b[0m \u001b[1;34m\"Not Pitcher\"\u001b[0m\u001b[1;33m,\u001b[0m \u001b[1;34m\"Not Pitcher\"\u001b[0m\u001b[1;33m,\u001b[0m \u001b[1;34m\"Pitcher\"\u001b[0m\u001b[1;33m,\u001b[0m \u001b[1;34m\"Pitcher\"\u001b[0m\u001b[1;33m,\u001b[0m \u001b[1;34m\"Pitcher\"\u001b[0m\u001b[1;33m,\u001b[0m \u001b[1;34m\"Not Pitcher\"\u001b[0m\u001b[1;33m,\u001b[0m \u001b[1;34m\"Not Pitcher\"\u001b[0m\u001b[1;33m,\u001b[0m \u001b[1;34m\"Not Pitcher\"\u001b[0m\u001b[1;33m]\u001b[0m\u001b[1;33m,\u001b[0m\u001b[1;33m\u001b[0m\u001b[1;33m\u001b[0m\u001b[0m\n\u001b[0;32m      5\u001b[0m \t\t\"Age\": [24, 28, 40, 22, 29, 33, 31, 26, 21, 36, 25, 31]}\n",
      "\u001b[1;32m~\\anaconda3_2021\\lib\\site-packages\\pandas\\__init__.py\u001b[0m in \u001b[0;36m<module>\u001b[1;34m\u001b[0m\n\u001b[0;32m      9\u001b[0m \u001b[1;32mfor\u001b[0m \u001b[0mdependency\u001b[0m \u001b[1;32min\u001b[0m \u001b[0mhard_dependencies\u001b[0m\u001b[1;33m:\u001b[0m\u001b[1;33m\u001b[0m\u001b[1;33m\u001b[0m\u001b[0m\n\u001b[0;32m     10\u001b[0m     \u001b[1;32mtry\u001b[0m\u001b[1;33m:\u001b[0m\u001b[1;33m\u001b[0m\u001b[1;33m\u001b[0m\u001b[0m\n\u001b[1;32m---> 11\u001b[1;33m         \u001b[0m__import__\u001b[0m\u001b[1;33m(\u001b[0m\u001b[0mdependency\u001b[0m\u001b[1;33m)\u001b[0m\u001b[1;33m\u001b[0m\u001b[1;33m\u001b[0m\u001b[0m\n\u001b[0m\u001b[0;32m     12\u001b[0m     \u001b[1;32mexcept\u001b[0m \u001b[0mImportError\u001b[0m \u001b[1;32mas\u001b[0m \u001b[0me\u001b[0m\u001b[1;33m:\u001b[0m\u001b[1;33m\u001b[0m\u001b[1;33m\u001b[0m\u001b[0m\n\u001b[0;32m     13\u001b[0m         \u001b[0mmissing_dependencies\u001b[0m\u001b[1;33m.\u001b[0m\u001b[0mappend\u001b[0m\u001b[1;33m(\u001b[0m\u001b[1;34mf\"{dependency}: {e}\"\u001b[0m\u001b[1;33m)\u001b[0m\u001b[1;33m\u001b[0m\u001b[1;33m\u001b[0m\u001b[0m\n",
      "\u001b[1;32m~\\anaconda3_2021\\lib\\site-packages\\numpy\\__init__.py\u001b[0m in \u001b[0;36m<module>\u001b[1;34m\u001b[0m\n\u001b[0;32m    216\u001b[0m     \u001b[1;32mfrom\u001b[0m \u001b[1;33m.\u001b[0m\u001b[0mcore\u001b[0m \u001b[1;32mimport\u001b[0m \u001b[0mround\u001b[0m\u001b[1;33m,\u001b[0m \u001b[0mabs\u001b[0m\u001b[1;33m,\u001b[0m \u001b[0mmax\u001b[0m\u001b[1;33m,\u001b[0m \u001b[0mmin\u001b[0m\u001b[1;33m\u001b[0m\u001b[1;33m\u001b[0m\u001b[0m\n\u001b[0;32m    217\u001b[0m     \u001b[1;31m# now that numpy modules are imported, can initialize limits\u001b[0m\u001b[1;33m\u001b[0m\u001b[1;33m\u001b[0m\u001b[1;33m\u001b[0m\u001b[0m\n\u001b[1;32m--> 218\u001b[1;33m     \u001b[0mcore\u001b[0m\u001b[1;33m.\u001b[0m\u001b[0mgetlimits\u001b[0m\u001b[1;33m.\u001b[0m\u001b[0m_register_known_types\u001b[0m\u001b[1;33m(\u001b[0m\u001b[1;33m)\u001b[0m\u001b[1;33m\u001b[0m\u001b[1;33m\u001b[0m\u001b[0m\n\u001b[0m\u001b[0;32m    219\u001b[0m \u001b[1;33m\u001b[0m\u001b[0m\n\u001b[0;32m    220\u001b[0m     \u001b[0m__all__\u001b[0m\u001b[1;33m.\u001b[0m\u001b[0mextend\u001b[0m\u001b[1;33m(\u001b[0m\u001b[1;33m[\u001b[0m\u001b[1;34m'__version__'\u001b[0m\u001b[1;33m,\u001b[0m \u001b[1;34m'show_config'\u001b[0m\u001b[1;33m]\u001b[0m\u001b[1;33m)\u001b[0m\u001b[1;33m\u001b[0m\u001b[1;33m\u001b[0m\u001b[0m\n",
      "\u001b[1;32m~\\anaconda3_2021\\lib\\site-packages\\numpy\\core\\getlimits.py\u001b[0m in \u001b[0;36m_register_known_types\u001b[1;34m()\u001b[0m\n\u001b[0;32m    160\u001b[0m     \u001b[1;32mwith\u001b[0m \u001b[0mnumeric\u001b[0m\u001b[1;33m.\u001b[0m\u001b[0merrstate\u001b[0m\u001b[1;33m(\u001b[0m\u001b[0mall\u001b[0m\u001b[1;33m=\u001b[0m\u001b[1;34m'ignore'\u001b[0m\u001b[1;33m)\u001b[0m\u001b[1;33m:\u001b[0m\u001b[1;33m\u001b[0m\u001b[1;33m\u001b[0m\u001b[0m\n\u001b[0;32m    161\u001b[0m         \u001b[0mhuge_f128\u001b[0m \u001b[1;33m=\u001b[0m \u001b[1;33m(\u001b[0m\u001b[0mld\u001b[0m\u001b[1;33m(\u001b[0m\u001b[1;36m1\u001b[0m\u001b[1;33m)\u001b[0m \u001b[1;33m-\u001b[0m \u001b[0mepsneg_f128\u001b[0m\u001b[1;33m)\u001b[0m \u001b[1;33m/\u001b[0m \u001b[0mtiny_f128\u001b[0m \u001b[1;33m*\u001b[0m \u001b[0mld\u001b[0m\u001b[1;33m(\u001b[0m\u001b[1;36m4\u001b[0m\u001b[1;33m)\u001b[0m\u001b[1;33m\u001b[0m\u001b[1;33m\u001b[0m\u001b[0m\n\u001b[1;32m--> 162\u001b[1;33m     float128_ma = MachArLike(ld,\n\u001b[0m\u001b[0;32m    163\u001b[0m                              \u001b[0mmachep\u001b[0m\u001b[1;33m=\u001b[0m\u001b[1;33m-\u001b[0m\u001b[1;36m112\u001b[0m\u001b[1;33m,\u001b[0m\u001b[1;33m\u001b[0m\u001b[1;33m\u001b[0m\u001b[0m\n\u001b[0;32m    164\u001b[0m                              \u001b[0mnegep\u001b[0m\u001b[1;33m=\u001b[0m\u001b[1;33m-\u001b[0m\u001b[1;36m113\u001b[0m\u001b[1;33m,\u001b[0m\u001b[1;33m\u001b[0m\u001b[1;33m\u001b[0m\u001b[0m\n",
      "\u001b[1;32m~\\anaconda3_2021\\lib\\site-packages\\numpy\\core\\getlimits.py\u001b[0m in \u001b[0;36m__init__\u001b[1;34m(self, ftype, eps, epsneg, huge, tiny, ibeta, **kwargs)\u001b[0m\n\u001b[0;32m     51\u001b[0m         \u001b[0mself\u001b[0m\u001b[1;33m.\u001b[0m\u001b[0mprecision\u001b[0m \u001b[1;33m=\u001b[0m \u001b[0mint\u001b[0m\u001b[1;33m(\u001b[0m\u001b[1;33m-\u001b[0m\u001b[0mlog10\u001b[0m\u001b[1;33m(\u001b[0m\u001b[0mself\u001b[0m\u001b[1;33m.\u001b[0m\u001b[0meps\u001b[0m\u001b[1;33m)\u001b[0m\u001b[1;33m)\u001b[0m\u001b[1;33m\u001b[0m\u001b[1;33m\u001b[0m\u001b[0m\n\u001b[0;32m     52\u001b[0m         \u001b[0mself\u001b[0m\u001b[1;33m.\u001b[0m\u001b[0mresolution\u001b[0m \u001b[1;33m=\u001b[0m \u001b[0mfloat_to_float\u001b[0m\u001b[1;33m(\u001b[0m\u001b[0mfloat_conv\u001b[0m\u001b[1;33m(\u001b[0m\u001b[1;36m10\u001b[0m\u001b[1;33m)\u001b[0m \u001b[1;33m**\u001b[0m \u001b[1;33m(\u001b[0m\u001b[1;33m-\u001b[0m\u001b[0mself\u001b[0m\u001b[1;33m.\u001b[0m\u001b[0mprecision\u001b[0m\u001b[1;33m)\u001b[0m\u001b[1;33m)\u001b[0m\u001b[1;33m\u001b[0m\u001b[1;33m\u001b[0m\u001b[0m\n\u001b[1;32m---> 53\u001b[1;33m         \u001b[0mself\u001b[0m\u001b[1;33m.\u001b[0m\u001b[0m_str_eps\u001b[0m \u001b[1;33m=\u001b[0m \u001b[0mfloat_to_str\u001b[0m\u001b[1;33m(\u001b[0m\u001b[0mself\u001b[0m\u001b[1;33m.\u001b[0m\u001b[0meps\u001b[0m\u001b[1;33m)\u001b[0m\u001b[1;33m\u001b[0m\u001b[1;33m\u001b[0m\u001b[0m\n\u001b[0m\u001b[0;32m     54\u001b[0m         \u001b[0mself\u001b[0m\u001b[1;33m.\u001b[0m\u001b[0m_str_epsneg\u001b[0m \u001b[1;33m=\u001b[0m \u001b[0mfloat_to_str\u001b[0m\u001b[1;33m(\u001b[0m\u001b[0mself\u001b[0m\u001b[1;33m.\u001b[0m\u001b[0mepsneg\u001b[0m\u001b[1;33m)\u001b[0m\u001b[1;33m\u001b[0m\u001b[1;33m\u001b[0m\u001b[0m\n\u001b[0;32m     55\u001b[0m         \u001b[0mself\u001b[0m\u001b[1;33m.\u001b[0m\u001b[0m_str_xmin\u001b[0m \u001b[1;33m=\u001b[0m \u001b[0mfloat_to_str\u001b[0m\u001b[1;33m(\u001b[0m\u001b[0mself\u001b[0m\u001b[1;33m.\u001b[0m\u001b[0mxmin\u001b[0m\u001b[1;33m)\u001b[0m\u001b[1;33m\u001b[0m\u001b[1;33m\u001b[0m\u001b[0m\n",
      "\u001b[1;32m~\\anaconda3_2021\\lib\\site-packages\\numpy\\core\\getlimits.py\u001b[0m in \u001b[0;36m<lambda>\u001b[1;34m(v)\u001b[0m\n\u001b[0;32m     39\u001b[0m         \u001b[0mfloat_conv\u001b[0m \u001b[1;33m=\u001b[0m \u001b[1;32mlambda\u001b[0m \u001b[0mv\u001b[0m\u001b[1;33m:\u001b[0m \u001b[0marray\u001b[0m\u001b[1;33m(\u001b[0m\u001b[1;33m[\u001b[0m\u001b[0mv\u001b[0m\u001b[1;33m]\u001b[0m\u001b[1;33m,\u001b[0m \u001b[0mftype\u001b[0m\u001b[1;33m)\u001b[0m\u001b[1;33m\u001b[0m\u001b[1;33m\u001b[0m\u001b[0m\n\u001b[0;32m     40\u001b[0m         \u001b[0mfloat_to_float\u001b[0m \u001b[1;33m=\u001b[0m \u001b[1;32mlambda\u001b[0m \u001b[0mv\u001b[0m \u001b[1;33m:\u001b[0m \u001b[0m_fr1\u001b[0m\u001b[1;33m(\u001b[0m\u001b[0mfloat_conv\u001b[0m\u001b[1;33m(\u001b[0m\u001b[0mv\u001b[0m\u001b[1;33m)\u001b[0m\u001b[1;33m)\u001b[0m\u001b[1;33m\u001b[0m\u001b[1;33m\u001b[0m\u001b[0m\n\u001b[1;32m---> 41\u001b[1;33m         \u001b[0mfloat_to_str\u001b[0m \u001b[1;33m=\u001b[0m \u001b[1;32mlambda\u001b[0m \u001b[0mv\u001b[0m\u001b[1;33m:\u001b[0m \u001b[1;33m(\u001b[0m\u001b[0mparams\u001b[0m\u001b[1;33m[\u001b[0m\u001b[1;34m'fmt'\u001b[0m\u001b[1;33m]\u001b[0m \u001b[1;33m%\u001b[0m \u001b[0marray\u001b[0m\u001b[1;33m(\u001b[0m\u001b[0m_fr0\u001b[0m\u001b[1;33m(\u001b[0m\u001b[0mv\u001b[0m\u001b[1;33m)\u001b[0m\u001b[1;33m[\u001b[0m\u001b[1;36m0\u001b[0m\u001b[1;33m]\u001b[0m\u001b[1;33m,\u001b[0m \u001b[0mftype\u001b[0m\u001b[1;33m)\u001b[0m\u001b[1;33m)\u001b[0m\u001b[1;33m\u001b[0m\u001b[1;33m\u001b[0m\u001b[0m\n\u001b[0m\u001b[0;32m     42\u001b[0m \u001b[1;33m\u001b[0m\u001b[0m\n\u001b[0;32m     43\u001b[0m         \u001b[0mself\u001b[0m\u001b[1;33m.\u001b[0m\u001b[0mtitle\u001b[0m \u001b[1;33m=\u001b[0m \u001b[0mparams\u001b[0m\u001b[1;33m[\u001b[0m\u001b[1;34m'title'\u001b[0m\u001b[1;33m]\u001b[0m\u001b[1;33m\u001b[0m\u001b[1;33m\u001b[0m\u001b[0m\n",
      "\u001b[1;32m~\\anaconda3_2021\\lib\\site-packages\\numpy\\core\\arrayprint.py\u001b[0m in \u001b[0;36m_array_str_implementation\u001b[1;34m(a, max_line_width, precision, suppress_small, array2string)\u001b[0m\n\u001b[0;32m   1513\u001b[0m         \u001b[1;31m# for which indexing with () returns a 0d instead of a scalar by using\u001b[0m\u001b[1;33m\u001b[0m\u001b[1;33m\u001b[0m\u001b[1;33m\u001b[0m\u001b[0m\n\u001b[0;32m   1514\u001b[0m         \u001b[1;31m# ndarray's getindex. Also guard against recursive 0d object arrays.\u001b[0m\u001b[1;33m\u001b[0m\u001b[1;33m\u001b[0m\u001b[1;33m\u001b[0m\u001b[0m\n\u001b[1;32m-> 1515\u001b[1;33m         \u001b[1;32mreturn\u001b[0m \u001b[0m_guarded_repr_or_str\u001b[0m\u001b[1;33m(\u001b[0m\u001b[0mnp\u001b[0m\u001b[1;33m.\u001b[0m\u001b[0mndarray\u001b[0m\u001b[1;33m.\u001b[0m\u001b[0m__getitem__\u001b[0m\u001b[1;33m(\u001b[0m\u001b[0ma\u001b[0m\u001b[1;33m,\u001b[0m \u001b[1;33m(\u001b[0m\u001b[1;33m)\u001b[0m\u001b[1;33m)\u001b[0m\u001b[1;33m)\u001b[0m\u001b[1;33m\u001b[0m\u001b[1;33m\u001b[0m\u001b[0m\n\u001b[0m\u001b[0;32m   1516\u001b[0m \u001b[1;33m\u001b[0m\u001b[0m\n\u001b[0;32m   1517\u001b[0m     \u001b[1;32mreturn\u001b[0m \u001b[0marray2string\u001b[0m\u001b[1;33m(\u001b[0m\u001b[0ma\u001b[0m\u001b[1;33m,\u001b[0m \u001b[0mmax_line_width\u001b[0m\u001b[1;33m,\u001b[0m \u001b[0mprecision\u001b[0m\u001b[1;33m,\u001b[0m \u001b[0msuppress_small\u001b[0m\u001b[1;33m,\u001b[0m \u001b[1;34m' '\u001b[0m\u001b[1;33m,\u001b[0m \u001b[1;34m\"\"\u001b[0m\u001b[1;33m)\u001b[0m\u001b[1;33m\u001b[0m\u001b[1;33m\u001b[0m\u001b[0m\n",
      "\u001b[1;31mAttributeError\u001b[0m: module 'numpy' has no attribute 'ndarray'"
     ]
    }
   ],
   "source": [
    "import pandas as pd\n",
    "import numpy as np\n",
    "data = {\"Team\": [\"Red Sox\", \"Red Sox\", \"Red Sox\", \"Red Sox\", \"Red Sox\", \"Red Sox\", \"Yankees\", \"Yankees\", \"Yankees\", \"Yankees\", \"Yankees\", \"Yankees\"],\n",
    "\t\t\"Pos\": [\"Pitcher\", \"Pitcher\", \"Pitcher\", \"Not Pitcher\", \"Not Pitcher\", \"Not Pitcher\", \"Pitcher\", \"Pitcher\", \"Pitcher\", \"Not Pitcher\", \"Not Pitcher\", \"Not Pitcher\"],\n",
    "\t\t\"Age\": [24, 28, 40, 22, 29, 33, 31, 26, 21, 36, 25, 31]}\n",
    "df = pd.DataFrame(data)\n",
    "print(df)"
   ]
  },
  {
   "cell_type": "code",
   "execution_count": null,
   "id": "28c19860",
   "metadata": {},
   "outputs": [],
   "source": [
    "grouped_single = df.groupby('Team').agg({'Age': ['mean', 'min', 'max']})\n",
    "\n",
    "print(grouped_single)"
   ]
  },
  {
   "cell_type": "code",
   "execution_count": 51,
   "id": "d0abc694",
   "metadata": {},
   "outputs": [],
   "source": [
    "def solution1(N):\n",
    "    import math\n",
    "    a = []\n",
    "    end = int( math.sqrt(N) + 1 )*2\n",
    "    for i in range(end):\n",
    "        for j in range(end):\n",
    "            a.append( (2**i) * (3**j) )\n",
    "            \n",
    "    a.sort()\n",
    "    return a[N]\n",
    "\n",
    "def solution(N):\n",
    "    a = []\n",
    "    end = N\n",
    "    for i in range(end+1):\n",
    "        for j in range(end+1):\n",
    "            a.append( (2**i)*(3**j))\n",
    "            \n",
    "    a.sort()\n",
    "    return a[N]\n",
    "\n",
    "for i in range( 205 ):\n",
    "    if solution(i) != solution1(i):\n",
    "        print(i)"
   ]
  },
  {
   "cell_type": "code",
   "execution_count": 19,
   "id": "78ba28bc",
   "metadata": {},
   "outputs": [
    {
     "name": "stdout",
     "output_type": "stream",
     "text": [
      "6 0\n",
      "(2592, [1, 2, 3, 4, 6, 8, 9, 12, 16, 18, 24, 27, 32, 36, 48, 54, 64, 72, 81, 96, 108, 128, 144, 162, 192, 216, 243, 256, 288, 324, 384, 432, 486, 512, 576, 648, 729, 768, 864, 972, 1024, 1152, 1296, 1458, 1536, 1728, 1944, 2048, 2187, 2304, 2592, 2916, 3072, 3456, 3888, 4096, 4374, 4608, 5184, 5832, 6144, 6561, 6912, 7776, 8192, 8748, 9216, 10368, 11664, 12288, 13122, 13824, 15552, 16384, 17496, 18432, 19683, 20736, 23328, 24576, 26244, 27648, 31104, 32768, 34992, 36864, 39366, 41472, 46656, 49152, 52488, 55296, 59049, 62208, 65536, 69984, 73728, 78732, 82944, 93312, 98304, 104976, 110592, 118098, 124416, 131072, 139968, 147456, 157464, 165888, 177147, 186624, 196608, 209952, 221184, 236196, 248832, 262144, 279936, 294912, 314928, 331776, 354294, 373248, 393216, 419904, 442368, 472392, 497664, 524288, 531441, 559872, 589824, 629856, 663552, 708588, 746496, 786432, 839808, 884736, 944784, 995328, 1048576, 1062882, 1119744, 1179648, 1259712, 1327104, 1417176, 1492992, 1572864, 1594323, 1679616, 1769472, 1889568, 1990656, 2097152, 2125764, 2239488, 2359296, 2519424, 2654208, 2834352, 2985984, 3145728, 3188646, 3359232, 3538944, 3779136, 3981312, 4194304, 4251528, 4478976, 4718592, 4782969, 5038848, 5308416, 5668704, 5971968, 6291456, 6377292, 6718464, 7077888, 7558272, 7962624, 8388608, 8503056, 8957952, 9437184, 9565938, 10077696, 10616832, 11337408, 11943936, 12582912, 12754584, 13436928, 14155776, 14348907, 15116544, 15925248, 16777216, 17006112, 17915904, 18874368, 19131876, 20155392, 21233664, 22674816, 23887872, 25165824, 25509168, 26873856, 28311552, 28697814, 30233088, 31850496, 33554432, 34012224, 35831808, 37748736, 38263752, 40310784, 42467328, 43046721, 45349632, 47775744, 50331648, 51018336, 53747712, 56623104, 57395628, 60466176, 63700992, 67108864, 68024448, 71663616, 75497472, 76527504, 80621568, 84934656, 86093442, 90699264, 95551488, 100663296, 102036672, 107495424, 113246208, 114791256, 120932352, 127401984, 129140163, 134217728, 136048896, 143327232, 150994944, 153055008, 161243136, 169869312, 172186884, 181398528, 191102976, 201326592, 204073344, 214990848, 226492416, 229582512, 241864704, 254803968, 258280326, 268435456, 272097792, 286654464, 301989888, 306110016, 322486272, 339738624, 344373768, 362797056, 382205952, 387420489, 402653184, 408146688, 429981696, 452984832, 459165024, 483729408, 509607936, 516560652, 536870912, 544195584, 573308928, 603979776, 612220032, 644972544, 679477248, 688747536, 725594112, 764411904, 774840978, 805306368, 816293376, 859963392, 905969664, 918330048, 967458816, 1019215872, 1033121304, 1073741824, 1088391168, 1146617856, 1162261467, 1207959552, 1224440064, 1289945088, 1358954496, 1377495072, 1451188224, 1528823808, 1549681956, 1610612736, 1632586752, 1719926784, 1811939328, 1836660096, 1934917632, 2038431744, 2066242608, 2147483648, 2176782336, 2293235712, 2324522934, 2415919104, 2448880128, 2579890176, 2717908992, 2754990144, 2902376448, 3057647616, 3099363912, 3221225472, 3265173504, 3439853568, 3486784401, 3623878656, 3673320192, 3869835264, 4076863488, 4132485216, 4294967296, 4353564672, 4586471424, 4649045868, 4831838208, 4897760256, 5159780352, 5435817984, 5509980288, 5804752896, 6115295232, 6198727824, 6442450944, 6530347008, 6879707136, 6973568802, 7247757312, 7346640384, 7739670528, 8153726976, 8264970432, 8589934592, 8707129344, 9172942848, 9298091736, 9663676416, 9795520512, 10319560704, 10460353203, 10871635968, 11019960576, 11609505792, 12230590464, 12397455648, 12884901888, 13060694016, 13759414272, 13947137604, 14495514624, 14693280768, 15479341056, 16307453952, 16529940864, 17179869184, 17414258688, 18345885696, 18596183472, 19327352832, 19591041024, 20639121408, 20920706406, 21743271936, 22039921152, 23219011584, 24461180928, 24794911296, 25769803776, 26121388032, 27518828544, 27894275208, 28991029248, 29386561536, 30958682112, 31381059609, 32614907904, 33059881728, 34359738368, 34828517376, 36691771392, 37192366944, 38654705664, 39182082048, 41278242816, 41841412812, 43486543872, 44079842304, 46438023168, 48922361856, 49589822592, 51539607552, 52242776064, 55037657088, 55788550416, 57982058496, 58773123072, 61917364224, 62762119218, 65229815808, 66119763456, 68719476736, 69657034752, 73383542784, 74384733888, 77309411328, 78364164096, 82556485632, 83682825624, 86973087744, 88159684608, 92876046336, 94143178827, 97844723712, 99179645184, 103079215104, 104485552128, 110075314176, 111577100832, 115964116992, 117546246144, 123834728448, 125524238436, 130459631616, 132239526912, 137438953472, 139314069504, 146767085568, 148769467776, 154618822656, 156728328192, 165112971264, 167365651248, 173946175488, 176319369216, 185752092672, 188286357654, 195689447424, 198359290368, 206158430208, 208971104256, 220150628352, 223154201664, 231928233984, 235092492288, 247669456896, 251048476872, 260919263232, 264479053824, 274877906944, 278628139008, 282429536481, 293534171136, 297538935552, 309237645312, 313456656384, 330225942528, 334731302496, 347892350976, 352638738432, 371504185344, 376572715308, 391378894848, 396718580736, 412316860416, 417942208512, 440301256704, 446308403328, 463856467968, 470184984576, 495338913792, 502096953744, 521838526464, 528958107648, 549755813888, 557256278016, 564859072962, 587068342272, 595077871104, 618475290624, 626913312768, 660451885056, 669462604992, 695784701952, 705277476864, 743008370688, 753145430616, 782757789696, 793437161472, 824633720832, 835884417024, 847288609443, 880602513408, 892616806656, 927712935936, 940369969152, 990677827584, 1004193907488, 1043677052928, 1057916215296, 1099511627776, 1114512556032, 1129718145924, 1174136684544, 1190155742208, 1236950581248, 1253826625536, 1320903770112, 1338925209984, 1391569403904, 1410554953728, 1486016741376, 1506290861232, 1565515579392, 1586874322944, 1649267441664, 1671768834048, 1694577218886, 1761205026816, 1785233613312, 1855425871872, 1880739938304, 1981355655168, 2008387814976, 2087354105856, 2115832430592, 2199023255552, 2229025112064, 2259436291848, 2348273369088, 2380311484416, 2473901162496, 2507653251072, 2541865828329, 2641807540224, 2677850419968, 2783138807808, 2821109907456, 2972033482752, 3012581722464, 3131031158784, 3173748645888, 3298534883328, 3343537668096, 3389154437772, 3522410053632, 3570467226624, 3710851743744, 3761479876608, 3962711310336, 4016775629952, 4174708211712, 4231664861184, 4398046511104, 4458050224128, 4518872583696, 4696546738176, 4760622968832, 4947802324992, 5015306502144, 5083731656658, 5283615080448, 5355700839936, 5566277615616, 5642219814912, 5944066965504, 6025163444928, 6262062317568, 6347497291776, 6597069766656, 6687075336192, 6778308875544, 7044820107264, 7140934453248, 7421703487488, 7522959753216, 7625597484987, 7925422620672, 8033551259904, 8349416423424, 8463329722368, 8796093022208, 8916100448256, 9037745167392, 9393093476352, 9521245937664, 9895604649984, 10030613004288, 10167463313316, 10567230160896, 10711401679872, 11132555231232, 11284439629824, 11888133931008, 12050326889856, 12524124635136, 12694994583552, 13194139533312, 13374150672384, 13556617751088, 14089640214528, 14281868906496, 14843406974976, 15045919506432, 15251194969974, 15850845241344, 16067102519808, 16698832846848, 16926659444736, 17592186044416, 17832200896512, 18075490334784, 18786186952704, 19042491875328, 19791209299968, 20061226008576, 20334926626632, 21134460321792, 21422803359744, 22265110462464, 22568879259648, 22876792454961, 23776267862016, 24100653779712, 25048249270272, 25389989167104, 26388279066624, 26748301344768, 27113235502176, 28179280429056, 28563737812992, 29686813949952, 30091839012864, 30502389939948, 31701690482688, 32134205039616, 33397665693696, 33853318889472, 35184372088832, 35664401793024, 36150980669568, 37572373905408, 38084983750656, 39582418599936, 40122452017152, 40669853253264, 42268920643584, 42845606719488, 44530220924928, 45137758519296, 45753584909922, 47552535724032, 48201307559424, 50096498540544, 50779978334208, 52776558133248, 53496602689536, 54226471004352, 56358560858112, 57127475625984, 59373627899904, 60183678025728, 61004779879896, 63403380965376, 64268410079232, 66795331387392, 67706637778944, 68630377364883, 70368744177664, 71328803586048, 72301961339136, 75144747810816, 76169967501312, 79164837199872, 80244904034304, 81339706506528, 84537841287168, 85691213438976, 89060441849856, 90275517038592, 91507169819844, 95105071448064, 96402615118848, 100192997081088, 101559956668416, 105553116266496, 106993205379072, 108452942008704, 112717121716224, 114254951251968, 118747255799808, 120367356051456, 122009559759792, 126806761930752, 128536820158464, 133590662774784, 135413275557888, 137260754729766, 140737488355328, 142657607172096, 144603922678272, 150289495621632, 152339935002624, 158329674399744, 160489808068608, 162679413013056, 169075682574336, 171382426877952, 178120883699712, 180551034077184, 183014339639688, 190210142896128, 192805230237696, 200385994162176, 203119913336832, 205891132094649, 211106232532992, 213986410758144, 216905884017408, 225434243432448, 228509902503936, 237494511599616, 240734712102912, 244019119519584, 253613523861504, 257073640316928, 267181325549568, 270826551115776, 274521509459532, 281474976710656, 285315214344192, 289207845356544, 300578991243264, 304679870005248, 316659348799488, 320979616137216, 325358826026112, 338151365148672, 342764853755904, 356241767399424, 361102068154368, 366028679279376, 380420285792256, 385610460475392, 400771988324352, 406239826673664, 411782264189298, 422212465065984, 427972821516288, 433811768034816, 450868486864896, 457019805007872, 474989023199232, 481469424205824, 488038239039168, 507227047723008, 514147280633856, 534362651099136, 541653102231552, 549043018919064, 562949953421312, 570630428688384, 578415690713088, 601157982486528, 609359740010496, 617673396283947, 633318697598976, 641959232274432, 650717652052224, 676302730297344, 685529707511808, 712483534798848, 722204136308736, 732057358558752, 760840571584512, 771220920950784, 801543976648704, 812479653347328, 823564528378596, 844424930131968, 855945643032576, 867623536069632, 901736973729792, 914039610015744, 949978046398464, 962938848411648, 976076478078336, 1014454095446016, 1028294561267712, 1068725302198272, 1083306204463104, 1098086037838128, 1141260857376768, 1156831381426176, 1202315964973056, 1218719480020992, 1235346792567894, 1266637395197952, 1283918464548864, 1301435304104448, 1352605460594688, 1371059415023616, 1424967069597696, 1444408272617472, 1464114717117504, 1521681143169024, 1542441841901568, 1603087953297408, 1624959306694656, 1647129056757192, 1688849860263936, 1711891286065152, 1735247072139264, 1803473947459584, 1828079220031488, 1853020188851841, 1899956092796928, 1925877696823296, 1952152956156672, 2028908190892032, 2056589122535424, 2137450604396544, 2166612408926208, 2196172075676256, 2282521714753536, 2313662762852352, 2404631929946112, 2437438960041984, 2470693585135788, 2533274790395904, 2567836929097728, 2602870608208896, 2705210921189376, 2742118830047232, 2849934139195392, 2888816545234944, 2928229434235008, 3043362286338048, 3084883683803136, 3206175906594816, 3249918613389312, 3294258113514384, 3423782572130304, 3470494144278528, 3606947894919168, 3656158440062976, 3706040377703682, 3799912185593856, 3851755393646592, 3904305912313344, 4057816381784064, 4113178245070848, 4274901208793088, 4333224817852416, 4392344151352512, 4565043429507072, 4627325525704704, 4809263859892224, 4874877920083968, 4941387170271576, 5066549580791808, 5135673858195456, 5205741216417792, 5410421842378752, 5484237660094464, 5559060566555523, 5699868278390784, 5777633090469888, 5856458868470016, 6086724572676096, 6169767367606272, 6412351813189632, 6499837226778624, 6588516227028768, 6847565144260608, 6940988288557056, 7213895789838336, 7312316880125952, 7412080755407364, 7599824371187712, 7703510787293184, 7808611824626688, 8115632763568128, 8226356490141696, 8549802417586176, 8666449635704832, 8784688302705024, 9130086859014144, 9254651051409408, 9618527719784448, 9749755840167936, 9882774340543152, 10271347716390912, 10411482432835584, 10820843684757504, 10968475320188928, 11118121133111046, 11399736556781568, 11555266180939776, 11712917736940032, 12173449145352192, 12339534735212544, 12824703626379264, 12999674453557248, 13177032454057536, 13695130288521216, 13881976577114112, 14427791579676672, 14624633760251904, 14824161510814728, 15199648742375424, 15407021574586368, 15617223649253376, 16231265527136256, 16452712980283392, 16677181699666569, 17099604835172352, 17332899271409664, 17569376605410048, 18260173718028288, 18509302102818816, 19237055439568896, 19499511680335872, 19765548681086304, 20542695432781824, 20822964865671168, 21641687369515008, 21936950640377856, 22236242266222092, 22799473113563136, 23110532361879552, 23425835473880064, 24346898290704384, 24679069470425088, 25649407252758528, 25999348907114496, 26354064908115072, 27390260577042432, 27763953154228224, 28855583159353344, 29249267520503808, 29648323021629456, 30814043149172736, 31234447298506752, 32462531054272512, 32905425960566784, 33354363399333138, 34199209670344704, 34665798542819328, 35138753210820096, 36520347436056576, 37018604205637632, 38474110879137792, 38999023360671744, 39531097362172608, 41085390865563648, 41645929731342336, 43283374739030016, 43873901280755712, 44472484532444184, 45598946227126272, 46221064723759104, 46851670947760128, 48693796581408768, 49358138940850176, 50031545098999707, 51298814505517056, 51998697814228992, 52708129816230144, 54780521154084864, 55527906308456448, 57711166318706688, 58498535041007616, 59296646043258912, 61628086298345472, 62468894597013504, 64925062108545024, 65810851921133568, 66708726798666276, 68398419340689408, 69331597085638656, 70277506421640192, 73040694872113152, 74037208411275264, 76948221758275584, 77998046721343488, 79062194724345216, 82170781731127296, 83291859462684672, 86566749478060032, 87747802561511424, 88944969064888368, 92442129447518208, 93703341895520256, 97387593162817536, 98716277881700352, 100063090197999414, 102597629011034112, 103997395628457984, 105416259632460288, 109561042308169728, 111055812616912896, 115422332637413376, 116997070082015232, 118593292086517824, 123256172596690944, 124937789194027008, 129850124217090048, 131621703842267136, 133417453597332552, 136796838681378816, 138663194171277312, 140555012843280384, 146081389744226304, 148074416822550528, 150094635296999121, 153896443516551168, 155996093442686976, 158124389448690432, 164341563462254592, 166583718925369344, 173133498956120064, 175495605123022848, 177889938129776736, 184884258895036416, 187406683791040512, 194775186325635072, 197432555763400704, 200126180395998828, 205195258022068224, 207994791256915968, 210832519264920576, 219122084616339456, 222111625233825792, 230844665274826752, 233994140164030464, 237186584173035648, 246512345193381888, 249875578388054016, 259700248434180096, 263243407684534272, 266834907194665104, 277326388342554624, 281110025686560768, 292162779488452608, 296148833645101056, 300189270593998242, 307792887033102336, 311992186885373952, 316248778897380864, 328683126924509184, 333167437850738688, 346266997912240128, 350991210246045696, 355779876259553472, 369768517790072832, 374813367582081024, 389550372651270144, 394865111526801408, 400252360791997656, 410390516044136448, 415989582513831936, 421665038529841152, 438244169232678912, 444223250467651584, 450283905890997363, 461689330549653504, 467988280328060928, 474373168346071296, 493024690386763776, 499751156776108032, 519400496868360192, 526486815369068544, 533669814389330208, 554652776685109248, 562220051373121536, 584325558976905216, 592297667290202112, 600378541187996484, 615585774066204672, 623984373770747904, 632497557794761728, 657366253849018368, 666334875701477376, 692533995824480256, 701982420492091392, 711559752519106944, 739537035580145664, 749626735164162048, 779100745302540288, 789730223053602816, 800504721583995312, 831979165027663872, 843330077059682304, 876488338465357824, 888446500935303168, 900567811781994726, 923378661099307008, 935976560656121856, 948746336692142592, 986049380773527552, 999502313552216064, 1038800993736720384, 1052973630738137088, 1067339628778660416, 1109305553370218496, 1124440102746243072, 1168651117953810432, 1184595334580404224, 1200757082375992968, 1231171548132409344, 1247968747541495808, 1264995115589523456, 1314732507698036736, 1332669751402954752, 1350851717672992089, 1385067991648960512, 1403964840984182784, 1423119505038213888, 1479074071160291328, 1499253470328324096, 1558201490605080576, 1579460446107205632, 1601009443167990624, 1663958330055327744, 1686660154119364608, 1752976676930715648, 1776893001870606336, 1801135623563989452, 1846757322198614016, 1871953121312243712, 1897492673384285184, 1972098761547055104, 1999004627104432128, 2077601987473440768, 2105947261476274176, 2134679257557320832, 2218611106740436992, 2248880205492486144, 2337302235907620864, 2369190669160808448, 2401514164751985936, 2495937495082991616, 2529990231179046912, 2629465015396073472, 2665339502805909504, 2701703435345984178, 2770135983297921024, 2807929681968365568, 2846239010076427776, 2958148142320582656, 2998506940656648192, 3116402981210161152, 3158920892214411264, 3202018886335981248, 3327916660110655488, 3373320308238729216, 3505953353861431296, 3553786003741212672, 3602271247127978904, 3693514644397228032, 3743906242624487424, 3794985346768570368, 3944197523094110208, 3998009254208864256, 4052555153018976267, 4155203974946881536, 4211894522952548352, 4269358515114641664, 4437222213480873984, 4497760410984972288, 4674604471815241728, 4738381338321616896, 4803028329503971872, 4991874990165983232, 5059980462358093824, 5258930030792146944, 5330679005611819008, 5403406870691968356, 5540271966595842048, 5615859363936731136, 5692478020152855552, 5916296284641165312, 5997013881313296384, 6232805962420322304, 6317841784428822528, 6404037772671962496, 6655833320221310976, 6746640616477458432, 7011906707722862592, 7107572007482425344, 7204542494255957808, 7487812485248974848, 7589970693537140736, 7888395046188220416, 7996018508417728512, 8105110306037952534, 8310407949893763072, 8423789045905096704, 8538717030229283328, 8874444426961747968, 8995520821969944576, 9349208943630483456, 9476762676643233792, 9606056659007943744, 9983749980331966464, 10119960924716187648, 10517860061584293888, 10661358011223638016, 10806813741383936712, 11080543933191684096, 11231718727873462272, 11384956040305711104, 11832592569282330624, 11994027762626592768, 12157665459056928801, 12465611924840644608, 12635683568857645056, 12808075545343924992, 13311666640442621952, 13493281232954916864, 14023813415445725184, 14215144014964850688, 14409084988511915616, 14975624970497949696, 15179941387074281472, 15776790092376440832, 15992037016835457024, 16210220612075905068, 16620815899787526144, 16847578091810193408, 17077434060458566656, 17748888853923495936, 17991041643939889152, 18698417887260966912, 18953525353286467584, 19212113318015887488, 19967499960663932928, 20239921849432375296, 21035720123168587776, 21322716022447276032, 21613627482767873424, 22463437455746924544, 22769912080611422208, 23665185138564661248, 23988055525253185536, 24315330918113857602, 24931223849681289216, 25271367137715290112, 25616151090687849984, 26623333280885243904, 26986562465909833728, 28047626830891450368, 28430288029929701376, 28818169977023831232, 29951249940995899392, 30359882774148562944, 31553580184752881664, 31984074033670914048, 32420441224151810136, 33241631799575052288, 33695156183620386816, 34154868120917133312, 35497777707846991872, 35982083287879778304, 36472996377170786403, 37396835774521933824, 37907050706572935168, 38424226636031774976, 39934999921327865856, 40479843698864750592, 42071440246337175552, 42645432044894552064, 43227254965535746848, 44926874911493849088, 45539824161222844416, 47330370277129322496, 47976111050506371072, 48630661836227715204, 49862447699362578432, 50542734275430580224, 51232302181375699968, 53246666561770487808, 53973124931819667456, 56095253661782900736, 56860576059859402752, 57636339954047662464, 59902499881991798784, 60719765548297125888, 63107160369505763328, 63968148067341828096, 64840882448303620272, 67390312367240773632, 68309736241834266624, 70995555415693983744, 71964166575759556608, 72945992754341572806, 74793671549043867648, 75814101413145870336, 76848453272063549952, 79869999842655731712, 80959687397729501184, 84142880492674351104, 85290864089789104128, 86454509931071493696, 89853749822987698176, 91079648322445688832, 94660740554258644992, 95952222101012742144, 97261323672455430408, 99724895398725156864, 101085468550861160448, 102464604362751399936, 106493333123540975616, 107946249863639334912, 109418989131512359209, 112190507323565801472, 113721152119718805504, 115272679908095324928, 119804999763983597568, 121439531096594251776, 126214320739011526656, 127936296134683656192, 129681764896607240544, 134780624734481547264, 136619472483668533248, 141991110831387967488, 143928333151519113216, 145891985508683145612, 149587343098087735296, 151628202826291740672, 153696906544127099904, 159739999685311463424, 161919374795459002368, 168285760985348702208, 170581728179578208256, 172909019862142987392, 179707499645975396352, 182159296644891377664, 189321481108517289984, 191904444202025484288, 194522647344910860816, 202170937101722320896, 204929208725502799872, 212986666247081951232, 215892499727278669824, 218837978263024718418, 224381014647131602944, 227442304239437611008, 230545359816190649856, 239609999527967195136, 242879062193188503552, 252428641478023053312, 255872592269367312384, 259363529793214481088, 269561249468963094528, 273238944967337066496, 283982221662775934976, 287856666303038226432, 291783971017366291224, 299174686196175470592, 303256405652583481344, 307393813088254199808, 319479999370622926848, 323838749590918004736, 328256967394537077627, 336571521970697404416, 341163456359156416512, 345818039724285974784, 359414999291950792704, 364318593289782755328, 378642962217034579968, 383808888404050968576, 389045294689821721632, 404341874203444641792, 409858417451005599744, 425973332494163902464, 431784999454557339648, 437675956526049436836, 448762029294263205888, 454884608478875222016, 461090719632381299712, 479219999055934390272, 485758124386377007104, 504857282956046106624, 511745184538734624768, 518727059586428962176, 539122498937926189056, 546477889934674132992, 567964443325551869952, 575713332606076452864, 583567942034732582448, 606512811305166962688, 614787626176508399616, 638959998741245853696, 647677499181836009472, 656513934789074155254, 673143043941394808832, 682326912718312833024, 691636079448571949568, 718829998583901585408, 728637186579565510656, 757285924434069159936, 767617776808101937152, 778090589379643443264, 808683748406889283584, 819716834902011199488, 851946664988327804928, 863569998909114679296, 875351913052098873672, 897524058588526411776, 909769216957750444032, 922181439264762599424, 958439998111868780544, 971516248772754014208, 984770902183611232881, 1009714565912092213248, 1023490369077469249536, 1037454119172857924352, 1078244997875852378112, 1092955779869348265984, 1135928886651103739904, 1151426665212152905728, 1167135884069465164896, 1213025622610333925376, 1229575252353016799232, 1277919997482491707392, 1295354998363672018944, 1313027869578148310508, 1346286087882789617664, 1364653825436625666048, 1383272158897143899136, 1437659997167803170816, 1457274373159131021312, 1514571848868138319872, 1535235553616203874304, 1556181178759286886528, 1617367496813778567168, 1639433669804022398976, 1703893329976655609856, 1727139997818229358592, 1750703826104197747344, 1819538433915500888064, 1844362878529525198848, 1916879996223737561088, 1943032497545508028416, 1969541804367222465762, 2019429131824184426496, 2046980738154938499072, 2074908238345715848704, 2156489995751704756224, 2185911559738696531968, 2271857773302207479808, 2302853330424305811456, 2334271768138930329792, 2426051245220667850752, 2459150504706033598464, 2555839994964983414784, 2590709996727344037888, 2626055739156296621016, 2692572175765579235328, 2729307650873251332096, 2766544317794287798272, 2875319994335606341632, 2914548746318262042624, 2954312706550833698643, 3029143697736276639744, 3070471107232407748608, 3112362357518573773056, 3234734993627557134336, 3278867339608044797952, 3407786659953311219712, 3454279995636458717184, 3501407652208395494688, 3639076867831001776128, 3688725757059050397696, 3833759992447475122176, 3886064995091016056832, 3939083608734444931524, 4038858263648368852992, 4093961476309876998144, 4149816476691431697408, 4312979991503409512448, 4371823119477393063936, 4543715546604414959616, 4605706660848611622912, 4668543536277860659584, 4852102490441335701504, 4918301009412067196928, 5111679989929966829568, 5181419993454688075776, 5252111478312593242032, 5458615301746502664192, 5533088635588575596544, 5750639988671212683264, 5829097492636524085248, 5908625413101667397286, 6058287395472553279488, 6140942214464815497216, 6224724715037147546112, 6469469987255114268672, 6557734679216089595904, 6815573319906622439424, 6908559991272917434368, 7002815304416790989376, 7278153735662003552256, 7377451514118100795392, 7667519984894950244352, 7772129990182032113664, 7878167217468889863048, 8077716527296737705984, 8187922952619753996288, 8299632953382863394816, 8625959983006819024896, 8743646238954786127872, 8862938119652501095929, 9087431093208829919232, 9211413321697223245824, 9337087072555721319168, 9704204980882671403008, 9836602018824134393856, 10223359979859933659136, 10362839986909376151552, 10504222956625186484064, 10917230603493005328384, 11066177271177151193088, 11501279977342425366528, 11658194985273048170496, 11817250826203334794572, 12116574790945106558976, 12281884428929630994432, 12449449430074295092224, 12938939974510228537344, 13115469358432179191808, 13631146639813244878848, 13817119982545834868736, 14005630608833581978752, 14556307471324007104512, 14754903028236201590784, 15335039969789900488704, 15544259980364064227328, 15756334434937779726096, 16375845905239507992576, 16599265906765726789632, 17251919966013638049792, 17487292477909572255744, 17725876239305002191858, 18174862186417659838464, 18422826643394446491648, 18674174145111442638336, 19408409961765342806016, 19673204037648268787712, 20446719959719867318272, 20725679973818752303104, 21008445913250372968128, 21834461206986010656768, 22132354542354302386176, 23002559954684850733056, 23316389970546096340992, 23634501652406669589144, 24233149581890213117952, 24563768857859261988864, 24898898860148590184448, 25877879949020457074688, 26230938716864358383616, 26588814358957503287787, 27262293279626489757696, 27634239965091669737472, 28011261217667163957504, 29112614942648014209024, 29509806056472403181568, 30670079939579800977408, 31088519960728128454656, 31512668869875559452192, 32751691810479015985152, 33198531813531453579264, 34503839932027276099584, 34974584955819144511488, 35451752478610004383716, 36349724372835319676928, 36845653286788892983296, 37348348290222885276672, 38816819923530685612032, 39346408075296537575424, 40893439919439734636544, 41451359947637504606208, 42016891826500745936256, 43668922413972021313536, 44264709084708604772352, 46005119909369701466112, 46632779941092192681984, 47269003304813339178288, 49127537715718523977728, 49797797720297180368896, 51755759898040914149376, 52461877433728716767232, 53177628717915006575574, 54524586559252979515392, 55268479930183339474944, 56022522435334327915008, 58225229885296028418048, 59019612112944806363136, 61340159879159601954816, 62177039921456256909312, 63025337739751118904384, 65503383620958031970304, 66397063627062907158528, 69007679864054552199168, 69949169911638289022976, 70903504957220008767432, 72699448745670639353856, 73691306573577785966592, 74696696580445770553344, 77633639847061371224064, 78692816150593075150848, 79766443076872509863361, 81786879838879469273088, 82902719895275009212416, 84033783653001491872512, 87337844827944042627072, 88529418169417209544704, 92010239818739402932224, 93265559882184385363968, 94538006609626678356576, 98255075431437047955456, 99595595440594360737792, 103511519796081828298752, 104923754867457433534464, 106355257435830013151148, 109049173118505959030784, 110536959860366678949888, 112045044870668655830016, 116450459770592056836096, 118039224225889612726272, 122680319758319203909632, 124354079842912513818624, 126050675479502237808768, 131006767241916063940608, 132794127254125814317056, 138015359728109104398336, 139898339823276578045952, 141807009914440017534864, 147382613147155571933184, 149393393160891541106688, 155267279694122742448128, 157385632301186150301696, 159532886153745019726722, 163573759677758938546176, 165805439790550018424832, 168067567306002983745024, 174675689655888085254144, 177058836338834419089408, 184020479637478805864448, 186531119764368770727936, 189076013219253356713152, 196510150862874095910912, 199191190881188721475584, 207023039592163656597504, 209847509734914867068928, 212710514871660026302296, 218098346237011918061568, 221073919720733357899776, 224090089741337311660032, 232900919541184113672192, 236078448451779225452544, 239299329230617529590083, 245360639516638407819264, 248708159685825027637248, 252101350959004475617536, 262013534483832127881216, 265588254508251628634112, 276030719456218208796672, 279796679646553156091904, 283614019828880035069728, 294765226294311143866368, 298786786321783082213376, 310534559388245484896256, 314771264602372300603392, 319065772307490039453444, 327147519355517877092352, 331610879581100036849664, 336135134612005967490048, 349351379311776170508288, 354117672677668838178816, 368040959274957611728896, 373062239528737541455872, 378152026438506713426304, 393020301725748191821824, 398382381762377442951168, 414046079184327313195008, 419695019469829734137856, 425421029743320052604592, 442147839441466715799552, 448180179482674623320064, 465801839082368227344384, 472156896903558450905088, 478598658461235059180166, 490721279033276815638528, 497416319371650055274496, 504202701918008951235072, 524027068967664255762432, 531176509016503257268224, 552061438912436417593344, 559593359293106312183808, 567228039657760070139456, 589530452588622287732736, 597573572643566164426752, 621069118776490969792512, 629542529204744601206784, 638131544614980078906888, 654295038711035754184704, 663221759162200073699328, 672270269224011934980096, 698702758623552341016576, 708235345355337676357632, 736081918549915223457792, 746124479057475082911744, 756304052877013426852608, 786040603451496383643648, 796764763524754885902336, 828092158368654626390016, 839390038939659468275712, 850842059486640105209184, 884295678882933431599104, 896360358965349246640128, 931603678164736454688768, 944313793807116901810176, 957197316922470118360332, 981442558066553631277056, 994832638743300110548992, 1008405403836017902470144, 1048054137935328511524864, 1062353018033006514536448, 1104122877824872835186688, 1119186718586212624367616, 1134456079315520140278912, 1179060905177244575465472, 1195147145287132328853504, 1242138237552981939585024, 1259085058409489202413568, 1276263089229960157813776, 1326443518324400147398656, 1344540538448023869960192, 1397405517247104682033152, 1416470690710675352715264, 1472163837099830446915584, 1492248958114950165823488, 1512608105754026853705216, 1572081206902992767287296, 1593529527049509771804672, 1656184316737309252780032, 1678780077879318936551424, 1701684118973280210418368, 1768591357765866863198208, 1792720717930698493280256, 1863207356329472909377536, 1888627587614233803620352, 1914394633844940236720664, 1962885116133107262554112, 1989665277486600221097984, 2016810807672035804940288, 2096108275870657023049728, 2124706036066013029072896, 2208245755649745670373376, 2238373437172425248735232, 2268912158631040280557824, 2358121810354489150930944, 2390294290574264657707008, 2484276475105963879170048, 2518170116818978404827136, 2552526178459920315627552, 2652887036648800294797312, 2689081076896047739920384, 2794811034494209364066304, 2832941381421350705430528, 2944327674199660893831168, 2984497916229900331646976, 3025216211508053707410432, 3144162413805985534574592, 3187059054099019543609344, 3312368633474618505560064, 3357560155758637873102848, 3403368237946560420836736, 3537182715531733726396416, 3585441435861396986560512, 3726414712658945818755072, 3777255175228467607240704, 3828789267689880473441328, 3979330554973200442195968, 4033621615344071609880576, 4192216551741314046099456, 4249412072132026058145792, 4416491511299491340746752, 4476746874344850497470464, 4537824317262080561115648, 4716243620708978301861888, 4780588581148529315414016, 4968552950211927758340096, 5036340233637956809654272, 5105052356919840631255104, 5305774073297600589594624, 5378162153792095479840768, 5589622068988418728132608, 5665882762842701410861056, 5888655348399321787662336, 5968995832459800663293952, 6050432423016107414820864, 6288324827611971069149184, 6374118108198039087218688, 6624737266949237011120128, 6715120311517275746205696, 6806736475893120841673472, 7074365431063467452792832, 7170882871722793973121024, 7452829425317891637510144, 7554510350456935214481408, 7657578535379760946882656, 7958661109946400884391936, 8067243230688143219761152, 8384433103482628092198912, 8498824144264052116291584, 8832983022598982681493504, 8953493748689700994940928, 9075648634524161122231296, 9432487241417956603723776, 9561177162297058630828032, 9937105900423855516680192, 10072680467275913619308544, 10210104713839681262510208, 10611548146595201179189248, 10756324307584190959681536, 11179244137976837456265216, 11331765525685402821722112, 11937991664919601326587904, 12100864846032214829641728, 12576649655223942138298368, 12748236216396078174437376, 13249474533898474022240256, 13430240623034551492411392, 13613472951786241683346944, 14148730862126934905585664, 14341765743445587946242048, 14905658850635783275020288, 15109020700913870428962816, 15315157070759521893765312, 15917322219892801768783872, 16134486461376286439522304, 16768866206965256184397824, 16997648288528104232583168, 17665966045197965362987008, 17906987497379401989881856, 18151297269048322244462592, 18864974482835913207447552, 19122354324594117261656064, 19874211800847711033360384, 20145360934551827238617088, 20420209427679362525020416, 21223096293190402358378496, 21512648615168381919363072, 22358488275953674912530432, 22663531051370805643444224, 23875983329839202653175808, 24201729692064429659283456, 25153299310447884276596736, 25496472432792156348874752, 26498949067796948044480512, 26860481246069102984822784, 27226945903572483366693888, 28297461724253869811171328, 28683531486891175892484096, 29811317701271566550040576, 30218041401827740857925632, 30630314141519043787530624, 31834644439785603537567744, 32268972922752572879044608, 33537732413930512368795648, 33995296577056208465166336, 35813974994758803979763712, 36302594538096644488925184, 37729948965671826414895104, 38244708649188234523312128, 39748423601695422066720768, 40290721869103654477234176, 40840418855358725050040832, 42446192586380804716756992, 43025297230336763838726144, 44716976551907349825060864, 45327062102741611286888448, 47751966659678405306351616, 48403459384128859318566912, 50306598620895768553193472, 50992944865584312697749504, 52997898135593896088961024, 53720962492138205969645568, 54453891807144966733387776, 56594923448507739622342656, 57367062973782351784968192, 59622635402543133100081152, 60436082803655481715851264, 61260628283038087575061248, 63669288879571207075135488, 64537945845505145758089216, 67075464827861024737591296, 67990593154112416930332672, 71627949989517607959527424, 72605189076193288977850368, 75459897931343652829790208, 76489417298376469046624256, 79496847203390844133441536, 80581443738207308954468352, 81680837710717450100081664, 84892385172761609433513984, 86050594460673527677452288, 89433953103814699650121728, 90654124205483222573776896, 95503933319356810612703232, 96806918768257718637133824, 100613197241791537106386944, 101985889731168625395499008, 107441924984276411939291136, 108907783614289933466775552, 113189846897015479244685312, 114734125947564703569936384, 119245270805086266200162304, 120872165607310963431702528, 122521256566076175150122496, 127338577759142414150270976, 129075891691010291516178432, 134150929655722049475182592, 135981186308224833860665344, 143255899979035215919054848, 145210378152386577955700736, 150919795862687305659580416, 152978834596752938093248512, 158993694406781688266883072, 161162887476414617908936704, 163361675421434900200163328, 169784770345523218867027968, 172101188921347055354904576, 178867906207629399300243456, 181308248410966445147553792, 191007866638713621225406464, 193613837536515437274267648, 201226394483583074212773888, 203971779462337250790998016, 214883849968552823878582272, 217815567228579866933551104, 226379693794030958489370624, 229468251895129407139872768, 238490541610172532400324608, 241744331214621926863405056, 245042513132152350300244992, 254677155518284828300541952, 258151783382020583032356864, 268301859311444098950365184, 271962372616449667721330688, 286511799958070431838109696, 290420756304773155911401472, 301839591725374611319160832, 305957669193505876186497024, 322325774952829235817873408, 326723350842869800400326656, 339569540691046437734055936, 344202377842694110709809152, 357735812415258798600486912, 362616496821932890295107584, 382015733277427242450812928, 387227675073030874548535296, 402452788967166148425547776, 407943558924674501581996032, 429767699937105647757164544, 435631134457159733867102208, 452759387588061916978741248, 458936503790258814279745536, 476981083220345064800649216, 483488662429243853726810112, 490085026264304700600489984, 509354311036569656601083904, 516303566764041166064713728, 536603718622888197900730368, 543924745232899335442661376, 573023599916140863676219392, 580841512609546311822802944, 603679183450749222638321664, 611915338387011752372994048, 644651549905658471635746816, 653446701685739600800653312, 679139081382092875468111872, 688404755685388221419618304, 715471624830517597200973824, 725232993643865780590215168, 764031466554854484901625856, 774455350146061749097070592, 804905577934332296851095552, 815887117849349003163992064, 859535399874211295514329088, 871262268914319467734204416, 905518775176123833957482496, 917873007580517628559491072, 966977324858487707453620224, 980170052528609401200979968, 1018708622073139313202167808, 1032607133528082332129427456, 1073207437245776395801460736, 1087849490465798670885322752, 1146047199832281727352438784, 1161683025219092623645605888, 1207358366901498445276643328, 1223830676774023504745988096, 1289303099811316943271493632, 1306893403371479201601306624, 1358278162764185750936223744, 1376809511370776442839236608, 1430943249661035194401947648, 1450465987287731561180430336, 1528062933109708969803251712, 1548910700292123498194141184, 1609811155868664593702191104, 1631774235698698006327984128, 1719070799748422591028658176, 1742524537828638935468408832, 1811037550352247667914964992, 1835746015161035257118982144, 1933954649716975414907240448, 1960340105057218802401959936, 2037417244146278626404335616, 2065214267056164664258854912, 2146414874491552791602921472, 2175698980931597341770645504, 2292094399664563454704877568, 2323366050438185247291211776, 2414716733802996890553286656, 2447661353548047009491976192, 2578606199622633886542987264, 2613786806742958403202613248, 2716556325528371501872447488, 2753619022741552885678473216, 2900931974575463122360860672, 3056125866219417939606503424, 3097821400584246996388282368, 3219622311737329187404382208, 3263548471397396012655968256, 3438141599496845182057316352, 3485049075657277870936817664, 3622075100704495335829929984, 3671492030322070514237964288, 3867909299433950829814480896, 3920680210114437604803919872, 4074834488292557252808671232, 4130428534112329328517709824, 4292829748983105583205842944, 4351397961863194683541291008, 4584188799329126909409755136, 4646732100876370494582423552, 4829433467605993781106573312, 4895322707096094018983952384, 5157212399245267773085974528, 5227573613485916806405226496, 5433112651056743003744894976, 5507238045483105771356946432, 5801863949150926244721721344, 6112251732438835879213006848, 6195642801168493992776564736, 6439244623474658374808764416, 6527096942794792025311936512, 6876283198993690364114632704, 6970098151314555741873635328, 7244150201408990671659859968, 7342984060644141028475928576, 7735818598867901659628961792, 7841360420228875209607839744, 8149668976585114505617342464, 8260857068224658657035419648, 8702795923726389367082582016, 9168377598658253818819510272, 9293464201752740989164847104, 9658866935211987562213146624, 9790645414192188037967904768, 10314424798490535546171949056, 10455147226971833612810452992, 10866225302113486007489789952, 11014476090966211542713892864, 11603727898301852489443442688, 12224503464877671758426013696, 12391285602336987985553129472, 12878489246949316749617528832, 13054193885589584050623873024, 13752566397987380728229265408, 13940196302629111483747270656, 14488300402817981343319719936, 14685968121288282056951857152, 15471637197735803319257923584, 15682720840457750419215679488, 16299337953170229011234684928, 16521714136449317314070839296, 17405591847452778734165164032, 18336755197316507637639020544, 18586928403505481978329694208, 19317733870423975124426293248, 19581290828384376075935809536, 20628849596981071092343898112, 20910294453943667225620905984, 21732450604226972014979579904, 22028952181932423085427785728, 23207455796603704978886885376, 24449006929755343516852027392, 24782571204673975971106258944, 26108387771179168101247746048, 27505132795974761456458530816, 27880392605258222967494541312, 28976600805635962686639439872, 29371936242576564113903714304, 30943274395471606638515847168, 31365441680915500838431358976, 32598675906340458022469369856, 33043428272898634628141678592, 34811183694905557468330328064, 36673510394633015275278041088, 37173856807010963956659388416, 38635467740847950248852586496, 39162581656768752151871619072, 41257699193962142184687796224, 41820588907887334451241811968, 43464901208453944029959159808, 44057904363864846170855571456, 46414911593207409957773770752, 48898013859510687033704054784, 49565142409347951942212517888, 52216775542358336202495492096, 55010265591949522912917061632, 55760785210516445934989082624, 57953201611271925373278879744, 58743872485153128227807428608, 61886548790943213277031694336, 62730883361831001676862717952, 65197351812680916044938739712, 66086856545797269256283357184, 69622367389811114936660656128, 73347020789266030550556082176, 74347713614021927913318776832, 78325163313537504303743238144, 82515398387924284369375592448, 83641177815774668902483623936, 86929802416907888059918319616, 88115808727729692341711142912, 92829823186414819915547541504, 97796027719021374067408109568, 99130284818695903884425035776, 104433551084716672404990984192, 110020531183899045825834123264, 111521570421032891869978165248, 115906403222543850746557759488, 117487744970306256455614857216, 123773097581886426554063388672, 125461766723662003353725435904, 130394703625361832089877479424, 132173713091594538512566714368, 139244734779622229873321312256, 146694041578532061101112164352, 148695427228043855826637553664, 156650326627075008607486476288, 165030796775848568738751184896, 167282355631549337804967247872, 173859604833815776119836639232, 176231617455459384683422285824, 185659646372829639831095083008, 195592055438042748134816219136, 198260569637391807768850071552, 208867102169433344809981968384, 220041062367798091651668246528, 223043140842065783739956330496, 234975489940612512911229714432, 247546195163772853108126777344, 250923533447324006707450871808, 260789407250723664179754958848, 264347426183189077025133428736, 278489469559244459746642624512, 293388083157064122202224328704, 297390854456087711653275107328, 313300653254150017214972952576, 330061593551697137477502369792, 334564711263098675609934495744, 347719209667631552239673278464, 352463234910918769366844571648, 371319292745659279662190166016, 391184110876085496269632438272, 396521139274783615537700143104, 417734204338866689619963936768, 440082124735596183303336493056, 446086281684131567479912660992, 469950979881225025822459428864, 495092390327545706216253554688, 501847066894648013414901743616, 521578814501447328359509917696, 528694852366378154050266857472, 556978939118488919493285249024, 586776166314128244404448657408, 594781708912175423306550214656, 626601306508300034429945905152, 660123187103394274955004739584, 669129422526197351219868991488, 704926469821837538733689143296, 742638585491318559324380332032, 782368221752170992539264876544, 793042278549567231075400286208, 835468408677733379239927873536, 880164249471192366606672986112, 892172563368263134959825321984, 939901959762450051644918857728, 990184780655091412432507109376, 1003694133789296026829803487232, 1043157629002894656719019835392, 1057389704732756308100533714944, 1113957878236977838986570498048, 1173552332628256488808897314816, 1189563417824350846613100429312, 1253202613016600068859891810304, 1320246374206788549910009479168, 1338258845052394702439737982976, 1409852939643675077467378286592, 1485277170982637118648760664064, 1564736443504341985078529753088, 1586084557099134462150800572416, 1670936817355466758479855747072, 1760328498942384733213345972224, 1784345126736526269919650643968, 1879803919524900103289837715456, 1980369561310182824865014218752, 2007388267578592053659606974464, 2114779409465512616201067429888, 2227915756473955677973140996096, 2347104665256512977617794629632, 2379126835648701693226200858624, 2506405226033200137719783620608, 2640492748413577099820018958336, 2676517690104789404879475965952, 2819705879287350154934756573184, 2970554341965274237297521328128, 3129472887008683970157059506176, 3172169114198268924301601144832, 3341873634710933516959711494144, 3520656997884769466426691944448, 3568690253473052539839301287936, 3759607839049800206579675430912, 3960739122620365649730028437504, 4014776535157184107319213948928, 4229558818931025232402134859776, 4455831512947911355946281992192, 4694209330513025955235589259264, 4758253671297403386452401717248, 5012810452066400275439567241216, 5280985496827154199640037916672, 5353035380209578809758951931904, 5639411758574700309869513146368, 5941108683930548474595042656256, 6344338228396537848603202289664, 6683747269421867033919422988288, 7041313995769538932853383888896, 7137380506946105079678602575872, 7519215678099600413159350861824, 7921478245240731299460056875008, 8029553070314368214638427897856, 8459117637862050464804269719552, 8911663025895822711892563984384, 9388418661026051910471178518528, 9516507342594806772904803434496, 10025620904132800550879134482432, 10561970993654308399280075833344, 10706070760419157619517903863808, 11278823517149400619739026292736, 11882217367861096949190085312512, 12688676456793075697206404579328, 13367494538843734067838845976576, 14082627991539077865706767777792, 14274761013892210159357205151744, 15038431356199200826318701723648, 15842956490481462598920113750016, 16059106140628736429276855795712, 16918235275724100929608539439104, 17823326051791645423785127968768, 19033014685189613545809606868992, 20051241808265601101758268964864, 21123941987308616798560151666688, 21412141520838315239035807727616, 22557647034298801239478052585472, 23764434735722193898380170625024, 25377352913586151394412809158656, 26734989077687468135677691953152, 28165255983078155731413535555584, 28549522027784420318714410303488, 30076862712398401652637403447296, 31685912980962925197840227500032, 32118212281257472858553711591424, 33836470551448201859217078878208, 35646652103583290847570255937536, 38066029370379227091619213737984, 40102483616531202203516537929728, 42247883974617233597120303333376, 42824283041676630478071615455232, 45115294068597602478956105170944, 47528869471444387796760341250048, 50754705827172302788825618317312, 53469978155374936271355383906304, 57099044055568840637428820606976, 60153725424796803305274806894592, 63371825961925850395680455000064, 64236424562514945717107423182848, 67672941102896403718434157756416, 71293304207166581695140511875072, 76132058740758454183238427475968, 80204967233062404407033075859456, 84495767949234467194240606666752, 85648566083353260956143230910464, 90230588137195204957912210341888, 95057738942888775593520682500096, 101509411654344605577651236634624, 106939956310749872542710767812608, 114198088111137681274857641213952, 120307450849593606610549613789184, 126743651923851700791360910000128, 128472849125029891434214846365696, 135345882205792807436868315512832, 142586608414333163390281023750144, 152264117481516908366476854951936, 160409934466124808814066151718912, 171297132166706521912286461820928, 180461176274390409915824420683776, 190115477885777551187041365000192, 203018823308689211155302473269248, 213879912621499745085421535625216, 228396176222275362549715282427904, 240614901699187213221099227578368, 253487303847703401582721820000256, 256945698250059782868429692731392, 270691764411585614873736631025664, 285173216828666326780562047500288, 304528234963033816732953709903872, 320819868932249617628132303437824, 342594264333413043824572923641856, 360922352548780819831648841367552, 380230955771555102374082730000384, 406037646617378422310604946538496, 427759825242999490170843071250432, 456792352444550725099430564855808, 481229803398374426442198455156736, 513891396500119565736859385462784, 541383528823171229747473262051328, 570346433657332653561124095000576, 609056469926067633465907419807744, 641639737864499235256264606875648, 685188528666826087649145847283712, 721844705097561639663297682735104, 760461911543110204748165460000768, 812075293234756844621209893076992, 855519650485998980341686142500864, 913584704889101450198861129711616, 962459606796748852884396910313472, 1027782793000239131473718770925568, 1082767057646342459494946524102656, 1140692867314665307122248190001152, 1218112939852135266931814839615488, 1283279475728998470512529213751296, 1370377057333652175298291694567424, 1443689410195123279326595365470208, 1624150586469513689242419786153984, 1711039300971997960683372285001728, 1827169409778202900397722259423232, 1924919213593497705768793820626944, 2055565586000478262947437541851136, 2165534115292684918989893048205312, 2281385734629330614244496380002304, 2436225879704270533863629679230976, 2566558951457996941025058427502592, 2740754114667304350596583389134848, 2887378820390246558653190730940416, 3248301172939027378484839572307968, 3422078601943995921366744570003456, 3654338819556405800795444518846464, 3849838427186995411537587641253888, 4111131172000956525894875083702272, 4331068230585369837979786096410624, 4872451759408541067727259358461952, 5133117902915993882050116855005184, 5481508229334608701193166778269696, 5774757640780493117306381461880832, 6496602345878054756969679144615936, 6844157203887991842733489140006912, 7308677639112811601590889037692928, 7699676854373990823075175282507776, 8222262344001913051789750167404544, 8662136461170739675959572192821248, 9744903518817082135454518716923904, 10266235805831987764100233710010368, 10963016458669217402386333556539392, 11549515281560986234612762923761664, 12993204691756109513939358289231872, 14617355278225623203181778075385856, 15399353708747981646150350565015552, 16444524688003826103579500334809088, 17324272922341479351919144385642496, 19489807037634164270909037433847808, 20532471611663975528200467420020736, 21926032917338434804772667113078784, 23099030563121972469225525847523328, 25986409383512219027878716578463744, 29234710556451246406363556150771712, 30798707417495963292300701130031104, 32889049376007652207159000669618176, 34648545844682958703838288771284992, 38979614075268328541818074867695616, 43852065834676869609545334226157568, 46198061126243944938451051695046656, 51972818767024438055757433156927488, 58469421112902492812727112301543424, 61597414834991926584601402260062208, 65778098752015304414318001339236352, 69297091689365917407676577542569984, 77959228150536657083636149735391232, 87704131669353739219090668452315136, 92396122252487889876902103390093312, 103945637534048876111514866313854976, 116938842225804985625454224603086848, 131556197504030608828636002678472704, 138594183378731834815353155085139968, 155918456301073314167272299470782464, 175408263338707478438181336904630272, 184792244504975779753804206780186624, 207891275068097752223029732627709952, 233877684451609971250908449206173696, 263112395008061217657272005356945408, 277188366757463669630706310170279936, 311836912602146628334544598941564928, 350816526677414956876362673809260544, 415782550136195504446059465255419904, 467755368903219942501816898412347392, 526224790016122435314544010713890816, 554376733514927339261412620340559872, 623673825204293256669089197883129856, 701633053354829913752725347618521088, 831565100272391008892118930510839808, 935510737806439885003633796824694784, 1052449580032244870629088021427781632, 1247347650408586513338178395766259712, 1403266106709659827505450695237042176, 1663130200544782017784237861021679616, 1871021475612879770007267593649389568, 2104899160064489741258176042855563264, 2494695300817173026676356791532519424, 2806532213419319655010901390474084352, 3742042951225759540014535187298779136, 4209798320128979482516352085711126528, 4989390601634346053352713583065038848, 5613064426838639310021802780948168704, 7484085902451519080029070374597558272, 8419596640257958965032704171422253056, 11226128853677278620043605561896337408, 14968171804903038160058140749195116544, 16839193280515917930065408342844506112, 22452257707354557240087211123792674816, 33678386561031835860130816685689012224, 44904515414709114480174422247585349632, 67356773122063671720261633371378024448, 134713546244127343440523266742756048896])\n"
     ]
    }
   ],
   "source": [
    "\n",
    "N=50\n",
    "print(solution(N))"
   ]
  },
  {
   "cell_type": "code",
   "execution_count": 28,
   "id": "622fce43",
   "metadata": {},
   "outputs": [
    {
     "name": "stdout",
     "output_type": "stream",
     "text": [
      "6 0\n"
     ]
    },
    {
     "data": {
      "text/plain": [
       "17006112"
      ]
     },
     "execution_count": 28,
     "metadata": {},
     "output_type": "execute_result"
    }
   ],
   "source": [
    "def solution1(N):\n",
    "    a = []\n",
    "    end = N #int(math.sqrt(N))+1\n",
    "    for i in range(end):\n",
    "        for j in range(end):\n",
    "            if (2**i)*(3**j) == 64:\n",
    "                print(i,j)\n",
    "            a.append( (2**i)*(3**j))\n",
    "            \n",
    "    a.sort()\n",
    "    return a[N]\n",
    "solution1(202)"
   ]
  },
  {
   "cell_type": "code",
   "execution_count": null,
   "id": "c7efdfb3",
   "metadata": {},
   "outputs": [],
   "source": [
    "def RemoveDuplicateItems( items ):\n",
    "    return list(set(items))"
   ]
  },
  {
   "cell_type": "code",
   "execution_count": null,
   "id": "e354d74b",
   "metadata": {},
   "outputs": [],
   "source": [
    "def RemoveDuplicateItems( items ):\n",
    "    a = [ ]\n",
    "    for i in items:\n",
    "        if i not in a:\n",
    "            a.append(i)\n",
    "    return a "
   ]
  },
  {
   "cell_type": "code",
   "execution_count": 63,
   "id": "41d6da56",
   "metadata": {},
   "outputs": [
    {
     "name": "stdout",
     "output_type": "stream",
     "text": [
      "12Jan2019\n",
      "18Jan2019\n",
      "16Jan2019\n",
      "18Jan2019\n",
      "3\n"
     ]
    }
   ],
   "source": [
    "from datetime import  date,timedelta,datetime\n",
    "def dc( s):\n",
    "    return datetime.strptime(s, '%d%b%Y')\n",
    "\n",
    "s1 =  dc( input() )\n",
    "e1 = dc( input() )\n",
    "s2 =  dc( input() )\n",
    "e2 =  dc( input() )\n",
    "\n",
    "def daterange(date1, date2):\n",
    "    for n in range(int ((date2 - date1).days)+1):\n",
    "        yield date1 + timedelta(n)\n",
    "\n",
    "a = []\n",
    "for dt in daterange(s1, e1):\n",
    "    a.append( dt.strftime(\"%Y-%m-%d\") )\n",
    "    \n",
    "b = []\n",
    "for dt in daterange(s2, e2):\n",
    "    b.append( dt.strftime(\"%Y-%m-%d\") )\n",
    "    \n",
    "c = 0 \n",
    "for i in a:\n",
    "    if i in b :\n",
    "        c+= 1\n",
    "print(c)"
   ]
  },
  {
   "cell_type": "code",
   "execution_count": 61,
   "id": "c5f2e37a",
   "metadata": {},
   "outputs": [
    {
     "ename": "AttributeError",
     "evalue": "type object 'datetime.date' has no attribute 'strptime'",
     "output_type": "error",
     "traceback": [
      "\u001b[1;31m---------------------------------------------------------------------------\u001b[0m",
      "\u001b[1;31mAttributeError\u001b[0m                            Traceback (most recent call last)",
      "\u001b[1;32m<ipython-input-61-71dffa8ce806>\u001b[0m in \u001b[0;36m<module>\u001b[1;34m\u001b[0m\n\u001b[0;32m      1\u001b[0m \u001b[1;32mfrom\u001b[0m \u001b[0mdatetime\u001b[0m \u001b[1;32mimport\u001b[0m  \u001b[0mdate\u001b[0m\u001b[1;33m,\u001b[0m\u001b[0mtimedelta\u001b[0m\u001b[1;33m,\u001b[0m\u001b[0mdatetime\u001b[0m\u001b[1;33m\u001b[0m\u001b[1;33m\u001b[0m\u001b[0m\n\u001b[1;32m----> 2\u001b[1;33m \u001b[0ms1\u001b[0m \u001b[1;33m=\u001b[0m \u001b[0mdate\u001b[0m\u001b[1;33m.\u001b[0m\u001b[0mstrptime\u001b[0m\u001b[1;33m(\u001b[0m\u001b[1;34m\"20Jan2019\"\u001b[0m\u001b[1;33m,\u001b[0m \u001b[1;34m'%d%b%Y'\u001b[0m\u001b[1;33m)\u001b[0m\u001b[1;33m\u001b[0m\u001b[1;33m\u001b[0m\u001b[0m\n\u001b[0m\u001b[0;32m      3\u001b[0m \u001b[0ms1\u001b[0m\u001b[1;33m\u001b[0m\u001b[1;33m\u001b[0m\u001b[0m\n",
      "\u001b[1;31mAttributeError\u001b[0m: type object 'datetime.date' has no attribute 'strptime'"
     ]
    }
   ],
   "source": [
    "from datetime import  date,timedelta,datetime\n",
    "s1 = date.strptime(\"20Jan2019\", '%d%b%Y')\n",
    "s1"
   ]
  },
  {
   "cell_type": "code",
   "execution_count": 5,
   "id": "d4267470",
   "metadata": {},
   "outputs": [
    {
     "data": {
      "text/plain": [
       "3"
      ]
     },
     "execution_count": 5,
     "metadata": {},
     "output_type": "execute_result"
    }
   ],
   "source": [
    "def solution( blocks):\n",
    "\n",
    "    n = len(blocks)\n",
    "    ms = 0\n",
    "    for index in range(n):\n",
    "        ts = 0\n",
    "        for l in range(index, 0, -1):\n",
    "            if blocks[l-1] < blocks[l]:\n",
    "                break\n",
    "            else:\n",
    "                ts += 1\n",
    "\n",
    "        for r in range(index, n-1):\n",
    "            if blocks[r+1] < blocks[r]:\n",
    "                break\n",
    "            else:\n",
    "                ts += 1\n",
    "                \n",
    "        ms = max(ts, ms)\n",
    "\n",
    "    return ms+1\n",
    "\n",
    "blocks = [2,6,8,5]\n",
    "solution( blocks)"
   ]
  },
  {
   "cell_type": "code",
   "execution_count": 17,
   "id": "bdc3a73b",
   "metadata": {},
   "outputs": [],
   "source": [
    "def solution( A, M):\n",
    "    \n",
    "    t = set()\n",
    "    for i in range(len(A)-1):\n",
    "        for j in range(i+1, len(A)):\n",
    "            \n",
    "            if abs( A[i] - A[j]) % M == 0 :\n",
    "                print(i,j)\n",
    "                if i not in t:\n",
    "                    t.add(i)\n",
    "                if j not in t:\n",
    "                    t.add(j)\n",
    "    \n",
    "    return len(t),t\n"
   ]
  },
  {
   "cell_type": "code",
   "execution_count": 18,
   "id": "47ac9bb8",
   "metadata": {},
   "outputs": [
    {
     "name": "stdout",
     "output_type": "stream",
     "text": [
      "0 3\n",
      "1 2\n",
      "1 5\n",
      "1 6\n",
      "2 5\n",
      "2 6\n",
      "5 6\n"
     ]
    },
    {
     "data": {
      "text/plain": [
       "(6, {0, 1, 2, 3, 5, 6})"
      ]
     },
     "execution_count": 18,
     "metadata": {},
     "output_type": "execute_result"
    }
   ],
   "source": [
    "A = [-3,-2,1,0,8,7,1]\n",
    "M = 3\n",
    "solution( A, M)"
   ]
  },
  {
   "cell_type": "code",
   "execution_count": 27,
   "id": "245718b8",
   "metadata": {},
   "outputs": [
    {
     "name": "stdout",
     "output_type": "stream",
     "text": [
      "Work, work, work\n",
      "Rest and do something fun Smile\n",
      "Rest and relax\n",
      "Rest and sleep\n",
      "Rest and do something fun\n",
      "Work, work, work\n"
     ]
    }
   ],
   "source": [
    "def weekend_plans(day, condition):\n",
    "    if day == \"Saturday\":\n",
    "        print( \"Rest and\" , \"sleep\" if condition == \"Tired\" else \"relax\" )\n",
    "    elif day == 'Sunday':\n",
    "        print( \"Rest and do something\" ,\"fun Smile\" if condition == \"Happy\" else \"fun\" )\n",
    "    else:\n",
    "        print(\"Work, work, work\")\n",
    "        \n",
    "ip = [ ['Monday',\"Happy\"],  ['Sunday',\"Happy\"] ,  ['Saturday',\"Happy\"] , \n",
    "      ['Saturday',\"Tired\"] ,['Sunday',\"Tired\"], ['Friday',\"Tired\"] ]\n",
    "\n",
    "for d,c in ip:\n",
    "    weekend_plans(d,c)"
   ]
  },
  {
   "cell_type": "code",
   "execution_count": 37,
   "id": "7580bf74",
   "metadata": {},
   "outputs": [
    {
     "name": "stdout",
     "output_type": "stream",
     "text": [
      "Work, work, work\n",
      "Rest and do something fun Smile\n",
      "Rest and relax\n",
      "Rest and sleep\n",
      "Rest and do something fun\n",
      "Work, work, work\n"
     ]
    }
   ],
   "source": [
    "def weekend_plans(day, condition):\n",
    "    if day == \"Saturday\":\n",
    "        if condition == \"Tired\":\n",
    "            print( \"Rest and sleep\" )\n",
    "        else:\n",
    "            print( \"Rest and relax\" )\n",
    "            \n",
    "    elif day == 'Sunday':\n",
    "        if condition == \"Happy\":\n",
    "            print( \"Rest and do something fun Smile\"   )\n",
    "        else:\n",
    "            print( \"Rest and do something fun\" )\n",
    "            \n",
    "    else:\n",
    "        print(\"Work, work, work\")\n",
    "\n",
    "\n",
    "ip = [ ['Monday',\"Happy\"],  ['Sunday',\"Happy\"] ,  ['Saturday',\"Happy\"] , \n",
    "      ['Saturday',\"Tired\"] ,['Sunday',\"Tired\"], ['Friday',\"Tired\"] ]\n",
    "\n",
    "for d,c in ip:\n",
    "    weekend_plans(d,c) "
   ]
  },
  {
   "cell_type": "code",
   "execution_count": 35,
   "id": "e857fa77",
   "metadata": {},
   "outputs": [
    {
     "ename": "ValueError",
     "evalue": "invalid literal for int() with base 2: '8'",
     "output_type": "error",
     "traceback": [
      "\u001b[1;31m---------------------------------------------------------------------------\u001b[0m",
      "\u001b[1;31mValueError\u001b[0m                                Traceback (most recent call last)",
      "\u001b[1;32m<ipython-input-35-7189d0eb7630>\u001b[0m in \u001b[0;36m<module>\u001b[1;34m\u001b[0m\n\u001b[1;32m----> 1\u001b[1;33m \u001b[0mint\u001b[0m\u001b[1;33m(\u001b[0m\u001b[1;34m'8'\u001b[0m\u001b[1;33m,\u001b[0m \u001b[1;36m2\u001b[0m \u001b[1;33m)\u001b[0m\u001b[1;33m\u001b[0m\u001b[1;33m\u001b[0m\u001b[0m\n\u001b[0m",
      "\u001b[1;31mValueError\u001b[0m: invalid literal for int() with base 2: '8'"
     ]
    }
   ],
   "source": [
    "int('8', 2 )"
   ]
  },
  {
   "cell_type": "code",
   "execution_count": null,
   "id": "7c173948",
   "metadata": {},
   "outputs": [],
   "source": [
    "def find_big_words(lst):\n",
    "    return sorted( [ word for word in lst if len(word) >=6] )\n",
    "\n",
    "\n",
    "def find_big_words(lst):\n",
    "    res = []\n",
    "    for word in lst:\n",
    "        if len(word) >=6 :\n",
    "            res.append( word )\n",
    "    #for sorting, we can use either list_name.sort() or sorted(list_name)\n",
    "    res.sort()  \n",
    "    #res = sorted(res )\n",
    "    return res"
   ]
  },
  {
   "cell_type": "code",
   "execution_count": 42,
   "id": "7080dd60",
   "metadata": {},
   "outputs": [
    {
     "name": "stdout",
     "output_type": "stream",
     "text": [
      "enter:Monday,sunday,tuesday\n",
      "<class 'str'>\n",
      "['Monday', 'sunday', 'tuesday'] <class 'list'>\n"
     ]
    }
   ],
   "source": [
    "a = input(\"enter:\")\n",
    "print(type(a))\n",
    "\n",
    "a = a.split(',')\n",
    "print( a , type(a) )"
   ]
  },
  {
   "cell_type": "code",
   "execution_count": 46,
   "id": "17d512bf",
   "metadata": {},
   "outputs": [
    {
     "name": "stdout",
     "output_type": "stream",
     "text": [
      "enter:\n",
      "Monday sunday tuesday\n",
      "<class 'str'>\n",
      "['Monday', 'sunday', 'tuesday'] <class 'list'>\n"
     ]
    }
   ],
   "source": [
    "a = input(\"enter:\\n\")\n",
    "print(type(a))\n",
    "\n",
    "a = a.split()\n",
    "print( a , type(a) )"
   ]
  },
  {
   "cell_type": "code",
   "execution_count": 50,
   "id": "9ba96957",
   "metadata": {},
   "outputs": [
    {
     "data": {
      "text/plain": [
       "9"
      ]
     },
     "execution_count": 50,
     "metadata": {},
     "output_type": "execute_result"
    }
   ],
   "source": [
    "def MCQResult(key, paper):\n",
    "    t = 0\n",
    "    for i in range(len(key)):\n",
    "        if not paper[i] :\n",
    "            pass\n",
    "        elif paper[i] == key[i]:\n",
    "            t += 3\n",
    "        else:\n",
    "            t-=1\n",
    "    return t\n",
    "\n",
    "k = [1,3,2,1,4]\n",
    "p=[1,2,2,3,3]\n",
    "\n",
    "k = [4,2,1,2]\n",
    "p=[4,2,0,2]\n",
    "MCQResult(k, p)"
   ]
  },
  {
   "cell_type": "code",
   "execution_count": 60,
   "id": "027d8726",
   "metadata": {},
   "outputs": [
    {
     "data": {
      "text/plain": [
       "'VC'"
      ]
     },
     "execution_count": 60,
     "metadata": {},
     "output_type": "execute_result"
    }
   ],
   "source": [
    "def vowelConsonantSequence(str):\n",
    "    a = {'a','e','i','o','u'}\n",
    "    if not str: return \"\"\n",
    "    s =  \"V\" if str[0] in a else \"C\"\n",
    "    for i in range(1,len(str)):\n",
    "        if str[i] not in a and str[i-1] not in a:\n",
    "            pass\n",
    "        elif str[i]  in a and str[i-1]  in a :\n",
    "            pass\n",
    "        elif str[i] in a :\n",
    "            s += \"V\"\n",
    "        else:\n",
    "            s += 'C'\n",
    "    return s\n",
    "            \n",
    "str ='whereabouts'\n",
    "str ='yoghurt'\n",
    "str = \"ucccc\"\n",
    "vowelConsonantSequence(str)        "
   ]
  },
  {
   "cell_type": "code",
   "execution_count": null,
   "id": "513e0c77",
   "metadata": {},
   "outputs": [],
   "source": []
  }
 ],
 "metadata": {
  "kernelspec": {
   "display_name": "Python 3",
   "language": "python",
   "name": "python3"
  },
  "language_info": {
   "codemirror_mode": {
    "name": "ipython",
    "version": 3
   },
   "file_extension": ".py",
   "mimetype": "text/x-python",
   "name": "python",
   "nbconvert_exporter": "python",
   "pygments_lexer": "ipython3",
   "version": "3.8.8"
  }
 },
 "nbformat": 4,
 "nbformat_minor": 5
}
