{
 "cells": [
  {
   "cell_type": "code",
   "execution_count": 1,
   "id": "c8b713a1",
   "metadata": {},
   "outputs": [
    {
     "name": "stdout",
     "output_type": "stream",
     "text": [
      "for loop\n",
      "17 19 2 n 1 2\n",
      "15 17 2 n 0 1\n",
      "40 35 1 n 0 2\n",
      "15 19 2 n 0 2\n",
      "40 36 1 n 0 1\n",
      "49 53 0 n 1 2\n",
      "\n",
      "for loop\n",
      "36 35 1 n 1 2\n",
      "51 53 0 n 0 2\n",
      "\n",
      "for loop\n",
      "51 49 0 n 0 1\n",
      "\n"
     ]
    },
    {
     "data": {
      "text/plain": [
       "[64, 65, 65]"
      ]
     },
     "execution_count": 1,
     "metadata": {},
     "output_type": "execute_result"
    }
   ],
   "source": [
    "a = [[ 15,14,16], \n",
    "    [16, 14,17],\n",
    "    [23,21,20],\n",
    "     [15,17,19]]\n",
    "\n",
    "mem = { }\n",
    "def dfs( a , n , skip_index  ):\n",
    "    if n == len(a)-1 :\n",
    "        return a[n][skip_index]\n",
    "    \n",
    "    key = (n,skip_index)\n",
    "    if key in mem:\n",
    "        return mem[key]\n",
    "\n",
    "    \n",
    "    l, r = [ j for j in range( 3 ) if j != skip_index  ]\n",
    "\n",
    "    left = dfs( a , n+1 , l )\n",
    "    right = dfs( a , n+1 , r )\n",
    "\n",
    "    print( left, right , n, \"n\",l,r)\n",
    "    mem[key] =  a[n][skip_index] + min( left , right )\n",
    "    \n",
    "    return mem[key]\n",
    "\n",
    "res = []\n",
    "for i in range( 3 ):\n",
    "    print(\"for loop\")\n",
    "    res.append( dfs( a , 0 , i  ) )\n",
    "    print()\n",
    "\n",
    "res"
   ]
  },
  {
   "cell_type": "code",
   "execution_count": 2,
   "id": "77db3c8d",
   "metadata": {},
   "outputs": [
    {
     "name": "stdout",
     "output_type": "stream",
     "text": [
      "for loop\n",
      "17 res 19 n 1 2\n",
      "15 res 17 n 0 1\n",
      "40 res 35 n 0 2\n",
      "17 res 19 n 1 2\n",
      "15 res 19 n 0 2\n",
      "40 res 36 n 0 1\n",
      "49 res 53 n 1 2\n",
      "\n",
      "for loop\n",
      "15 res 19 n 0 2\n",
      "15 res 17 n 0 1\n",
      "36 res 35 n 1 2\n",
      "17 res 19 n 1 2\n",
      "15 res 19 n 0 2\n",
      "40 res 36 n 0 1\n",
      "51 res 53 n 0 2\n",
      "\n",
      "for loop\n",
      "15 res 19 n 0 2\n",
      "15 res 17 n 0 1\n",
      "36 res 35 n 1 2\n",
      "17 res 19 n 1 2\n",
      "15 res 17 n 0 1\n",
      "40 res 35 n 0 2\n",
      "51 res 49 n 0 1\n",
      "\n"
     ]
    },
    {
     "data": {
      "text/plain": [
       "[64, 65, 65]"
      ]
     },
     "execution_count": 2,
     "metadata": {},
     "output_type": "execute_result"
    }
   ],
   "source": [
    "a = [[ 15,14,16], \n",
    "    [16, 14,17],\n",
    "    [23,21,20],\n",
    "     [15,17,19]]\n",
    "\n",
    "mem = { }\n",
    "def dfs( a , n , skip_index  ):\n",
    "    \n",
    "    if n == len(a)-1 :\n",
    "        return a[n][skip_index]\n",
    "    \n",
    "    l, r = [ j for j in range( 3 ) if j != skip_index  ]\n",
    "\n",
    "    left = dfs( a , n+1 , l )\n",
    "    right = dfs( a , n+1 , r )\n",
    "    print(left ,\"res\",right , \"n\",l,r)\n",
    "    \n",
    "    return a[n][skip_index] + min( left , right )\n",
    "\n",
    "res = []\n",
    "for i in range( 3 ):\n",
    "    print(\"for loop\")\n",
    "    res.append( dfs( a , 0 , i  ) )\n",
    "    print()\n",
    "res"
   ]
  },
  {
   "cell_type": "code",
   "execution_count": null,
   "id": "f91c0e49",
   "metadata": {},
   "outputs": [],
   "source": []
  }
 ],
 "metadata": {
  "kernelspec": {
   "display_name": "Python 3",
   "language": "python",
   "name": "python3"
  },
  "language_info": {
   "codemirror_mode": {
    "name": "ipython",
    "version": 3
   },
   "file_extension": ".py",
   "mimetype": "text/x-python",
   "name": "python",
   "nbconvert_exporter": "python",
   "pygments_lexer": "ipython3",
   "version": "3.8.8"
  }
 },
 "nbformat": 4,
 "nbformat_minor": 5
}
