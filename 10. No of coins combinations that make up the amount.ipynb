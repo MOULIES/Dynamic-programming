{
 "cells": [
  {
   "cell_type": "raw",
   "id": "2eb006d0",
   "metadata": {},
   "source": [
    "amount  = 5\n",
    "explantion:\n",
    "There are four ways to make up the amount\n",
    "5 = 5\n",
    "5 = 2+2+1\n",
    "5 = 2+1+1+1\n",
    "5 = 1+1+1+1+1\n",
    "\n",
    "amount  = 6\n",
    "coins = [1,2,5]\n",
    "1+1+1+1+1+1\n",
    "1+1+1+1+2\n",
    "1+1+2+2\n",
    "2+2+2\n",
    "1+5\n"
   ]
  },
  {
   "cell_type": "markdown",
   "id": "1d7f5a27",
   "metadata": {},
   "source": [
    "### recursion"
   ]
  },
  {
   "cell_type": "code",
   "execution_count": 15,
   "id": "a5b8c095",
   "metadata": {},
   "outputs": [],
   "source": [
    "def change_rec( coins, amount , n ):\n",
    "    if amount == 0: return 1\n",
    "    \n",
    "    if n==0 and amount !=0 : return 0\n",
    "    \n",
    "    if amount < coins[n-1]:\n",
    "        return change_rec( coins, amount , n-1 )\n",
    "    else:\n",
    "        return change_rec( coins, amount - coins[n-1] , n ) + change_rec( coins, amount , n-1 )  \n",
    "\n",
    "    "
   ]
  },
  {
   "cell_type": "code",
   "execution_count": 25,
   "id": "252e65a8",
   "metadata": {},
   "outputs": [],
   "source": [
    "def change_mem(  coins,amount):\n",
    "    cache = {}\n",
    "    \n",
    "    def dfs(i, a):\n",
    "        if a == amount :\n",
    "            return 1\n",
    "        if a > amount:\n",
    "            return 0\n",
    "        if i == len(coins):\n",
    "            return 0\n",
    "        if (i,a) in cache:\n",
    "            return cache[(i,a)]\n",
    "        cache[(i,a)] = dfs( i, a+coins[i] ) + dfs( i+1 , a)\n",
    "        return cache[(i,a)]\n",
    "    return dfs(0,0)\n"
   ]
  },
  {
   "cell_type": "code",
   "execution_count": 27,
   "id": "11b8270b",
   "metadata": {},
   "outputs": [
    {
     "name": "stdout",
     "output_type": "stream",
     "text": [
      "5\n",
      "5\n"
     ]
    }
   ],
   "source": [
    "amount  = 6\n",
    "coins = [1,2,5]\n",
    "n = len( coins )\n",
    "print( change_rec( coins, amount , n ) )\n",
    "\n",
    "\n",
    "amount  = 6\n",
    "coins = [1,2,5]\n",
    "n = len( coins )\n",
    "print( change_mem( coins, amount ) )\n",
    "\n"
   ]
  },
  {
   "cell_type": "markdown",
   "id": "35a44a60",
   "metadata": {},
   "source": [
    "### dp \n",
    "run time- O(c*n)  \n",
    "space - O(c*n) "
   ]
  },
  {
   "cell_type": "code",
   "execution_count": 5,
   "id": "1d1cde82",
   "metadata": {},
   "outputs": [],
   "source": [
    "def change_dp( amount , coins ):\n",
    "    n = len( coins )\n",
    "    dp = [[0]*(amount+1)  for i in range( n+1 )]\n",
    "    \n",
    "    dp[0][0] = 1\n",
    "    \n",
    "    for i in range( 1, n+1):\n",
    "        for j in range( amount+1):\n",
    "            if j < coins[i-1]:\n",
    "                dp[i][j] = dp[i-1][j]\n",
    "            else:\n",
    "                dp[i][j] = dp[i-1][j] + dp[i][ j-coins[i-1] ]\n",
    "                \n",
    "    return dp[-1][-1]\n",
    "    "
   ]
  },
  {
   "cell_type": "code",
   "execution_count": 6,
   "id": "55968583",
   "metadata": {},
   "outputs": [
    {
     "data": {
      "text/plain": [
       "4"
      ]
     },
     "execution_count": 6,
     "metadata": {},
     "output_type": "execute_result"
    }
   ],
   "source": [
    "amount  = 5\n",
    "coins = [1,2,5]\n",
    "change_dp( amount , coins )"
   ]
  },
  {
   "cell_type": "markdown",
   "id": "956faf87",
   "metadata": {},
   "source": [
    "### dp- II\n",
    "run time- O(c*n)  \n",
    "space - O(n) "
   ]
  },
  {
   "cell_type": "code",
   "execution_count": 10,
   "id": "9c66d81d",
   "metadata": {},
   "outputs": [],
   "source": [
    "def coinChange1( coins, amount):\n",
    "    dp = [0] *( amount+1)\n",
    "    dp[0] = 1\n",
    "    \n",
    "    for c in coins:\n",
    "        for a in range( 1, amount +1 ) :\n",
    "            if a >= c :\n",
    "                dp[a] = dp[a]+ dp[a-c] \n",
    "#     print( dp )\n",
    "    return dp[-1] "
   ]
  },
  {
   "cell_type": "code",
   "execution_count": 11,
   "id": "12cde8f8",
   "metadata": {},
   "outputs": [
    {
     "data": {
      "text/plain": [
       "4"
      ]
     },
     "execution_count": 11,
     "metadata": {},
     "output_type": "execute_result"
    }
   ],
   "source": [
    "amount  = 5\n",
    "coins = [1,2,5]\n",
    "coinChange1( coins  ,amount  )"
   ]
  },
  {
   "cell_type": "code",
   "execution_count": 8,
   "id": "5b3dbf4e",
   "metadata": {},
   "outputs": [
    {
     "name": "stdout",
     "output_type": "stream",
     "text": [
      "244\n",
      "344\n"
     ]
    }
   ],
   "source": [
    "\n",
    "n = input()\n",
    "l = list(range(1,8))\n",
    "invalid = False\n",
    "even = False\n",
    "for i,v in enumerate(n) :\n",
    "    if int(v) not in  l :\n",
    "        invalid = True\n",
    "    if i == 1 :\n",
    "        if int(v)% 2 == 0:\n",
    "            even = True\n",
    "            \n",
    "if invalid:\n",
    "    print(\"Invalid Number\")\n",
    "elif even:\n",
    "    print( str( int(n[0])+1 )  + n[1]  +  n[2] )  \n",
    "else:\n",
    "    print( n[0]   + n[1]+ str( int(n[2])-1 ) )  "
   ]
  },
  {
   "cell_type": "code",
   "execution_count": null,
   "id": "29d4828e",
   "metadata": {},
   "outputs": [],
   "source": [
    "/*\n",
    "Enter your query below.\n",
    "Please append a semicolon \";\" at the end of the query\n",
    "*/\n",
    "\n",
    "-- with t1 as (  select a.User_name , a.login_date, a.shifts\n",
    "                \n",
    "--             row_number() over ( order by a.login_date) as dates\n",
    "            \n",
    "--             from login_details  a)\n",
    "-- select  login_date, shifts from login_details;\n",
    "-- select * from login_details;"
   ]
  },
  {
   "cell_type": "code",
   "execution_count": 9,
   "id": "d69c8bbc",
   "metadata": {},
   "outputs": [
    {
     "data": {
      "text/plain": [
       "(3, '2017-01-03', 150)"
      ]
     },
     "execution_count": 9,
     "metadata": {},
     "output_type": "execute_result"
    }
   ],
   "source": [
    "(2, '2017-01-02' , 109),  1  1\n",
    "(3    , '2017-01-03' , 150) 2 1\n",
    "\n",
    "(5  , '2017-01-03' , 150) 3  2\n",
    "(6    , '2017-01-03' , 150)4 2"
   ]
  },
  {
   "cell_type": "code",
   "execution_count": null,
   "id": "47266407",
   "metadata": {},
   "outputs": [],
   "source": [
    "(2, '2017-01-02' , 109),  1  1\n",
    "(3    , '2017-01-03' , 150) 2 1\n",
    "(4  , '2017-01-03' , 150) 3 1\n",
    "(5  , '2017-01-03' , 150) 4 1\n",
    "(6    , '2017-01-03' , 150)5 1"
   ]
  }
 ],
 "metadata": {
  "kernelspec": {
   "display_name": "Python 3",
   "language": "python",
   "name": "python3"
  },
  "language_info": {
   "codemirror_mode": {
    "name": "ipython",
    "version": 3
   },
   "file_extension": ".py",
   "mimetype": "text/x-python",
   "name": "python",
   "nbconvert_exporter": "python",
   "pygments_lexer": "ipython3",
   "version": "3.8.8"
  }
 },
 "nbformat": 4,
 "nbformat_minor": 5
}
