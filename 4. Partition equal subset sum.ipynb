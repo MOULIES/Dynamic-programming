{
 "cells": [
  {
   "cell_type": "markdown",
   "id": "18196e46",
   "metadata": {},
   "source": [
    " https://www.geeksforgeeks.org/partition-problem-dp-18/  - code ref\n",
    " \n",
    " https://www.youtube.com/watch?v=obhWqDfzwQQ  - prob exp\n",
    " \n",
    " "
   ]
  },
  {
   "cell_type": "code",
   "execution_count": 5,
   "id": "67231ff2",
   "metadata": {},
   "outputs": [],
   "source": [
    "def isSubsetSum_dp(arr , n, summ):\n",
    "     \n",
    "    dp =[ [False]*(summ + 1) for i in range(n + 1) ]\n",
    "     \n",
    "    # If sum is 0, then answer is true\n",
    "    for i in range(n + 1):\n",
    "        dp[i][0] = True\n",
    "             \n",
    "    # Fill the subset table in bottom up manner\n",
    "    for i in range(1, n + 1):\n",
    "        for j in range(1, summ + 1):\n",
    "            if j< arr[i-1]:\n",
    "                dp[i][j] = dp[i-1][j]\n",
    "            else:\n",
    "                dp[i][j] = ( dp[i-1][j] or  dp[i - 1][j-arr[i-1]] )\n",
    "                \n",
    "#     for i in dp:\n",
    "#         print(i)\n",
    "    return dp[-1][-1]\n",
    "\n",
    "def canPartition( arr ):\n",
    "    \n",
    "    s= sum( arr )\n",
    "    if s%2 != 0:  #sum( arr) & 1  - to check odd sum\n",
    "        return False\n",
    "    \n",
    "    n= len( arr )\n",
    "    return isSubsetSum_dp(arr , n, s//2 )\n",
    "\n"
   ]
  },
  {
   "cell_type": "code",
   "execution_count": 6,
   "id": "4b9a4caa",
   "metadata": {},
   "outputs": [
    {
     "name": "stdout",
     "output_type": "stream",
     "text": [
      "Can be divided into two subsets of equal sum\n"
     ]
    }
   ],
   "source": [
    "\n",
    "arr = [3, 1, 5, 9, 12]\n",
    " \n",
    "# Function call\n",
    "if canPartition(arr) == True:\n",
    "    print(\"Can be divided into two subsets of equal sum\")\n",
    "else:\n",
    "    print(\"Can not be divided into two subsets of equal sum\")"
   ]
  },
  {
   "cell_type": "code",
   "execution_count": null,
   "id": "6cf1919e",
   "metadata": {},
   "outputs": [],
   "source": []
  }
 ],
 "metadata": {
  "kernelspec": {
   "display_name": "Python 3",
   "language": "python",
   "name": "python3"
  },
  "language_info": {
   "codemirror_mode": {
    "name": "ipython",
    "version": 3
   },
   "file_extension": ".py",
   "mimetype": "text/x-python",
   "name": "python",
   "nbconvert_exporter": "python",
   "pygments_lexer": "ipython3",
   "version": "3.8.8"
  }
 },
 "nbformat": 4,
 "nbformat_minor": 5
}
